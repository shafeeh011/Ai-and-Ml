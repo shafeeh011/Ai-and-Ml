{
 "cells": [
  {
   "cell_type": "markdown",
   "metadata": {},
   "source": [
    "# SVM Classifier\n",
    "\n",
    "eqn of hyper plane\n",
    "\n",
    "**Y = Wx - b**\n",
    "\n",
    "**Gradient descent:**\n",
    "\n",
    "Gradient descent is an optimization used for minimizing the loss function in various machine learing algorithm. It is used for updating the weights or parameters in learing algorithm \n",
    "\n",
    "w = w - Ldw\n",
    "\n",
    "b = b - Ldb\n",
    "\n",
    "**Learning Rate:**\n",
    "\n",
    "Learning rate is a tuinging parameter in an optimization algorithm that determines the step size at each iteration while moving towards a minimum of a loss function\n"
   ]
  },
  {
   "cell_type": "markdown",
   "metadata": {},
   "source": []
  },
  {
   "cell_type": "code",
   "execution_count": 1,
   "metadata": {},
   "outputs": [],
   "source": [
    "# import libraries\n",
    "import numpy as np\n",
    "import pandas as pd\n",
    "\n"
   ]
  },
  {
   "cell_type": "code",
   "execution_count": 5,
   "metadata": {},
   "outputs": [
    {
     "ename": "IndentationError",
     "evalue": "unindent does not match any outer indentation level (<string>, line 7)",
     "output_type": "error",
     "traceback": [
      "\u001b[0;36m  File \u001b[0;32m<string>:7\u001b[0;36m\u001b[0m\n\u001b[0;31m    def fit():\u001b[0m\n\u001b[0m              ^\u001b[0m\n\u001b[0;31mIndentationError\u001b[0m\u001b[0;31m:\u001b[0m unindent does not match any outer indentation level\n"
     ]
    }
   ],
   "source": [
    "# Suppot Vector Machine\n",
    " class SVM_classifier():\n",
    "     \n",
    "     # initialize the clasa\n",
    "     \n",
    "     def __init__(self,learning_rate, no_of_iterations):\n",
    "         self.learning_rate = learning_rate\n",
    "         self.no_of_iterations = no_of_iterations\n",
    "        \n",
    "        \n",
    "        \n",
    "        \n",
    "    def fit():\n",
    "        \n",
    "        \n",
    "        \n",
    "     def update_weights():\n",
    "         \n",
    "            \n",
    "        \n",
    "    def predict():\n",
    "        \n",
    "        \n",
    "        \n",
    "    "
   ]
  },
  {
   "cell_type": "code",
   "execution_count": null,
   "metadata": {},
   "outputs": [],
   "source": []
  }
 ],
 "metadata": {
  "kernelspec": {
   "display_name": ".venv",
   "language": "python",
   "name": "python3"
  },
  "language_info": {
   "codemirror_mode": {
    "name": "ipython",
    "version": 3
   },
   "file_extension": ".py",
   "mimetype": "text/x-python",
   "name": "python",
   "nbconvert_exporter": "python",
   "pygments_lexer": "ipython3",
   "version": "3.12.3"
  }
 },
 "nbformat": 4,
 "nbformat_minor": 2
}
