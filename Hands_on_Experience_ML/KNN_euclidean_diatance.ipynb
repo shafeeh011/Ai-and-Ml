{
 "cells": [
  {
   "cell_type": "markdown",
   "metadata": {},
   "source": [
    "**Euclidean Distance Formula - Step by Step**\n",
    "\n",
    "Mathematical Formula:\n",
    "\n",
    "For two points p and q in n-dimensional space\n",
    "\n",
    "d(p,q) = √[(p₁-q₁)² + (p₂-q₂)² + ... + (pₙ-qₙ)²]\n",
    "\n",
    "Components:\n",
    "\n",
    "1. Square differences between coordinates\n",
    "\n",
    "2. Sum all squared differences\n",
    "\n",
    "3. Take square root of sum"
   ]
  },
  {
   "cell_type": "markdown",
   "metadata": {},
   "source": [
    "**Manhattan Distance Implementation Plan**\n",
    "\n",
    "Define mathematical formula: d(p,q) = |p₁-q₁| + |p₂-q₂| + ... + |pₙ-qₙ|\n",
    "\n",
    "1. Create function with numpy vectorization\n",
    "\n",
    "2. Add example usage\n",
    "\n",
    "3. Include docstring with formula"
   ]
  },
  {
   "cell_type": "code",
   "execution_count": 1,
   "metadata": {},
   "outputs": [],
   "source": [
    "#import libraries\n",
    "\n",
    "import numpy as np\n",
    "\n",
    "\n",
    "# consider two points\n",
    "p1 = (1,1,2,3)\n",
    "p2 = (2,2,5,6)"
   ]
  },
  {
   "cell_type": "code",
   "execution_count": 2,
   "metadata": {},
   "outputs": [
    {
     "name": "stdout",
     "output_type": "stream",
     "text": [
      "2 \n",
      " 1.4142135623730951\n"
     ]
    }
   ],
   "source": [
    "# calculate euclidien distance\n",
    "\n",
    "distance = (p1[0] - p2[0])**2 + (p1[1] - p2[1])**2\n",
    "\n",
    "euclidean_distance = np.sqrt(distance)\n",
    "print(distance,'\\n',euclidean_distance)"
   ]
  },
  {
   "cell_type": "code",
   "execution_count": 3,
   "metadata": {},
   "outputs": [
    {
     "name": "stdout",
     "output_type": "stream",
     "text": [
      "4.47213595499958\n"
     ]
    }
   ],
   "source": [
    "# gemarlaised form for calculating the euclidean distance\n",
    "distance = 0\n",
    "for i in range(len(p1)):\n",
    "    distance += (p1[i] - p2[i])**2\n",
    "    \n",
    "euclidean_distance = np.sqrt(distance)\n",
    "print (euclidean_distance)\n",
    "    \n"
   ]
  },
  {
   "cell_type": "code",
   "execution_count": 4,
   "metadata": {},
   "outputs": [
    {
     "name": "stdout",
     "output_type": "stream",
     "text": [
      "8\n"
     ]
    }
   ],
   "source": [
    "# manhatten\n",
    "\n",
    "distance = 0\n",
    "for i in range(len(p1)):\n",
    "    distance += abs(p1[i] - p2[i])\n",
    "    \n",
    "manhatten_distance = distance\n",
    "print (manhatten_distance)\n"
   ]
  },
  {
   "cell_type": "code",
   "execution_count": 6,
   "metadata": {},
   "outputs": [
    {
     "ename": "TypeError",
     "evalue": "array() takes from 1 to 2 positional arguments but 4 were given",
     "output_type": "error",
     "traceback": [
      "\u001b[0;31m---------------------------------------------------------------------------\u001b[0m",
      "\u001b[0;31mTypeError\u001b[0m                                 Traceback (most recent call last)",
      "Cell \u001b[0;32mIn[6], line 1\u001b[0m\n\u001b[0;32m----> 1\u001b[0m training_data_point \u001b[38;5;241m=\u001b[39m \u001b[43mnp\u001b[49m\u001b[38;5;241;43m.\u001b[39;49m\u001b[43marray\u001b[49m\u001b[43m(\u001b[49m\u001b[38;5;241;43m1\u001b[39;49m\u001b[43m,\u001b[49m\u001b[38;5;241;43m1\u001b[39;49m\u001b[43m,\u001b[49m\u001b[38;5;241;43m2\u001b[39;49m\u001b[43m,\u001b[49m\u001b[38;5;241;43m3\u001b[39;49m\u001b[43m)\u001b[49m\n\u001b[1;32m      2\u001b[0m testing_data_point \u001b[38;5;241m=\u001b[39m np\u001b[38;5;241m.\u001b[39marray(\u001b[38;5;241m2\u001b[39m,\u001b[38;5;241m2\u001b[39m,\u001b[38;5;241m5\u001b[39m,\u001b[38;5;241m6\u001b[39m)\n\u001b[1;32m      3\u001b[0m distance \u001b[38;5;241m=\u001b[39m np\u001b[38;5;241m.\u001b[39msqrt(np\u001b[38;5;241m.\u001b[39msum(training_data_point \u001b[38;5;241m-\u001b[39m testing_data_point)\u001b[38;5;241m*\u001b[39m\u001b[38;5;241m*\u001b[39m\u001b[38;5;241m2\u001b[39m)\n",
      "\u001b[0;31mTypeError\u001b[0m: array() takes from 1 to 2 positional arguments but 4 were given"
     ]
    }
   ],
   "source": [
    "\n",
    "training_data_point = np.array(1,1,2,3)\n",
    "testing_data_point = np.array(2,2,5,6)\n",
    "distance = np.sqrt(np.sum(training_data_point - testing_data_point)**2)"
   ]
  },
  {
   "cell_type": "code",
   "execution_count": null,
   "metadata": {},
   "outputs": [],
   "source": []
  }
 ],
 "metadata": {
  "kernelspec": {
   "display_name": ".venv",
   "language": "python",
   "name": "python3"
  },
  "language_info": {
   "codemirror_mode": {
    "name": "ipython",
    "version": 3
   },
   "file_extension": ".py",
   "mimetype": "text/x-python",
   "name": "python",
   "nbconvert_exporter": "python",
   "pygments_lexer": "ipython3",
   "version": "3.12.3"
  }
 },
 "nbformat": 4,
 "nbformat_minor": 2
}
