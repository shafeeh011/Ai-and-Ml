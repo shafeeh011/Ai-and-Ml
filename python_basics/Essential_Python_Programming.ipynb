{
  "cells": [
    {
      "cell_type": "markdown",
      "metadata": {
        "id": "tlMFsQRtG4q6"
      },
      "source": [
        "#  Essential Python Programming\n",
        "It was created by Guido van Rossum, and released in 1991."
      ]
    },
    {
      "cell_type": "markdown",
      "metadata": {
        "id": "aZ_2WmlWG4q9"
      },
      "source": [
        "It is used for:\n",
        "- web development (server-side)\n",
        "- software development\n",
        "- mathematics\n",
        "- system scripting"
      ]
    },
    {
      "cell_type": "markdown",
      "metadata": {
        "id": "0MhltclhG4q-"
      },
      "source": [
        "Python runs on an interpreter system"
      ]
    },
    {
      "cell_type": "markdown",
      "metadata": {
        "id": "-hSwaJN0G4q_"
      },
      "source": [
        "Python can be treated in a procedural way, an object-orientated way or a functional way"
      ]
    },
    {
      "cell_type": "code",
      "source": [
        "print('Hello World')"
      ],
      "metadata": {
        "colab": {
          "base_uri": "https://localhost:8080/"
        },
        "id": "DkyOg6YJOtcc",
        "outputId": "8844af94-ae63-44e7-f7ee-7cf4eb4a99d2"
      },
      "execution_count": null,
      "outputs": [
        {
          "output_type": "stream",
          "name": "stdout",
          "text": [
            "Hello World\n"
          ]
        }
      ]
    },
    {
      "cell_type": "code",
      "execution_count": null,
      "metadata": {
        "colab": {
          "base_uri": "https://localhost:8080/"
        },
        "id": "lGt_cgLAG4q_",
        "outputId": "34960c3a-d05c-40fe-ac01-3ba8d016a632"
      },
      "outputs": [
        {
          "output_type": "stream",
          "name": "stdout",
          "text": [
            "9.9\n"
          ]
        }
      ],
      "source": [
        "a= 5.7\n",
        "b=4.2\n",
        "c=a+b\n",
        "print(c)"
      ]
    },
    {
      "cell_type": "code",
      "execution_count": null,
      "metadata": {
        "colab": {
          "base_uri": "https://localhost:8080/"
        },
        "id": "Hqt1kYIVG4rA",
        "outputId": "99491d2c-6a94-4845-9220-9d953da91ea0"
      },
      "outputs": [
        {
          "output_type": "stream",
          "name": "stdout",
          "text": [
            "1.5\n"
          ]
        }
      ],
      "source": [
        "print(a-b)"
      ]
    },
    {
      "cell_type": "markdown",
      "metadata": {
        "id": "8H8QkCDIG4rB"
      },
      "source": [
        "## Python Operators\n",
        "\n",
        "1. Arithmetic operators\n",
        "2. Assignment operators\n",
        "3. Comparison operators\n",
        "4. Logical operators\n",
        "5. Identity operators\n",
        "6. Membership operators\n",
        "7. Bitwise operators"
      ]
    },
    {
      "cell_type": "markdown",
      "metadata": {
        "id": "EjG96ESwG4rC"
      },
      "source": [
        "### Arithmetic operator\n",
        "- Addition         x+y\n",
        "- Subtraction      x-y\n",
        "- Multiplication   x*y\n",
        "- Division\tx / y\n",
        "- Modulus\tx % y\n",
        "- Exponentiation\tx ** y\n",
        "- Floor division\tx // y"
      ]
    },
    {
      "cell_type": "code",
      "execution_count": null,
      "metadata": {
        "colab": {
          "base_uri": "https://localhost:8080/"
        },
        "id": "u57a_7meG4rD",
        "outputId": "da0bb911-f684-4bf9-a04a-aee958fb70c9"
      },
      "outputs": [
        {
          "output_type": "stream",
          "name": "stdout",
          "text": [
            "1.5\n"
          ]
        }
      ],
      "source": [
        "a=15\n",
        "b=10\n",
        "print(a/b)"
      ]
    },
    {
      "cell_type": "code",
      "execution_count": null,
      "metadata": {
        "colab": {
          "base_uri": "https://localhost:8080/"
        },
        "id": "wNYLfqNtG4rD",
        "outputId": "b5453097-c874-4c64-8081-232bddc4f36e"
      },
      "outputs": [
        {
          "output_type": "stream",
          "name": "stdout",
          "text": [
            "1\n"
          ]
        }
      ],
      "source": [
        "print(a//b)"
      ]
    },
    {
      "cell_type": "code",
      "execution_count": null,
      "metadata": {
        "colab": {
          "base_uri": "https://localhost:8080/"
        },
        "id": "69YDrei6G4rE",
        "outputId": "c8176f7f-67ad-45dd-bd8c-a09c12ae0ee8"
      },
      "outputs": [
        {
          "output_type": "stream",
          "name": "stdout",
          "text": [
            "5\n"
          ]
        }
      ],
      "source": [
        "print(a%b)"
      ]
    },
    {
      "cell_type": "markdown",
      "metadata": {
        "id": "IJoWNWaLG4rF"
      },
      "source": [
        "### Logical Operators\n",
        "- and \t----->\tx < 5 and  x < 10\n",
        "- or\t----->\tx < 5 or x < 4\n",
        "- not\t----->\tnot(x < 5 and x < 10)"
      ]
    },
    {
      "cell_type": "code",
      "execution_count": null,
      "metadata": {
        "colab": {
          "base_uri": "https://localhost:8080/"
        },
        "id": "m18DpOfpG4rF",
        "outputId": "d650fad3-030b-4dda-886d-3023a998b31f"
      },
      "outputs": [
        {
          "output_type": "stream",
          "name": "stdout",
          "text": [
            "False\n",
            "True\n",
            "True\n"
          ]
        }
      ],
      "source": [
        "a=False\n",
        "b=True\n",
        "print(a and b)\n",
        "print(a or b)\n",
        "print(not(a and b))"
      ]
    },
    {
      "cell_type": "code",
      "execution_count": null,
      "metadata": {
        "colab": {
          "base_uri": "https://localhost:8080/"
        },
        "id": "gi3lsbrFG4rF",
        "outputId": "2d186c2c-eb8e-46b3-cb4e-a2fecbbff6c5"
      },
      "outputs": [
        {
          "output_type": "stream",
          "name": "stdout",
          "text": [
            "True\n"
          ]
        }
      ],
      "source": [
        "a=False\n",
        "b=False\n",
        "print(not(a or b))"
      ]
    },
    {
      "cell_type": "code",
      "execution_count": null,
      "metadata": {
        "colab": {
          "base_uri": "https://localhost:8080/"
        },
        "id": "16W7qd5oG4rG",
        "outputId": "ff1ea317-10a7-4f79-fa4d-2c78ce4f730b"
      },
      "outputs": [
        {
          "output_type": "stream",
          "name": "stdout",
          "text": [
            "True\n"
          ]
        }
      ],
      "source": [
        "print(not(b))"
      ]
    },
    {
      "cell_type": "markdown",
      "metadata": {
        "id": "gPdmmWNxG4rG"
      },
      "source": [
        "### Identity operators\n",
        "Used to compare the objects\n",
        "- is\n",
        "- is not"
      ]
    },
    {
      "cell_type": "code",
      "execution_count": null,
      "metadata": {
        "colab": {
          "base_uri": "https://localhost:8080/"
        },
        "id": "B3UCLhrcG4rG",
        "outputId": "c00f407d-7ca8-45b1-c251-9bf96e2798a9"
      },
      "outputs": [
        {
          "output_type": "stream",
          "name": "stdout",
          "text": [
            "True\n"
          ]
        }
      ],
      "source": [
        "x = [\"apple\", \"banana\"]\n",
        "y = [\"apple\", \"banana\"]\n",
        "z = x\n",
        "print(x is z)  #z is assigned the same reference as x, meaning z points to the same list object in memory as x.\n"
      ]
    },
    {
      "cell_type": "code",
      "execution_count": null,
      "metadata": {
        "colab": {
          "base_uri": "https://localhost:8080/"
        },
        "id": "ORlArNW4G4rH",
        "outputId": "25a08d68-b07a-4373-e028-2c239b1504c5"
      },
      "outputs": [
        {
          "output_type": "stream",
          "name": "stdout",
          "text": [
            "False\n"
          ]
        }
      ],
      "source": [
        "print(x is y)"
      ]
    },
    {
      "cell_type": "code",
      "source": [
        "w = x[:] #new list that is a copy of x\n",
        "print(x is w)"
      ],
      "metadata": {
        "colab": {
          "base_uri": "https://localhost:8080/"
        },
        "id": "2w76RRlTIZhX",
        "outputId": "ab6dd330-1002-40e1-b42a-dd989ac0bf70"
      },
      "execution_count": null,
      "outputs": [
        {
          "output_type": "stream",
          "name": "stdout",
          "text": [
            "False\n"
          ]
        }
      ]
    },
    {
      "cell_type": "code",
      "source": [
        "z = x.copy()  #new list that is a copy of x\n",
        "print(x is z)"
      ],
      "metadata": {
        "colab": {
          "base_uri": "https://localhost:8080/"
        },
        "id": "t-MH7nEdIlIv",
        "outputId": "77c983a1-4d2d-489b-9581-2e8d1a6cd82e"
      },
      "execution_count": null,
      "outputs": [
        {
          "output_type": "stream",
          "name": "stdout",
          "text": [
            "False\n"
          ]
        }
      ]
    },
    {
      "cell_type": "code",
      "execution_count": null,
      "metadata": {
        "colab": {
          "base_uri": "https://localhost:8080/"
        },
        "id": "z4zZarT-G4rH",
        "outputId": "c6f80a1b-455c-4800-d1aa-d3b327cf6d34"
      },
      "outputs": [
        {
          "output_type": "stream",
          "name": "stdout",
          "text": [
            "True\n"
          ]
        }
      ],
      "source": [
        "print(x == y)"
      ]
    },
    {
      "cell_type": "markdown",
      "metadata": {
        "id": "OKGtpIy0G4rI"
      },
      "source": [
        "### Membership operators\n",
        "Used to test if a sequence is presented in an object\n",
        "- in\n",
        "- not in"
      ]
    },
    {
      "cell_type": "code",
      "execution_count": null,
      "metadata": {
        "colab": {
          "base_uri": "https://localhost:8080/"
        },
        "id": "0erRaRVeG4rI",
        "outputId": "1c080567-4f84-4b31-db33-aed95d7e3daa"
      },
      "outputs": [
        {
          "output_type": "stream",
          "name": "stdout",
          "text": [
            "True\n"
          ]
        }
      ],
      "source": [
        "x = [\"apple\", \"banana\"]\n",
        "print(\"banana\" in x)"
      ]
    },
    {
      "cell_type": "code",
      "execution_count": null,
      "metadata": {
        "colab": {
          "base_uri": "https://localhost:8080/"
        },
        "id": "GOAtxvKmG4rI",
        "outputId": "51ad70dd-339a-4098-e05d-ecb8f6aaba1b"
      },
      "outputs": [
        {
          "output_type": "stream",
          "name": "stdout",
          "text": [
            "True\n"
          ]
        }
      ],
      "source": [
        "print(\"pineapple\" not in x)"
      ]
    },
    {
      "cell_type": "markdown",
      "metadata": {
        "id": "2XQoXO7xG4rI"
      },
      "source": [
        "#### type() functtion"
      ]
    },
    {
      "cell_type": "code",
      "execution_count": null,
      "metadata": {
        "colab": {
          "base_uri": "https://localhost:8080/"
        },
        "id": "morHWaHnG4rI",
        "outputId": "774be595-4fc3-4167-b043-e1c10776e7b1"
      },
      "outputs": [
        {
          "output_type": "stream",
          "name": "stdout",
          "text": [
            "<class 'bool'>\n"
          ]
        }
      ],
      "source": [
        "print(type(a))"
      ]
    },
    {
      "cell_type": "code",
      "execution_count": null,
      "metadata": {
        "colab": {
          "base_uri": "https://localhost:8080/"
        },
        "id": "UHu9Xxx9G4rJ",
        "outputId": "5b899bd8-4e5d-4517-c74c-b3c7eeee3567"
      },
      "outputs": [
        {
          "output_type": "stream",
          "name": "stdout",
          "text": [
            "1.5\n",
            "<class 'float'>\n"
          ]
        }
      ],
      "source": [
        "f=1.5\n",
        "print(f)\n",
        "print(type(f))"
      ]
    },
    {
      "cell_type": "code",
      "execution_count": null,
      "metadata": {
        "colab": {
          "base_uri": "https://localhost:8080/"
        },
        "id": "Y2MvYZ5jG4rJ",
        "outputId": "ab8e11ca-1f01-4e6f-f428-f42bdf1d3591"
      },
      "outputs": [
        {
          "output_type": "stream",
          "name": "stdout",
          "text": [
            "Hello\n",
            "<class 'str'>\n"
          ]
        }
      ],
      "source": [
        "s=\"Hello\"\n",
        "print(s)\n",
        "print(type(s))"
      ]
    },
    {
      "cell_type": "code",
      "execution_count": null,
      "metadata": {
        "colab": {
          "base_uri": "https://localhost:8080/"
        },
        "id": "bOXZj4rwG4rJ",
        "outputId": "09d5ea7d-7eec-4709-f714-7068193da8e1"
      },
      "outputs": [
        {
          "output_type": "stream",
          "name": "stdout",
          "text": [
            "True\n",
            "<class 'bool'>\n"
          ]
        }
      ],
      "source": [
        "b=True\n",
        "print(b)\n",
        "print(type(b))"
      ]
    },
    {
      "cell_type": "code",
      "execution_count": null,
      "metadata": {
        "colab": {
          "base_uri": "https://localhost:8080/"
        },
        "id": "tAXQutxKG4rJ",
        "outputId": "9135be90-3f7b-4269-e580-5d76b007d939"
      },
      "outputs": [
        {
          "output_type": "stream",
          "name": "stdout",
          "text": [
            "(5+3j)\n",
            "<class 'complex'>\n"
          ]
        }
      ],
      "source": [
        "c=5+3j\n",
        "print(c)\n",
        "print(type(c))"
      ]
    },
    {
      "cell_type": "markdown",
      "metadata": {
        "id": "OVJ6O344G4rK"
      },
      "source": [
        "## Strings"
      ]
    },
    {
      "cell_type": "code",
      "execution_count": null,
      "metadata": {
        "colab": {
          "base_uri": "https://localhost:8080/"
        },
        "id": "EK-qF966G4rK",
        "outputId": "7bdc9aed-4f22-4e26-fefe-4fc95e36d5f7"
      },
      "outputs": [
        {
          "output_type": "stream",
          "name": "stdout",
          "text": [
            "haihello\n"
          ]
        }
      ],
      "source": [
        "s1='hai'\n",
        "s2=\"hello\"\n",
        "s3=s1+s2\n",
        "print(s3)"
      ]
    },
    {
      "cell_type": "code",
      "execution_count": null,
      "metadata": {
        "colab": {
          "base_uri": "https://localhost:8080/"
        },
        "id": "xvWhM6wnG4rK",
        "outputId": "5ee8a35c-f621-4b73-caca-d0acfdf1e6a5"
      },
      "outputs": [
        {
          "output_type": "stream",
          "name": "stdout",
          "text": [
            "8\n"
          ]
        }
      ],
      "source": [
        "print(len(s3))"
      ]
    },
    {
      "cell_type": "code",
      "execution_count": null,
      "metadata": {
        "colab": {
          "base_uri": "https://localhost:8080/"
        },
        "id": "-0zVRArOG4rK",
        "outputId": "ade35af9-437c-4846-d130-75eeab3e46d0"
      },
      "outputs": [
        {
          "output_type": "stream",
          "name": "stdout",
          "text": [
            "HAIHELLO\n"
          ]
        }
      ],
      "source": [
        "print(s3.upper())"
      ]
    },
    {
      "cell_type": "code",
      "execution_count": null,
      "metadata": {
        "colab": {
          "base_uri": "https://localhost:8080/"
        },
        "id": "kT_F10rgG4rL",
        "outputId": "6e95c80d-7f60-453a-9cb7-6ecddc8ab8d6"
      },
      "outputs": [
        {
          "output_type": "stream",
          "name": "stdout",
          "text": [
            "haihello\n"
          ]
        }
      ],
      "source": [
        "print(s3.lower())"
      ]
    },
    {
      "cell_type": "code",
      "execution_count": null,
      "metadata": {
        "colab": {
          "base_uri": "https://localhost:8080/"
        },
        "id": "5OBEK7jCG4rL",
        "outputId": "57509857-4100-4a53-f54c-cfde77711436"
      },
      "outputs": [
        {
          "output_type": "stream",
          "name": "stdout",
          "text": [
            "Haihello\n"
          ]
        }
      ],
      "source": [
        "print(s3.capitalize())"
      ]
    },
    {
      "cell_type": "code",
      "execution_count": null,
      "metadata": {
        "colab": {
          "base_uri": "https://localhost:8080/"
        },
        "id": "EAMlBlYvG4rL",
        "outputId": "02962026-a0d5-4879-a54b-fb45e089f657"
      },
      "outputs": [
        {
          "output_type": "stream",
          "name": "stdout",
          "text": [
            "False + True = Hello\n"
          ]
        }
      ],
      "source": [
        "print(a,'+',b,'=',s)"
      ]
    },
    {
      "cell_type": "code",
      "execution_count": null,
      "metadata": {
        "id": "kK389yg9G4rM"
      },
      "outputs": [],
      "source": [
        "s3='%s %s' %(s1,s2)"
      ]
    },
    {
      "cell_type": "code",
      "execution_count": null,
      "metadata": {
        "colab": {
          "base_uri": "https://localhost:8080/"
        },
        "id": "rCqAE2CsG4rM",
        "outputId": "3955d420-5dd4-4b8b-e62e-e26219c8a01a"
      },
      "outputs": [
        {
          "output_type": "stream",
          "name": "stdout",
          "text": [
            "hai hello\n"
          ]
        }
      ],
      "source": [
        "print(s3)"
      ]
    },
    {
      "cell_type": "markdown",
      "metadata": {
        "id": "f9ANVy5FG4rN"
      },
      "source": [
        "#### split() function"
      ]
    },
    {
      "cell_type": "code",
      "execution_count": null,
      "metadata": {
        "colab": {
          "base_uri": "https://localhost:8080/"
        },
        "id": "yHnVxzKoG4rN",
        "outputId": "5180c137-262d-4118-edab-fdccb3f6c0ae"
      },
      "outputs": [
        {
          "output_type": "stream",
          "name": "stdout",
          "text": [
            "['helllo', 'word', 'how', 'are', 'you']\n"
          ]
        }
      ],
      "source": [
        "word='helllo word how are you'.split(' ')\n",
        "print(word)"
      ]
    },
    {
      "cell_type": "code",
      "execution_count": null,
      "metadata": {
        "colab": {
          "base_uri": "https://localhost:8080/"
        },
        "id": "4Yc7uJrkG4rU",
        "outputId": "a41ff950-e84f-4ba9-a108-4084a55be306"
      },
      "outputs": [
        {
          "output_type": "execute_result",
          "data": {
            "text/plain": [
              "['helllo', 'word', 'how', 'are', 'you']"
            ]
          },
          "metadata": {},
          "execution_count": 3
        }
      ],
      "source": [
        "word"
      ]
    },
    {
      "cell_type": "markdown",
      "metadata": {
        "id": "Lqt6Sb-7G4rU"
      },
      "source": [
        "#### Input() Function"
      ]
    },
    {
      "cell_type": "code",
      "execution_count": null,
      "metadata": {
        "colab": {
          "base_uri": "https://localhost:8080/"
        },
        "id": "R_25eW_wG4rU",
        "outputId": "f5f811ca-95d8-49b4-8223-3db83c4c6c64"
      },
      "outputs": [
        {
          "output_type": "stream",
          "name": "stdout",
          "text": [
            "Enter a value :5\n",
            "5\n",
            "<class 'str'>\n"
          ]
        }
      ],
      "source": [
        "a=input(\"Enter a value :\")\n",
        "print(a)\n",
        "print(type(a))"
      ]
    },
    {
      "cell_type": "code",
      "execution_count": null,
      "metadata": {
        "colab": {
          "base_uri": "https://localhost:8080/"
        },
        "id": "aW37gh2hG4rU",
        "outputId": "c6e75280-6796-479e-b752-4b7c2da58f6d"
      },
      "outputs": [
        {
          "output_type": "stream",
          "name": "stdout",
          "text": [
            "Enter a value :3\n",
            "3\n",
            "<class 'int'>\n"
          ]
        }
      ],
      "source": [
        "a=int(input(\"Enter a value :\"))\n",
        "print(a)\n",
        "print(type(a))"
      ]
    },
    {
      "cell_type": "markdown",
      "metadata": {
        "id": "b_YlKwcOG4rV"
      },
      "source": [
        "###### Sum and Avarage"
      ]
    },
    {
      "cell_type": "code",
      "execution_count": null,
      "metadata": {
        "colab": {
          "base_uri": "https://localhost:8080/"
        },
        "id": "_89VxXLjG4rV",
        "outputId": "ba7d9450-07bc-45c8-d24b-be34a4099ae1"
      },
      "outputs": [
        {
          "output_type": "stream",
          "name": "stdout",
          "text": [
            "Enter a value for A :1\n",
            "Enter a value for B:2\n",
            "Enter a value for C :3\n",
            "Sum = 6\n",
            "Average = 2.0\n"
          ]
        }
      ],
      "source": [
        "a=int(input(\"Enter a value for A :\"))\n",
        "b=int(input(\"Enter a value for B:\"))\n",
        "c=int(input(\"Enter a value for C :\"))\n",
        "sum=a+b+c\n",
        "avg=sum/3\n",
        "print('Sum =',sum)\n",
        "print(\"Average =\", avg)"
      ]
    },
    {
      "cell_type": "markdown",
      "metadata": {
        "id": "yH5hbvkdG4rV"
      },
      "source": [
        "###### Sum of Digits"
      ]
    },
    {
      "cell_type": "code",
      "execution_count": null,
      "metadata": {
        "colab": {
          "base_uri": "https://localhost:8080/"
        },
        "id": "eLnipx1FG4rV",
        "outputId": "682fe947-cf02-478b-955b-37732eab9fa4"
      },
      "outputs": [
        {
          "output_type": "stream",
          "name": "stdout",
          "text": [
            "Enter a value :234\n",
            "9\n"
          ]
        }
      ],
      "source": [
        "n=int(input(\"Enter a value :\"))\n",
        "s=0\n",
        "while n>0:\n",
        " d=n%10\n",
        " n=n//10\n",
        " s=s+d\n",
        "print(s)"
      ]
    },
    {
      "cell_type": "markdown",
      "metadata": {
        "id": "BdSlGluEG4rW"
      },
      "source": [
        "## Control structures\n"
      ]
    },
    {
      "cell_type": "markdown",
      "metadata": {
        "id": "J-tq9jnfG4rW"
      },
      "source": [
        "1- Branching\n",
        "\n",
        "2- Looping"
      ]
    },
    {
      "cell_type": "markdown",
      "metadata": {
        "id": "mqflOftxG4rW"
      },
      "source": [
        "### Branching"
      ]
    },
    {
      "cell_type": "markdown",
      "metadata": {
        "id": "CdMhtM2JG4rW"
      },
      "source": [
        "if\n",
        "\n",
        "if-else\n",
        "\n",
        "if-elif-else"
      ]
    },
    {
      "cell_type": "markdown",
      "metadata": {
        "id": "jbUJRlcnG4rW"
      },
      "source": [
        "1. Check the given number is negative,zero or positive"
      ]
    },
    {
      "cell_type": "code",
      "execution_count": null,
      "metadata": {
        "colab": {
          "base_uri": "https://localhost:8080/"
        },
        "id": "G5dbssrOG4rX",
        "outputId": "4c5b8c3c-081a-4320-e035-6a8771c0c4af"
      },
      "outputs": [
        {
          "output_type": "stream",
          "name": "stdout",
          "text": [
            "Enter a value :5\n",
            "The number is Positive\n"
          ]
        }
      ],
      "source": [
        "n=int(input(\"Enter a value :\"))\n",
        "if n>0:\n",
        "    print(\"The number is Positive\")\n",
        "elif n<0:\n",
        "    print(\"The number is Negative\")\n",
        "else:\n",
        "    print(\"The number is Zero\")"
      ]
    },
    {
      "cell_type": "markdown",
      "source": [
        "Note\n",
        "\n",
        "*   Take care of indentation !\n",
        "*   Don’t forget to put  ‘ : ’ at the end\n",
        "*   Remember its elif not else if\n",
        "\n"
      ],
      "metadata": {
        "id": "h0SFSUpcT24P"
      }
    },
    {
      "cell_type": "markdown",
      "metadata": {
        "id": "md-eQUkMG4rb"
      },
      "source": [
        "### for loop"
      ]
    },
    {
      "cell_type": "markdown",
      "metadata": {
        "id": "4US3wrTwG4rX"
      },
      "source": [
        "##### range( ) function"
      ]
    },
    {
      "cell_type": "code",
      "execution_count": null,
      "metadata": {
        "id": "CMPPh2CvG4rY",
        "outputId": "9ed512eb-48f3-42cb-e7e6-032097de0b5d"
      },
      "outputs": [
        {
          "name": "stdout",
          "output_type": "stream",
          "text": [
            "0\n",
            "1\n",
            "2\n",
            "3\n",
            "4\n",
            "5\n",
            "6\n",
            "7\n",
            "8\n",
            "9\n"
          ]
        }
      ],
      "source": [
        "for x in range(10):\n",
        "    print(x)"
      ]
    },
    {
      "cell_type": "code",
      "execution_count": null,
      "metadata": {
        "id": "MIpGi8GpG4rY",
        "outputId": "c8bb36ca-a1dd-48d7-ae39-305d2dca4a6a"
      },
      "outputs": [
        {
          "name": "stdout",
          "output_type": "stream",
          "text": [
            "0 1 2 3 4 5 6 7 8 9 "
          ]
        }
      ],
      "source": [
        "for x in range(10):\n",
        "    print(x, end=' ')"
      ]
    },
    {
      "cell_type": "code",
      "execution_count": null,
      "metadata": {
        "colab": {
          "base_uri": "https://localhost:8080/"
        },
        "id": "AJIAxRwNG4rX",
        "outputId": "d82163b4-08b7-4729-ed94-2b042a3b03c2"
      },
      "outputs": [
        {
          "output_type": "stream",
          "name": "stdout",
          "text": [
            "10\n",
            "9\n",
            "8\n",
            "7\n",
            "6\n"
          ]
        }
      ],
      "source": [
        "for i in range(10,5,-1):\n",
        "    print(i)"
      ]
    },
    {
      "cell_type": "code",
      "execution_count": null,
      "metadata": {
        "colab": {
          "base_uri": "https://localhost:8080/"
        },
        "id": "_PoJ5wpmG4rb",
        "outputId": "6e2bac15-34ef-4770-8414-bb820f1f855c"
      },
      "outputs": [
        {
          "output_type": "stream",
          "name": "stdout",
          "text": [
            "1\n",
            "2\n",
            "4\n",
            "8\n",
            "16\n",
            "32\n",
            "64\n",
            "128\n",
            "256\n",
            "512\n"
          ]
        }
      ],
      "source": [
        "\n",
        "for i in range(10):\n",
        "    print(pow(2,i))"
      ]
    },
    {
      "cell_type": "markdown",
      "metadata": {
        "id": "lT2BpPHpG4rY"
      },
      "source": [
        "### while loop"
      ]
    },
    {
      "cell_type": "code",
      "execution_count": null,
      "metadata": {
        "colab": {
          "base_uri": "https://localhost:8080/"
        },
        "id": "dNVm3TDFG4rZ",
        "outputId": "f5102732-4827-4b13-9a6c-ab0e27f5b701"
      },
      "outputs": [
        {
          "output_type": "stream",
          "name": "stdout",
          "text": [
            "1\n",
            "2\n",
            "4\n",
            "8\n",
            "16\n",
            "32\n",
            "64\n",
            "128\n",
            "256\n",
            "512\n"
          ]
        }
      ],
      "source": [
        "i=1\n",
        "c=0\n",
        "while c<10:\n",
        "    print(i)\n",
        "    i=i*2\n",
        "    c=c+1"
      ]
    },
    {
      "cell_type": "markdown",
      "metadata": {
        "id": "sLywKEIwG4ra"
      },
      "source": [
        "Print n terms of the sequence 1 2 4 7 11 16....."
      ]
    },
    {
      "cell_type": "code",
      "execution_count": null,
      "metadata": {
        "colab": {
          "base_uri": "https://localhost:8080/"
        },
        "id": "iEAwZ35HG4ra",
        "outputId": "0108db48-e751-42cc-c60a-8fdd4ecc8fd9"
      },
      "outputs": [
        {
          "output_type": "stream",
          "name": "stdout",
          "text": [
            "1 2 4 7 11 16 22 29 37 46 "
          ]
        }
      ],
      "source": [
        "i=1\n",
        "c=1\n",
        "while c<=10:\n",
        "    print(i, end=' ')\n",
        "    i=i+c\n",
        "    c=c+1"
      ]
    },
    {
      "cell_type": "code",
      "execution_count": null,
      "metadata": {
        "colab": {
          "base_uri": "https://localhost:8080/"
        },
        "id": "i1pvuuGxG4rb",
        "outputId": "d4d92c2e-0149-4f81-d2f9-3a327dfb6f61"
      },
      "outputs": [
        {
          "output_type": "stream",
          "name": "stdout",
          "text": [
            "0 1 1 2 3 5 8 "
          ]
        }
      ],
      "source": [
        "a=1\n",
        "b=0\n",
        "while b <=10:\n",
        "    print(b, end=' ')\n",
        "    c = a+b\n",
        "    a=b\n",
        "    b=c"
      ]
    },
    {
      "cell_type": "markdown",
      "metadata": {
        "id": "PY3cnGKDG4rb"
      },
      "source": [
        "## Continers"
      ]
    },
    {
      "cell_type": "markdown",
      "metadata": {
        "id": "wBWMjfMmG4rc"
      },
      "source": [
        "Python Collections (Arrays)- There are four collection data types in the Python"
      ]
    },
    {
      "cell_type": "markdown",
      "metadata": {
        "id": "FvjT0sSLG4rc"
      },
      "source": [
        "1. List\n",
        "2. Tuple\n",
        "3. Dictionary\n",
        "4. Set"
      ]
    },
    {
      "cell_type": "markdown",
      "metadata": {
        "id": "iMHj_bTTG4rc"
      },
      "source": [
        "### List [ ]"
      ]
    },
    {
      "cell_type": "markdown",
      "metadata": {
        "id": "5cnGAocFG4rc"
      },
      "source": [
        "List is a collection which is ordered and changeable. Allows duplicate members."
      ]
    },
    {
      "cell_type": "code",
      "execution_count": null,
      "metadata": {
        "colab": {
          "base_uri": "https://localhost:8080/"
        },
        "id": "augmG5XYG4rd",
        "outputId": "e2496b2d-6244-45e0-c860-df3464179b7b"
      },
      "outputs": [
        {
          "output_type": "stream",
          "name": "stdout",
          "text": [
            "[1, 2, 1, 2.5, True, 'a', 'abc']\n"
          ]
        }
      ],
      "source": [
        "mylist = [1,2,1,2.5,True,\"a\",'abc']\n",
        "print(mylist)"
      ]
    },
    {
      "cell_type": "code",
      "execution_count": null,
      "metadata": {
        "colab": {
          "base_uri": "https://localhost:8080/"
        },
        "id": "9mpK7EpuG4rd",
        "outputId": "5d5131c4-3a09-4208-dbc7-48eec71b1035"
      },
      "outputs": [
        {
          "output_type": "stream",
          "name": "stdout",
          "text": [
            "True\n"
          ]
        }
      ],
      "source": [
        "print(mylist[4])"
      ]
    },
    {
      "cell_type": "code",
      "execution_count": null,
      "metadata": {
        "colab": {
          "base_uri": "https://localhost:8080/"
        },
        "id": "Z6XbqgXkG4re",
        "outputId": "18014cc2-eadb-4801-974c-2cd00d5b4366"
      },
      "outputs": [
        {
          "output_type": "stream",
          "name": "stdout",
          "text": [
            "[1, 2, 1, 2.5, True, 'a', 'abc', 'xyz']\n"
          ]
        }
      ],
      "source": [
        "mylist.append(\"xyz\")\n",
        "print(mylist)"
      ]
    },
    {
      "cell_type": "code",
      "execution_count": null,
      "metadata": {
        "colab": {
          "base_uri": "https://localhost:8080/"
        },
        "id": "KBRKdsnxG4re",
        "outputId": "4a309416-cec8-43bf-c497-0694b8493916"
      },
      "outputs": [
        {
          "output_type": "stream",
          "name": "stdout",
          "text": [
            "xyz\n"
          ]
        }
      ],
      "source": [
        "print(mylist.pop())"
      ]
    },
    {
      "cell_type": "code",
      "execution_count": null,
      "metadata": {
        "colab": {
          "base_uri": "https://localhost:8080/"
        },
        "id": "6_2oDCerG4rf",
        "outputId": "581d8bf9-e876-4fa9-ffb5-02f2cc260991"
      },
      "outputs": [
        {
          "output_type": "stream",
          "name": "stdout",
          "text": [
            "[1, 2, 1, 2.5, True, 'a', 'abc']\n"
          ]
        }
      ],
      "source": [
        "print(mylist)"
      ]
    },
    {
      "cell_type": "markdown",
      "metadata": {
        "id": "ExQB-SNgG4rg"
      },
      "source": [
        "### insert"
      ]
    },
    {
      "cell_type": "code",
      "execution_count": null,
      "metadata": {
        "colab": {
          "base_uri": "https://localhost:8080/"
        },
        "id": "N-fpFDB-G4rg",
        "outputId": "5db5e7bb-1855-42ac-ba9f-1fd3fc9a106a"
      },
      "outputs": [
        {
          "output_type": "stream",
          "name": "stdout",
          "text": [
            "[1, 2, 1, '5', 2.5, True, 'a', 'abc']\n"
          ]
        }
      ],
      "source": [
        "mylist.insert(3,'5')\n",
        "print(mylist)"
      ]
    },
    {
      "cell_type": "markdown",
      "metadata": {
        "id": "K3dshqrFG4rg"
      },
      "source": [
        "Remove items"
      ]
    },
    {
      "cell_type": "code",
      "execution_count": null,
      "metadata": {
        "colab": {
          "base_uri": "https://localhost:8080/"
        },
        "id": "axv9i1HxG4ri",
        "outputId": "b6dcabdd-a70d-4eb8-e5d8-495b6e4d2163"
      },
      "outputs": [
        {
          "output_type": "stream",
          "name": "stdout",
          "text": [
            "None\n"
          ]
        }
      ],
      "source": [
        "print(mylist.remove('5'))"
      ]
    },
    {
      "cell_type": "code",
      "execution_count": null,
      "metadata": {
        "colab": {
          "base_uri": "https://localhost:8080/"
        },
        "id": "9GnrE-56G4ri",
        "outputId": "af585ed8-41be-4591-bf99-21a57520b7b6"
      },
      "outputs": [
        {
          "output_type": "stream",
          "name": "stdout",
          "text": [
            "[1, 2, 1, 2.5, True, 'a', 'abc']\n"
          ]
        }
      ],
      "source": [
        "print(mylist)"
      ]
    },
    {
      "cell_type": "code",
      "execution_count": null,
      "metadata": {
        "colab": {
          "base_uri": "https://localhost:8080/"
        },
        "id": "VH1vNkRPG4ri",
        "outputId": "d85d266b-2b3b-48fb-b0bb-7ace1ed2abed"
      },
      "outputs": [
        {
          "output_type": "stream",
          "name": "stdout",
          "text": [
            "abc\n",
            "[1, 2, 1, 2.5, True, 'a']\n"
          ]
        }
      ],
      "source": [
        "print(mylist.pop())\n",
        "print(mylist)"
      ]
    },
    {
      "cell_type": "markdown",
      "metadata": {
        "id": "uO8lny94G4rj"
      },
      "source": [
        "#### Delete"
      ]
    },
    {
      "cell_type": "code",
      "execution_count": null,
      "metadata": {
        "colab": {
          "base_uri": "https://localhost:8080/"
        },
        "id": "mcUZ-_QWG4rj",
        "outputId": "252130f2-2f46-41b7-9155-8693b5e97f24"
      },
      "outputs": [
        {
          "output_type": "stream",
          "name": "stdout",
          "text": [
            "[2, 1, 2.5, True, 'a']\n"
          ]
        }
      ],
      "source": [
        "del mylist[0]\n",
        "print(mylist)"
      ]
    },
    {
      "cell_type": "code",
      "execution_count": null,
      "metadata": {
        "colab": {
          "base_uri": "https://localhost:8080/"
        },
        "id": "Ef-GV3aVG4rj",
        "outputId": "ddb1bef9-f16f-4ed6-8804-b7c6c75dbf0a"
      },
      "outputs": [
        {
          "output_type": "execute_result",
          "data": {
            "text/plain": [
              "[2, 1, 2.5, True, 'a']"
            ]
          },
          "metadata": {},
          "execution_count": 103
        }
      ],
      "source": [
        "mylist"
      ]
    },
    {
      "cell_type": "markdown",
      "metadata": {
        "id": "AZrQgIANG4rj"
      },
      "source": [
        "#### Clear"
      ]
    },
    {
      "cell_type": "code",
      "execution_count": null,
      "metadata": {
        "colab": {
          "base_uri": "https://localhost:8080/"
        },
        "id": "xVooaSg9G4rk",
        "outputId": "e20c5279-e811-40da-d988-e17301610e33"
      },
      "outputs": [
        {
          "output_type": "stream",
          "name": "stdout",
          "text": [
            "[]\n"
          ]
        }
      ],
      "source": [
        "mylist.clear()\n",
        "print(mylist)"
      ]
    },
    {
      "cell_type": "markdown",
      "metadata": {
        "id": "C88u7TIoG4rk"
      },
      "source": [
        "Copy list"
      ]
    },
    {
      "cell_type": "code",
      "execution_count": null,
      "metadata": {
        "id": "V7NUljqsG4rk"
      },
      "outputs": [],
      "source": [
        "l=[1,2,3]"
      ]
    },
    {
      "cell_type": "code",
      "execution_count": null,
      "metadata": {
        "colab": {
          "base_uri": "https://localhost:8080/"
        },
        "id": "bvQizKxYG4rl",
        "outputId": "27e2275f-3a78-4f29-954c-1c5de7bff9de"
      },
      "outputs": [
        {
          "output_type": "stream",
          "name": "stdout",
          "text": [
            "[1, 2, 3]\n"
          ]
        }
      ],
      "source": [
        "print(l)"
      ]
    },
    {
      "cell_type": "code",
      "execution_count": null,
      "metadata": {
        "id": "4KThSPN9G4rl"
      },
      "outputs": [],
      "source": [
        "mylist=l.copy()"
      ]
    },
    {
      "cell_type": "code",
      "execution_count": null,
      "metadata": {
        "id": "MZ0SBYmpG4rl"
      },
      "outputs": [],
      "source": [
        "m=l"
      ]
    },
    {
      "cell_type": "code",
      "execution_count": null,
      "metadata": {
        "colab": {
          "base_uri": "https://localhost:8080/"
        },
        "id": "enDTqiMaG4rl",
        "outputId": "405ea5b0-3070-4e2a-ab73-48502241a4e8"
      },
      "outputs": [
        {
          "output_type": "execute_result",
          "data": {
            "text/plain": [
              "[1, 2, 3]"
            ]
          },
          "metadata": {},
          "execution_count": 109
        }
      ],
      "source": [
        "m"
      ]
    },
    {
      "cell_type": "code",
      "execution_count": null,
      "metadata": {
        "colab": {
          "base_uri": "https://localhost:8080/"
        },
        "id": "4onxizYAG4rl",
        "outputId": "2fb28b00-1b2d-4932-b583-fcb89c70d13f"
      },
      "outputs": [
        {
          "output_type": "stream",
          "name": "stdout",
          "text": [
            "[1, 2, 3]\n"
          ]
        }
      ],
      "source": [
        "print(mylist)"
      ]
    },
    {
      "cell_type": "markdown",
      "metadata": {
        "id": "JbQe5FkLG4rm"
      },
      "source": [
        "Completely delete the list"
      ]
    },
    {
      "cell_type": "code",
      "execution_count": null,
      "metadata": {
        "id": "uR31TEMhG4rm"
      },
      "outputs": [],
      "source": [
        "del mylist"
      ]
    },
    {
      "cell_type": "code",
      "execution_count": null,
      "metadata": {
        "colab": {
          "base_uri": "https://localhost:8080/",
          "height": 141
        },
        "id": "NanQst5cG4rm",
        "outputId": "91807388-919a-4190-ae62-c68c453fb34b"
      },
      "outputs": [
        {
          "output_type": "error",
          "ename": "NameError",
          "evalue": "name 'mylist' is not defined",
          "traceback": [
            "\u001b[0;31m---------------------------------------------------------------------------\u001b[0m",
            "\u001b[0;31mNameError\u001b[0m                                 Traceback (most recent call last)",
            "\u001b[0;32m<ipython-input-112-787410b875dd>\u001b[0m in \u001b[0;36m<cell line: 1>\u001b[0;34m()\u001b[0m\n\u001b[0;32m----> 1\u001b[0;31m \u001b[0mmylist\u001b[0m\u001b[0;34m\u001b[0m\u001b[0;34m\u001b[0m\u001b[0m\n\u001b[0m",
            "\u001b[0;31mNameError\u001b[0m: name 'mylist' is not defined"
          ]
        }
      ],
      "source": [
        "mylist"
      ]
    },
    {
      "cell_type": "code",
      "execution_count": null,
      "metadata": {
        "id": "jahdXiUIG4rm"
      },
      "outputs": [],
      "source": [
        "a=[1,2,3]\n",
        "b=[4,5,6]"
      ]
    },
    {
      "cell_type": "code",
      "execution_count": null,
      "metadata": {
        "colab": {
          "base_uri": "https://localhost:8080/"
        },
        "id": "GcIhS6wVG4rm",
        "outputId": "e46d08ba-d2fd-48d1-ebb0-2fee51ce044b"
      },
      "outputs": [
        {
          "output_type": "stream",
          "name": "stdout",
          "text": [
            "[4, 5, 6, [1, 2, 3]]\n"
          ]
        }
      ],
      "source": [
        "a=[1,2,3]\n",
        "b=[4,5,6]\n",
        "b.append(a)\n",
        "print(b)"
      ]
    },
    {
      "cell_type": "code",
      "execution_count": null,
      "metadata": {
        "colab": {
          "base_uri": "https://localhost:8080/"
        },
        "id": "Ri8eLyIZG4rn",
        "outputId": "e8feb10a-2993-4217-abf8-96c7229f7ec7"
      },
      "outputs": [
        {
          "output_type": "stream",
          "name": "stdout",
          "text": [
            "[4, 5, 6, 1, 2, 3]\n"
          ]
        }
      ],
      "source": [
        "a=[1,2,3]\n",
        "b=[4,5,6]\n",
        "b.extend(a)\n",
        "print(b)"
      ]
    },
    {
      "cell_type": "code",
      "execution_count": null,
      "metadata": {
        "colab": {
          "base_uri": "https://localhost:8080/"
        },
        "id": "gMHr--5pG4rn",
        "outputId": "361d053c-60d5-4cb0-bc17-be05563fa7b5"
      },
      "outputs": [
        {
          "output_type": "stream",
          "name": "stdout",
          "text": [
            "[1, 2, 3, 4, 5, 6]\n"
          ]
        }
      ],
      "source": [
        "b.sort()\n",
        "print(b)"
      ]
    },
    {
      "cell_type": "code",
      "execution_count": null,
      "metadata": {
        "colab": {
          "base_uri": "https://localhost:8080/"
        },
        "id": "tOxxrjuOG4rn",
        "outputId": "eadb89bf-b4c7-4937-f8b3-f98becb63a88"
      },
      "outputs": [
        {
          "output_type": "stream",
          "name": "stdout",
          "text": [
            "6\n"
          ]
        }
      ],
      "source": [
        "print(len(b))"
      ]
    },
    {
      "cell_type": "code",
      "execution_count": null,
      "metadata": {
        "colab": {
          "base_uri": "https://localhost:8080/"
        },
        "id": "kDAEh7OSG4rn",
        "outputId": "a86b3c2d-86d0-4482-ad36-79f3e224f350"
      },
      "outputs": [
        {
          "output_type": "stream",
          "name": "stdout",
          "text": [
            "['h', 'e', 'l', 'l', 'o']\n"
          ]
        }
      ],
      "source": [
        "print(list('hello'))"
      ]
    },
    {
      "cell_type": "code",
      "execution_count": null,
      "metadata": {
        "id": "hC7Ggg3HG4ro"
      },
      "outputs": [],
      "source": [
        "l = \"hello\""
      ]
    },
    {
      "cell_type": "code",
      "execution_count": null,
      "metadata": {
        "id": "rIRJIUnzG4ro"
      },
      "outputs": [],
      "source": [
        "l=list(l)"
      ]
    },
    {
      "cell_type": "code",
      "execution_count": null,
      "metadata": {
        "colab": {
          "base_uri": "https://localhost:8080/"
        },
        "id": "vE0G75ZHG4ro",
        "outputId": "46b7ed55-d36f-4681-ac68-c54fa9099b0f"
      },
      "outputs": [
        {
          "output_type": "stream",
          "name": "stdout",
          "text": [
            "['h', 'e', 'l', 'l', 'o']\n"
          ]
        }
      ],
      "source": [
        "print(list(l))"
      ]
    },
    {
      "cell_type": "code",
      "execution_count": null,
      "metadata": {
        "id": "Oginr606G4ro"
      },
      "outputs": [],
      "source": [
        "lst=list(range(1,16))"
      ]
    },
    {
      "cell_type": "code",
      "execution_count": null,
      "metadata": {
        "colab": {
          "base_uri": "https://localhost:8080/"
        },
        "id": "Lpy6HKrNG4rp",
        "outputId": "45476534-0f09-4977-8bf1-286e2721c248"
      },
      "outputs": [
        {
          "output_type": "execute_result",
          "data": {
            "text/plain": [
              "[1, 2, 3, 4, 5, 6, 7, 8, 9, 10, 11, 12, 13, 14, 15]"
            ]
          },
          "metadata": {},
          "execution_count": 123
        }
      ],
      "source": [
        "lst"
      ]
    },
    {
      "cell_type": "code",
      "execution_count": null,
      "metadata": {
        "colab": {
          "base_uri": "https://localhost:8080/"
        },
        "id": "uq-sX-gjG4rp",
        "outputId": "3bc425c0-e3d3-4f45-8eb0-b9b2f6afebeb"
      },
      "outputs": [
        {
          "output_type": "stream",
          "name": "stdout",
          "text": [
            "[1, 2, 3, 4, 5, 6, 7, 8, 9, 10, 11, 12, 13, 14, 15]\n",
            "[1, 4, 9, 16, 25, 36, 49, 64, 81, 100, 121, 144, 169, 196, 225]\n"
          ]
        }
      ],
      "source": [
        "lst=list(range(1,16))\n",
        "p= []\n",
        "print(lst)\n",
        "for i in lst:\n",
        "    p.append(i ** 2)\n",
        "print(p)"
      ]
    },
    {
      "cell_type": "code",
      "execution_count": null,
      "metadata": {
        "colab": {
          "base_uri": "https://localhost:8080/"
        },
        "id": "kwwnjIfHG4rp",
        "outputId": "f02018cd-af43-4b25-f01b-15ef7cc32a69"
      },
      "outputs": [
        {
          "output_type": "stream",
          "name": "stdout",
          "text": [
            "[1, 2, 3, 4, 5, 6, 7, 8, 9, 10, 11, 12, 13, 14, 15]\n",
            "[1, 4, 9, 16, 25, 36, 49, 64, 81, 100, 121, 144, 169, 196, 225]\n"
          ]
        }
      ],
      "source": [
        "l=list(range(1,16))\n",
        "p= []\n",
        "print(l)\n",
        "for i in l:\n",
        "    p.append(pow(i,2))\n",
        "print(p)"
      ]
    },
    {
      "cell_type": "markdown",
      "metadata": {
        "id": "WiC9NSnGG4rq"
      },
      "source": [
        "### List Comprehension\n",
        "List comprehension offers a shorter syntax when you want to create a new list based on the values of an existing list."
      ]
    },
    {
      "cell_type": "code",
      "execution_count": null,
      "metadata": {
        "colab": {
          "base_uri": "https://localhost:8080/"
        },
        "id": "XE4Mm-qGG4rq",
        "outputId": "ba935e8a-8ad4-4f41-985f-19da5c075b5d"
      },
      "outputs": [
        {
          "output_type": "stream",
          "name": "stdout",
          "text": [
            "[1, 2, 3, 4, 5, 6, 7, 8, 9, 10, 11, 12, 13, 14, 15]\n",
            "[1, 4, 9, 16, 25, 36, 49, 64, 81, 100, 121, 144, 169, 196, 225]\n"
          ]
        }
      ],
      "source": [
        "l=list(range(1,16))\n",
        "p=[i**2 for i in l]\n",
        "print(l)\n",
        "print(p)"
      ]
    },
    {
      "cell_type": "code",
      "execution_count": null,
      "metadata": {
        "colab": {
          "base_uri": "https://localhost:8080/"
        },
        "id": "QIYNJTFsG4rq",
        "outputId": "67dd719c-10de-4580-9def-1168fcc07aca"
      },
      "outputs": [
        {
          "output_type": "stream",
          "name": "stdout",
          "text": [
            "[1, 2, 3, 4, 5, 6, 7, 8, 9, 10, 11, 12, 13, 14, 15]\n",
            "[1, 9, 25, 49, 81, 121, 169, 225]\n"
          ]
        }
      ],
      "source": [
        "l=list(range(1,16))\n",
        "p=[i**2 for i in l if i%2 !=0]\n",
        "print(l)\n",
        "print(p)"
      ]
    },
    {
      "cell_type": "markdown",
      "metadata": {
        "id": "lPFcq__2G4rq"
      },
      "source": [
        "List Slicing"
      ]
    },
    {
      "cell_type": "markdown",
      "metadata": {
        "id": "YUK6j-pCG4rq"
      },
      "source": [
        "Range of Indexes"
      ]
    },
    {
      "cell_type": "markdown",
      "metadata": {
        "id": "oFQgysH2G4rq"
      },
      "source": [
        "list_name[a:b] -> Slice out a sublist starting from **a** upto **b-1**"
      ]
    },
    {
      "cell_type": "code",
      "execution_count": null,
      "metadata": {
        "colab": {
          "base_uri": "https://localhost:8080/"
        },
        "id": "rNreNFsXG4rr",
        "outputId": "ca741095-7024-45da-ede4-8b5827e7a2cd"
      },
      "outputs": [
        {
          "output_type": "stream",
          "name": "stdout",
          "text": [
            "[2, 3, 4]\n"
          ]
        }
      ],
      "source": [
        "l=[1,2,3,4,5,6,7]\n",
        "print(l[1:-3])"
      ]
    },
    {
      "cell_type": "code",
      "execution_count": null,
      "metadata": {
        "colab": {
          "base_uri": "https://localhost:8080/"
        },
        "id": "6Z_tJf4qG4rr",
        "outputId": "427ed8ce-2096-4ce1-95ad-6e81bd728c3e"
      },
      "outputs": [
        {
          "output_type": "stream",
          "name": "stdout",
          "text": [
            "[1, 2, 3, 4, 5, 6]\n"
          ]
        }
      ],
      "source": [
        "print(l[:6])"
      ]
    },
    {
      "cell_type": "code",
      "execution_count": null,
      "metadata": {
        "colab": {
          "base_uri": "https://localhost:8080/"
        },
        "id": "hurCD5f1G4rr",
        "outputId": "7387415c-5316-4d61-9db4-57f1fd9a141c"
      },
      "outputs": [
        {
          "output_type": "stream",
          "name": "stdout",
          "text": [
            "[4, 5, 6, 7]\n"
          ]
        }
      ],
      "source": [
        "print(l[3:])"
      ]
    },
    {
      "cell_type": "markdown",
      "metadata": {
        "id": "BkfZxKVaG4rr"
      },
      "source": [
        "Negative Indexing"
      ]
    },
    {
      "cell_type": "code",
      "execution_count": null,
      "metadata": {
        "colab": {
          "base_uri": "https://localhost:8080/"
        },
        "id": "UAAjlA0-G4rr",
        "outputId": "7af7b7f7-59d2-4855-b4e6-f67e0789410f"
      },
      "outputs": [
        {
          "output_type": "stream",
          "name": "stdout",
          "text": [
            "7\n"
          ]
        }
      ],
      "source": [
        "print(l[-1])"
      ]
    },
    {
      "cell_type": "code",
      "execution_count": null,
      "metadata": {
        "colab": {
          "base_uri": "https://localhost:8080/"
        },
        "id": "aC6o9k34G4rs",
        "outputId": "d19505fc-8a4b-42dc-cda9-d6d0ebb251c6"
      },
      "outputs": [
        {
          "output_type": "stream",
          "name": "stdout",
          "text": [
            "[1, 2, 3, 4, 5, 6]\n"
          ]
        }
      ],
      "source": [
        "print(l[:-1])"
      ]
    },
    {
      "cell_type": "code",
      "execution_count": null,
      "metadata": {
        "colab": {
          "base_uri": "https://localhost:8080/"
        },
        "id": "Zj6kzbN5G4rs",
        "outputId": "677fa8eb-3fa0-4d41-c4ad-d59dafa112cd"
      },
      "outputs": [
        {
          "output_type": "stream",
          "name": "stdout",
          "text": [
            "[1, 2, 3, 4, 5]\n"
          ]
        }
      ],
      "source": [
        "print(l[:-2])"
      ]
    },
    {
      "cell_type": "code",
      "execution_count": null,
      "metadata": {
        "colab": {
          "base_uri": "https://localhost:8080/"
        },
        "id": "vrVSuI4SG4rs",
        "outputId": "732ae46b-7e1f-4af4-e785-62b9152ce8d7"
      },
      "outputs": [
        {
          "output_type": "stream",
          "name": "stdout",
          "text": [
            "[5, 6, 7]\n"
          ]
        }
      ],
      "source": [
        "print(l[-3:])"
      ]
    },
    {
      "cell_type": "markdown",
      "metadata": {
        "id": "evcTZq2fG4rs"
      },
      "source": [
        "Range of Negative Indexes"
      ]
    },
    {
      "cell_type": "code",
      "execution_count": null,
      "metadata": {
        "colab": {
          "base_uri": "https://localhost:8080/"
        },
        "id": "2A7k-3PDG4rs",
        "outputId": "b280ec9e-48ed-4eaa-8688-895434aa7228"
      },
      "outputs": [
        {
          "output_type": "stream",
          "name": "stdout",
          "text": [
            "[5, 6]\n"
          ]
        }
      ],
      "source": [
        "print(l[-3:-1])"
      ]
    },
    {
      "cell_type": "markdown",
      "metadata": {
        "id": "wFRKNVIrG4rs"
      },
      "source": [
        "Change Item Value"
      ]
    },
    {
      "cell_type": "code",
      "execution_count": null,
      "metadata": {
        "colab": {
          "base_uri": "https://localhost:8080/"
        },
        "id": "wWQkCRTLG4rt",
        "outputId": "e47a3bc2-894a-4321-eb96-df64c229f258"
      },
      "outputs": [
        {
          "output_type": "stream",
          "name": "stdout",
          "text": [
            "[1, 8, 3, 4, 5, 6, 7]\n"
          ]
        }
      ],
      "source": [
        "l[1]= 8\n",
        "print(l)"
      ]
    },
    {
      "cell_type": "markdown",
      "metadata": {
        "id": "vA2g11GQG4rt"
      },
      "source": [
        "Check if Item Exists"
      ]
    },
    {
      "cell_type": "code",
      "execution_count": null,
      "metadata": {
        "colab": {
          "base_uri": "https://localhost:8080/"
        },
        "id": "56t4FFFZG4rt",
        "outputId": "a4966b56-7a4a-4d3a-b6fb-2ea2567c582a"
      },
      "outputs": [
        {
          "output_type": "stream",
          "name": "stdout",
          "text": [
            "Yes, 5 exist in list\n"
          ]
        }
      ],
      "source": [
        "if 5 in l:\n",
        "    print(\"Yes, 5 exist in list\")\n",
        "else :\n",
        "    print(\"No,\")"
      ]
    },
    {
      "cell_type": "markdown",
      "metadata": {
        "id": "POPg95w0G4ru"
      },
      "source": [
        "List Length"
      ]
    },
    {
      "cell_type": "code",
      "execution_count": null,
      "metadata": {
        "colab": {
          "base_uri": "https://localhost:8080/"
        },
        "id": "XScLPTvlG4rv",
        "outputId": "e8059bb3-55fd-426d-a5a5-905bbfa2cd11"
      },
      "outputs": [
        {
          "output_type": "stream",
          "name": "stdout",
          "text": [
            "7\n"
          ]
        }
      ],
      "source": [
        "print(len(l))"
      ]
    },
    {
      "cell_type": "markdown",
      "metadata": {
        "id": "MDVa_6mFG4rw"
      },
      "source": [
        "Methods"
      ]
    },
    {
      "cell_type": "markdown",
      "metadata": {
        "id": "O8rE_ZpfG4rw"
      },
      "source": [
        "1. append()\t      Adds an element at the end of the list\n",
        "2. clear()\t      Removes all the elements from the list\n",
        "3. copy()\t      Returns a copy of the list\n",
        "4. count()\t      Returns the number of elements with the specified value\n",
        "5. extend()\t      Add the elements of a list (or any iterable), to the end of the current list\n",
        "6. index()  \t  Returns the index of the first element with the specified value\n",
        "7. insert()\t      Adds an element at the specified position\n",
        "8. pop()\t      Removes the element at the specified position\n",
        "9. remove()\t      Removes the item with the specified value\n",
        "10. reverse()\t  Reverses the order of the list\n",
        "11. sort()\t      Sorts the list"
      ]
    },
    {
      "cell_type": "markdown",
      "metadata": {
        "id": "_tYspL5RG4rw"
      },
      "source": [
        "### Tuple( )"
      ]
    },
    {
      "cell_type": "markdown",
      "metadata": {
        "id": "bnycQoytG4rw"
      },
      "source": [
        "Tuple is a collection which is ordered and unchangeable. Allows duplicate members."
      ]
    },
    {
      "cell_type": "code",
      "execution_count": null,
      "metadata": {
        "colab": {
          "base_uri": "https://localhost:8080/"
        },
        "id": "VgR3EIMIG4rx",
        "outputId": "e53e6af9-397f-409e-d61e-378398018787"
      },
      "outputs": [
        {
          "output_type": "stream",
          "name": "stdout",
          "text": [
            "(1, 2, 3, 6, 3, 2, 9)\n"
          ]
        }
      ],
      "source": [
        "tup=(1,2,3,6,3,2,9)\n",
        "print(tup)\n",
        "print(type(tup))"
      ]
    },
    {
      "cell_type": "code",
      "execution_count": null,
      "metadata": {
        "colab": {
          "base_uri": "https://localhost:8080/"
        },
        "id": "whRwWP3IG4rx",
        "outputId": "da33034e-9130-4b43-c5e4-1149d511d8af"
      },
      "outputs": [
        {
          "output_type": "stream",
          "name": "stdout",
          "text": [
            "6\n"
          ]
        }
      ],
      "source": [
        "print(tup[3])"
      ]
    },
    {
      "cell_type": "code",
      "execution_count": null,
      "metadata": {
        "colab": {
          "base_uri": "https://localhost:8080/"
        },
        "id": "Fp9cWpQcG4rx",
        "outputId": "32036e1d-ce8c-43bc-d554-d99829bd5fd0"
      },
      "outputs": [
        {
          "output_type": "stream",
          "name": "stdout",
          "text": [
            "9\n"
          ]
        }
      ],
      "source": [
        "print(tup[-1])"
      ]
    },
    {
      "cell_type": "code",
      "execution_count": null,
      "metadata": {
        "colab": {
          "base_uri": "https://localhost:8080/"
        },
        "id": "Ky-G2CxjG4ry",
        "outputId": "51e3bea1-4bf1-402f-bb87-04410b7849de"
      },
      "outputs": [
        {
          "output_type": "stream",
          "name": "stdout",
          "text": [
            "(3, 6, 3)\n"
          ]
        }
      ],
      "source": [
        "print(tup[2:5])"
      ]
    },
    {
      "cell_type": "code",
      "execution_count": null,
      "metadata": {
        "id": "iDBMen_nG4ry"
      },
      "outputs": [],
      "source": [
        "ltup=list(tup)"
      ]
    },
    {
      "cell_type": "code",
      "execution_count": null,
      "metadata": {
        "colab": {
          "base_uri": "https://localhost:8080/"
        },
        "id": "BcIj2F2RG4ry",
        "outputId": "5da98692-c378-4efc-9286-d58fc7e5cd68"
      },
      "outputs": [
        {
          "output_type": "stream",
          "name": "stdout",
          "text": [
            "[1, 2, 3, 6, 3, 2, 9]\n"
          ]
        }
      ],
      "source": [
        "print(ltup)"
      ]
    },
    {
      "cell_type": "code",
      "execution_count": null,
      "metadata": {
        "id": "elWHsiyZG4ry"
      },
      "outputs": [],
      "source": [
        "tup = tuple(ltup)"
      ]
    },
    {
      "cell_type": "code",
      "execution_count": null,
      "metadata": {
        "colab": {
          "base_uri": "https://localhost:8080/"
        },
        "id": "vwrbTM3XG4rz",
        "outputId": "a96bac66-3b5f-4fea-ff3c-573556b9249a"
      },
      "outputs": [
        {
          "output_type": "stream",
          "name": "stdout",
          "text": [
            "(1, 2, 3, 6, 3, 2, 9)\n"
          ]
        }
      ],
      "source": [
        "print(tup)"
      ]
    },
    {
      "cell_type": "markdown",
      "metadata": {
        "id": "m-DG89S1G4rz"
      },
      "source": [
        "Change the value of tuple"
      ]
    },
    {
      "cell_type": "code",
      "execution_count": null,
      "metadata": {
        "colab": {
          "base_uri": "https://localhost:8080/"
        },
        "id": "8o6nhzpOG4rz",
        "outputId": "558b2e1a-7c67-4fd9-c74d-39208ef41a76"
      },
      "outputs": [
        {
          "output_type": "stream",
          "name": "stdout",
          "text": [
            "(1, 5, 3, 6, 3, 2, 9)\n"
          ]
        }
      ],
      "source": [
        "ltup[1]=5\n",
        "tup=tuple(ltup)\n",
        "print(tup)"
      ]
    },
    {
      "cell_type": "code",
      "execution_count": null,
      "metadata": {
        "colab": {
          "base_uri": "https://localhost:8080/"
        },
        "id": "m8S9lrkhG4r0",
        "outputId": "40a285e4-ea89-40ec-8589-67467209f2f7"
      },
      "outputs": [
        {
          "output_type": "stream",
          "name": "stdout",
          "text": [
            "(1, 2, 3, 4, 5, 6)\n"
          ]
        }
      ],
      "source": [
        "res=(1,2,3)+(4,5,6)\n",
        "print(res)"
      ]
    },
    {
      "cell_type": "code",
      "execution_count": null,
      "metadata": {
        "colab": {
          "base_uri": "https://localhost:8080/"
        },
        "id": "TRR_44NbG4r0",
        "outputId": "a3e288ee-726e-4a18-c949-bf3b71865394"
      },
      "outputs": [
        {
          "output_type": "stream",
          "name": "stdout",
          "text": [
            "Yes\n"
          ]
        }
      ],
      "source": [
        "if 5 in res:\n",
        "    print(\"Yes\")\n",
        "else:\n",
        "    print(\"No\")"
      ]
    },
    {
      "cell_type": "code",
      "execution_count": null,
      "metadata": {
        "colab": {
          "base_uri": "https://localhost:8080/"
        },
        "id": "mgeoTwYbG4r0",
        "outputId": "ee021366-145a-42c0-bdb3-ad6793d61867"
      },
      "outputs": [
        {
          "output_type": "stream",
          "name": "stdout",
          "text": [
            "No\n"
          ]
        }
      ],
      "source": [
        "if '5' in res:\n",
        "    print(\"Yes\")\n",
        "else:\n",
        "    print(\"No\")"
      ]
    },
    {
      "cell_type": "code",
      "execution_count": null,
      "metadata": {
        "colab": {
          "base_uri": "https://localhost:8080/"
        },
        "id": "7gaEp714G4r1",
        "outputId": "9cb2e88e-982b-42fa-c8dc-b54076ad4a30"
      },
      "outputs": [
        {
          "output_type": "stream",
          "name": "stdout",
          "text": [
            "6\n"
          ]
        }
      ],
      "source": [
        "print(len(res))"
      ]
    },
    {
      "cell_type": "code",
      "execution_count": null,
      "metadata": {
        "colab": {
          "base_uri": "https://localhost:8080/"
        },
        "id": "Q4B6Os-7G4r1",
        "outputId": "ebdcdee2-a64f-422a-a127-11d2f16b01a1"
      },
      "outputs": [
        {
          "output_type": "stream",
          "name": "stdout",
          "text": [
            "('apple',)\n"
          ]
        }
      ],
      "source": [
        "myTup = (\"apple\",)\n",
        "print(myTup)"
      ]
    },
    {
      "cell_type": "code",
      "execution_count": null,
      "metadata": {
        "colab": {
          "base_uri": "https://localhost:8080/"
        },
        "id": "tZwKp0OKG4r1",
        "outputId": "65732a91-51cb-49de-b442-a15a2b9f7a24"
      },
      "outputs": [
        {
          "output_type": "stream",
          "name": "stdout",
          "text": [
            "<class 'tuple'>\n"
          ]
        }
      ],
      "source": [
        "print(type(myTup))"
      ]
    },
    {
      "cell_type": "code",
      "execution_count": null,
      "metadata": {
        "colab": {
          "base_uri": "https://localhost:8080/"
        },
        "id": "y1MrvrXqG4r2",
        "outputId": "a32c06fa-a224-4f1e-fe66-b4b69a78c1bf"
      },
      "outputs": [
        {
          "output_type": "stream",
          "name": "stdout",
          "text": [
            "apple\n",
            "<class 'str'>\n"
          ]
        }
      ],
      "source": [
        "#NOT a tuple\n",
        "myTup = (\"apple\")\n",
        "print(myTup)\n",
        "print(type(myTup))"
      ]
    },
    {
      "cell_type": "code",
      "execution_count": null,
      "metadata": {
        "colab": {
          "base_uri": "https://localhost:8080/"
        },
        "id": "20h-wQS7G4r2",
        "outputId": "e5e23ab7-463b-45e1-bdba-cc59345bad11"
      },
      "outputs": [
        {
          "output_type": "stream",
          "name": "stdout",
          "text": [
            "5\n",
            "<class 'int'>\n"
          ]
        }
      ],
      "source": [
        "myTup = (5)\n",
        "print(myTup)\n",
        "print(type(myTup))"
      ]
    },
    {
      "cell_type": "code",
      "execution_count": null,
      "metadata": {
        "colab": {
          "base_uri": "https://localhost:8080/"
        },
        "id": "DLKCxGaEG4r2",
        "outputId": "ac3a3625-3de1-43ad-c298-c46f6b5286ee"
      },
      "outputs": [
        {
          "output_type": "stream",
          "name": "stdout",
          "text": [
            "(5,)\n",
            "<class 'tuple'>\n"
          ]
        }
      ],
      "source": [
        "myTup = (5,)\n",
        "print(myTup)\n",
        "print(type(myTup))"
      ]
    },
    {
      "cell_type": "code",
      "execution_count": null,
      "metadata": {
        "colab": {
          "base_uri": "https://localhost:8080/"
        },
        "id": "aXGoWQipG4r2",
        "outputId": "c94443d5-1110-4ee7-9b19-bda139c5405a"
      },
      "outputs": [
        {
          "output_type": "stream",
          "name": "stdout",
          "text": [
            "(2, 6, 4, 1, 8, 4, 2, 2)\n",
            "<class 'tuple'>\n"
          ]
        }
      ],
      "source": [
        "tup= (2,6,4,1,8,4,2,2)\n",
        "print(tup)\n",
        "print(type(tup))"
      ]
    },
    {
      "cell_type": "code",
      "execution_count": null,
      "metadata": {
        "colab": {
          "base_uri": "https://localhost:8080/"
        },
        "id": "t8w8mReaG4r3",
        "outputId": "fe5c6def-ff57-480d-deac-6d4c5a77c096"
      },
      "outputs": [
        {
          "output_type": "stream",
          "name": "stdout",
          "text": [
            "(2, 6, 4, 1, 8, 4, 2, 2)\n",
            "<class 'tuple'>\n"
          ]
        }
      ],
      "source": [
        "tup=tuple((2,6,4,1,8,4,2,2))\n",
        "print(tup)\n",
        "print(type(tup))"
      ]
    },
    {
      "cell_type": "code",
      "execution_count": null,
      "metadata": {
        "colab": {
          "base_uri": "https://localhost:8080/"
        },
        "id": "yXJ-llvdG4r3",
        "outputId": "c34929a1-036e-4229-8fc0-2474834677db"
      },
      "outputs": [
        {
          "output_type": "stream",
          "name": "stdout",
          "text": [
            "8\n"
          ]
        }
      ],
      "source": [
        "print(len(tup))"
      ]
    },
    {
      "cell_type": "code",
      "execution_count": null,
      "metadata": {
        "colab": {
          "base_uri": "https://localhost:8080/"
        },
        "id": "_eWD9FE6G4r3",
        "outputId": "e05d33b2-fcab-45db-e177-8e189ed5d783"
      },
      "outputs": [
        {
          "output_type": "stream",
          "name": "stdout",
          "text": [
            "3\n"
          ]
        }
      ],
      "source": [
        "print(tup.count(2))"
      ]
    },
    {
      "cell_type": "code",
      "execution_count": null,
      "metadata": {
        "colab": {
          "base_uri": "https://localhost:8080/"
        },
        "id": "-fYlGgoUG4r3",
        "outputId": "06215e28-a5b3-42e5-897c-467bea029c56"
      },
      "outputs": [
        {
          "output_type": "stream",
          "name": "stdout",
          "text": [
            "2\n"
          ]
        }
      ],
      "source": [
        "print(tup.index(4))"
      ]
    },
    {
      "cell_type": "markdown",
      "metadata": {
        "id": "wVxwZacCG4r4"
      },
      "source": [
        "### Set { }"
      ]
    },
    {
      "cell_type": "markdown",
      "metadata": {
        "id": "IwYWaJrwG4r4"
      },
      "source": [
        "Set is a collection which is unordered and unindexed. No duplicate members."
      ]
    },
    {
      "cell_type": "code",
      "execution_count": null,
      "metadata": {
        "colab": {
          "base_uri": "https://localhost:8080/"
        },
        "id": "QZpd1lhHG4r4",
        "outputId": "dd75da40-7973-44c1-a6e6-047c47dd4f5b"
      },
      "outputs": [
        {
          "output_type": "stream",
          "name": "stdout",
          "text": [
            "{1, 2, 3, 5, -2}\n"
          ]
        }
      ],
      "source": [
        "mySet={1,2,3,1,-2,5}\n",
        "print(mySet)"
      ]
    },
    {
      "cell_type": "code",
      "execution_count": null,
      "metadata": {
        "colab": {
          "base_uri": "https://localhost:8080/"
        },
        "id": "ko82GcoOG4r8",
        "outputId": "09bbc0ba-3073-4e93-a0a0-0c2ff8f5ed9c"
      },
      "outputs": [
        {
          "output_type": "stream",
          "name": "stdout",
          "text": [
            "{1, 'g', 's', 8, 'hello', 'hai', 'a'}\n",
            "<class 'set'>\n"
          ]
        }
      ],
      "source": [
        "A = {'a','g','s',1,'hai',\"hello\",8}\n",
        "print(A)\n",
        "print(type(A))"
      ]
    },
    {
      "cell_type": "code",
      "execution_count": null,
      "metadata": {
        "id": "CuxxQJLRG4r8"
      },
      "outputs": [],
      "source": [
        "lst=[1,2,3,6,2,7,3,4,9,5,4]"
      ]
    },
    {
      "cell_type": "code",
      "execution_count": null,
      "metadata": {
        "colab": {
          "base_uri": "https://localhost:8080/"
        },
        "id": "FYV8nstpG4r8",
        "outputId": "6986bdc4-9634-4336-c00f-f90c12be3c42"
      },
      "outputs": [
        {
          "output_type": "execute_result",
          "data": {
            "text/plain": [
              "[1, 2, 3, 6, 2, 7, 3, 4, 9, 5, 4]"
            ]
          },
          "metadata": {},
          "execution_count": 185
        }
      ],
      "source": [
        "lst"
      ]
    },
    {
      "cell_type": "code",
      "execution_count": null,
      "metadata": {
        "colab": {
          "base_uri": "https://localhost:8080/"
        },
        "id": "ad9IYnpjG4r8",
        "outputId": "2c8cb40c-420a-44f0-f97e-dde1a9786662"
      },
      "outputs": [
        {
          "output_type": "stream",
          "name": "stdout",
          "text": [
            "<class 'list'>\n"
          ]
        }
      ],
      "source": [
        "print(type(lst))"
      ]
    },
    {
      "cell_type": "code",
      "execution_count": null,
      "metadata": {
        "colab": {
          "base_uri": "https://localhost:8080/"
        },
        "id": "PoQfE8-NG4r9",
        "outputId": "80270886-c08f-4170-d62f-a34af6f56f90"
      },
      "outputs": [
        {
          "output_type": "stream",
          "name": "stdout",
          "text": [
            "{1, 2, 3, 4, 5, 6, 7, 9}\n",
            "<class 'set'>\n"
          ]
        }
      ],
      "source": [
        "ulst=set(lst)\n",
        "print(ulst)\n",
        "print(type(ulst))"
      ]
    },
    {
      "cell_type": "code",
      "execution_count": null,
      "metadata": {
        "colab": {
          "base_uri": "https://localhost:8080/"
        },
        "id": "N31cB97MG4r9",
        "outputId": "0b0cd687-4e05-4d57-d1c7-4b50c8cac2f5"
      },
      "outputs": [
        {
          "output_type": "stream",
          "name": "stdout",
          "text": [
            "[1, 2, 3, 4, 5, 6, 7, 9]\n"
          ]
        }
      ],
      "source": [
        "ulst=list(ulst)\n",
        "print(ulst)"
      ]
    },
    {
      "cell_type": "code",
      "execution_count": null,
      "metadata": {
        "colab": {
          "base_uri": "https://localhost:8080/"
        },
        "id": "L7f6u6SEG4r-",
        "outputId": "44a0206f-9fb3-44ae-fa88-5f5955db16de"
      },
      "outputs": [
        {
          "output_type": "stream",
          "name": "stdout",
          "text": [
            "[1, 2, 3, 4, 5, 6, 7, 9]\n"
          ]
        }
      ],
      "source": [
        "ulst=list(set(lst))\n",
        "print(ulst)"
      ]
    },
    {
      "cell_type": "markdown",
      "metadata": {
        "id": "4AQwisdZG4r-"
      },
      "source": [
        "Add Items"
      ]
    },
    {
      "cell_type": "code",
      "execution_count": null,
      "metadata": {
        "colab": {
          "base_uri": "https://localhost:8080/"
        },
        "id": "KmLj8c5kG4r-",
        "outputId": "a57b38c8-b500-4243-f733-df604dec44f1"
      },
      "outputs": [
        {
          "output_type": "stream",
          "name": "stdout",
          "text": [
            "{3, 5, 11, 12, 13, -2}\n"
          ]
        }
      ],
      "source": [
        "mySet.add(5)\n",
        "print(mySet)"
      ]
    },
    {
      "cell_type": "code",
      "execution_count": null,
      "metadata": {
        "colab": {
          "base_uri": "https://localhost:8080/"
        },
        "id": "Rydu2MsJG4r_",
        "outputId": "5a6be54e-369a-46fc-c106-cb714ccc2191"
      },
      "outputs": [
        {
          "output_type": "stream",
          "name": "stdout",
          "text": [
            "{3, 5, 11, 12, 13, -2}\n"
          ]
        }
      ],
      "source": [
        "mySet.update([11,12,13])\n",
        "print(mySet)"
      ]
    },
    {
      "cell_type": "markdown",
      "metadata": {
        "id": "lMhpf-WBG4sA"
      },
      "source": [
        "Remove Item"
      ]
    },
    {
      "cell_type": "code",
      "execution_count": null,
      "metadata": {
        "colab": {
          "base_uri": "https://localhost:8080/"
        },
        "id": "gJmb9XOxG4sB",
        "outputId": "0acc3682-3d04-48ed-ced6-d364ac80925b"
      },
      "outputs": [
        {
          "output_type": "stream",
          "name": "stdout",
          "text": [
            "{3, 5, 11, 12, 13}\n"
          ]
        }
      ],
      "source": [
        "mySet.remove(2)\n",
        "print(mySet)"
      ]
    },
    {
      "cell_type": "code",
      "execution_count": null,
      "metadata": {
        "colab": {
          "base_uri": "https://localhost:8080/"
        },
        "id": "V9Pt6_NFG4sB",
        "outputId": "b8c56d81-8538-4338-8e25-736df002b1db"
      },
      "outputs": [
        {
          "output_type": "stream",
          "name": "stdout",
          "text": [
            "{3, 5, 11, 12, 13, -2}\n"
          ]
        }
      ],
      "source": [
        "mySet.discard(1)\n",
        "print(mySet)"
      ]
    },
    {
      "cell_type": "markdown",
      "metadata": {
        "id": "q3nSmrWBG4sB"
      },
      "source": [
        "Note:If the item to remove does not exist, discard() will NOT raise an error but remove() wil raise an error"
      ]
    },
    {
      "cell_type": "code",
      "execution_count": null,
      "metadata": {
        "colab": {
          "base_uri": "https://localhost:8080/"
        },
        "id": "jp1E3tAXG4sC",
        "outputId": "ec0b37bf-68c0-48af-f931-fabe1c766859"
      },
      "outputs": [
        {
          "output_type": "stream",
          "name": "stdout",
          "text": [
            "3\n"
          ]
        }
      ],
      "source": [
        "print(mySet.pop())"
      ]
    },
    {
      "cell_type": "markdown",
      "metadata": {
        "id": "MljvvCb1G4sC"
      },
      "source": [
        "Note: Sets are unordered, so when using the pop() method, you will not know which item that gets removed."
      ]
    },
    {
      "cell_type": "code",
      "execution_count": null,
      "metadata": {
        "colab": {
          "base_uri": "https://localhost:8080/"
        },
        "id": "A0qOfE00G4sC",
        "outputId": "9da797f8-fb9d-4b65-bcfa-970522322c52"
      },
      "outputs": [
        {
          "output_type": "stream",
          "name": "stdout",
          "text": [
            "set()\n"
          ]
        }
      ],
      "source": [
        "mySet.clear()\n",
        "print(mySet)"
      ]
    },
    {
      "cell_type": "code",
      "execution_count": null,
      "metadata": {
        "colab": {
          "base_uri": "https://localhost:8080/",
          "height": 158
        },
        "id": "v2XsdnBVG4sC",
        "outputId": "f1d6cdda-639e-4c7e-d861-502d877e6faf"
      },
      "outputs": [
        {
          "output_type": "error",
          "ename": "NameError",
          "evalue": "name 'mySet' is not defined",
          "traceback": [
            "\u001b[0;31m---------------------------------------------------------------------------\u001b[0m",
            "\u001b[0;31mNameError\u001b[0m                                 Traceback (most recent call last)",
            "\u001b[0;32m<ipython-input-196-1f492fb0c6f6>\u001b[0m in \u001b[0;36m<cell line: 2>\u001b[0;34m()\u001b[0m\n\u001b[1;32m      1\u001b[0m \u001b[0;32mdel\u001b[0m \u001b[0mmySet\u001b[0m\u001b[0;34m\u001b[0m\u001b[0;34m\u001b[0m\u001b[0m\n\u001b[0;32m----> 2\u001b[0;31m \u001b[0mprint\u001b[0m\u001b[0;34m(\u001b[0m\u001b[0mmySet\u001b[0m\u001b[0;34m)\u001b[0m\u001b[0;34m\u001b[0m\u001b[0;34m\u001b[0m\u001b[0m\n\u001b[0m",
            "\u001b[0;31mNameError\u001b[0m: name 'mySet' is not defined"
          ]
        }
      ],
      "source": [
        "del mySet\n",
        "print(mySet)"
      ]
    },
    {
      "cell_type": "code",
      "execution_count": null,
      "metadata": {
        "id": "Rz1bqi3YG4sD"
      },
      "outputs": [],
      "source": [
        "set1={1,2,3}\n",
        "set2={1,5,7,6,3}"
      ]
    },
    {
      "cell_type": "code",
      "execution_count": null,
      "metadata": {
        "colab": {
          "base_uri": "https://localhost:8080/"
        },
        "id": "6O4I3fRTG4sD",
        "outputId": "d43872ce-beba-41a2-cfac-7de387a87dde"
      },
      "outputs": [
        {
          "output_type": "stream",
          "name": "stdout",
          "text": [
            "Union:  {1, 2, 3, 5, 6, 7}\n"
          ]
        }
      ],
      "source": [
        "print(\"Union: \",set1.union(set2))"
      ]
    },
    {
      "cell_type": "code",
      "execution_count": null,
      "metadata": {
        "colab": {
          "base_uri": "https://localhost:8080/"
        },
        "id": "b_yL1ICEG4sD",
        "outputId": "ccb5cdd9-d43b-4365-9e52-5e016b7bb8fc"
      },
      "outputs": [
        {
          "output_type": "stream",
          "name": "stdout",
          "text": [
            "Intersection:  {1, 3}\n"
          ]
        }
      ],
      "source": [
        "print(\"Intersection: \",set1.intersection(set2))"
      ]
    },
    {
      "cell_type": "code",
      "execution_count": null,
      "metadata": {
        "colab": {
          "base_uri": "https://localhost:8080/"
        },
        "id": "KnOOjBzBG4sD",
        "outputId": "ba9ab9eb-4a32-4479-c9a2-2bdd3cd2a2e6"
      },
      "outputs": [
        {
          "output_type": "stream",
          "name": "stdout",
          "text": [
            "Diffeeerence :  {2}\n"
          ]
        }
      ],
      "source": [
        "print(\"Diffeeerence : \",set1.difference(set2))"
      ]
    },
    {
      "cell_type": "markdown",
      "metadata": {
        "id": "5ZnSBwGVG4sD"
      },
      "source": [
        "#### Set Methods"
      ]
    },
    {
      "cell_type": "markdown",
      "metadata": {
        "id": "2T7-XyZAG4sE"
      },
      "source": [
        "- add():\t                         Adds an element to the set\n",
        "- clear():\t                         Removes all the elements from the set\n",
        "- copy():\t                         Returns a copy of the set\n",
        "- difference():                    \t Returns a set containing the difference between two or more sets\n",
        "- difference_update():\t             Removes the items in this set that are also included in another, specified set\n",
        "- discard():\t                     Remove the specified item\n",
        "- intersection():\t                 Returns a set, that is the intersection of two other sets\n",
        "- intersection_update():\t         Removes the items in this set that are not present in other, specified set(s)\n",
        "- isdisjoint():\t                     Returns whether two sets have a intersection or not\n",
        "- issubset():\t                     Returns whether another set contains this set or not\n",
        "- issuperset():\t                     Returns whether this set contains another set or not\n",
        "- pop():\t                         Removes an element from the set\n",
        "- remove():\t                         Removes the specified element\n",
        "- symmetric_difference():\t         Returns a set with the symmetric differences of two sets\n",
        "- symmetric_difference_update():\t inserts the symmetric differences from this set and another\n",
        "- union():\t                         Return a set containing the union of sets\n",
        "- update():\t                         Update the set with the union of this set and others"
      ]
    },
    {
      "cell_type": "markdown",
      "metadata": {
        "id": "SE2uj-dAG4sE"
      },
      "source": [
        "### Dictionary {Key : Value}"
      ]
    },
    {
      "cell_type": "markdown",
      "metadata": {
        "id": "XWbZcJBlG4sE"
      },
      "source": [
        "Dictionary is a collection which is unordered, changeable and indexed. No duplicate members."
      ]
    },
    {
      "cell_type": "code",
      "execution_count": null,
      "metadata": {
        "id": "AgihbL6hG4sE"
      },
      "outputs": [],
      "source": [
        "A = [\"Jafseer\",\"DCA\",\"CUSAT\"] #list\n",
        "B= {'name':\"Jafseer\",\"dep\":\"DCA\",\"college\":\"CUSAT\"} #dictionary"
      ]
    },
    {
      "cell_type": "code",
      "execution_count": null,
      "metadata": {
        "colab": {
          "base_uri": "https://localhost:8080/"
        },
        "id": "ZWscb1t3G4sE",
        "outputId": "2988b3ef-33b1-4aaf-cf7e-9a5fbbdcda70"
      },
      "outputs": [
        {
          "output_type": "stream",
          "name": "stdout",
          "text": [
            "['Jafseer', 'DCA', 'CUSAT']\n"
          ]
        }
      ],
      "source": [
        "print(A)"
      ]
    },
    {
      "cell_type": "code",
      "execution_count": null,
      "metadata": {
        "colab": {
          "base_uri": "https://localhost:8080/"
        },
        "id": "cisO1acxG4sF",
        "outputId": "aec3f443-7cd3-43d2-8312-3ce404c100f5"
      },
      "outputs": [
        {
          "output_type": "stream",
          "name": "stdout",
          "text": [
            "{'name': 'Jafseer', 'dep': 'DCA', 'college': 'CUSAT'}\n"
          ]
        }
      ],
      "source": [
        "print(B)"
      ]
    },
    {
      "cell_type": "code",
      "execution_count": null,
      "metadata": {
        "colab": {
          "base_uri": "https://localhost:8080/"
        },
        "id": "FGrl6kpoG4sF",
        "outputId": "a646b460-0f47-4927-ba15-9ea2ee5ad896"
      },
      "outputs": [
        {
          "output_type": "stream",
          "name": "stdout",
          "text": [
            "Jafseer\n"
          ]
        }
      ],
      "source": [
        "print(B['name'])"
      ]
    },
    {
      "cell_type": "code",
      "execution_count": null,
      "metadata": {
        "colab": {
          "base_uri": "https://localhost:8080/"
        },
        "id": "JC6NUNarG4sF",
        "outputId": "0d96017d-baff-4c13-932d-af4c39602e63"
      },
      "outputs": [
        {
          "output_type": "stream",
          "name": "stdout",
          "text": [
            "Jafseer\n"
          ]
        }
      ],
      "source": [
        "print(B.get('name'))"
      ]
    },
    {
      "cell_type": "code",
      "execution_count": null,
      "metadata": {
        "colab": {
          "base_uri": "https://localhost:8080/"
        },
        "id": "Bg6iLfxsG4sG",
        "outputId": "2fa70360-2ac1-4b3a-f4d5-8499430a83ab"
      },
      "outputs": [
        {
          "output_type": "stream",
          "name": "stdout",
          "text": [
            "False\n"
          ]
        }
      ],
      "source": [
        "print('phone' in B)"
      ]
    },
    {
      "cell_type": "code",
      "execution_count": null,
      "metadata": {
        "colab": {
          "base_uri": "https://localhost:8080/"
        },
        "id": "EgZzTIkYG4sG",
        "outputId": "dc95cd22-d070-4885-e456-d8b9aed31c35"
      },
      "outputs": [
        {
          "output_type": "stream",
          "name": "stdout",
          "text": [
            "False\n"
          ]
        }
      ],
      "source": [
        "print('Jafseer' in B)"
      ]
    },
    {
      "cell_type": "code",
      "execution_count": null,
      "metadata": {
        "colab": {
          "base_uri": "https://localhost:8080/"
        },
        "id": "P5TjHol3G4sG",
        "outputId": "fdc72f36-8986-4eda-8ad4-ba266f651d92"
      },
      "outputs": [
        {
          "output_type": "stream",
          "name": "stdout",
          "text": [
            "True\n"
          ]
        }
      ],
      "source": [
        "print('name' in B)"
      ]
    },
    {
      "cell_type": "code",
      "execution_count": null,
      "metadata": {
        "colab": {
          "base_uri": "https://localhost:8080/"
        },
        "id": "6WkZO5PjG4sH",
        "outputId": "43f181eb-2b11-47c4-808f-c9e3414512bd"
      },
      "outputs": [
        {
          "output_type": "stream",
          "name": "stdout",
          "text": [
            "{'name': 'Jafseer', 'dep': 'DCA', 'college': 'CUSAT', 'phone': '9946118433'}\n"
          ]
        }
      ],
      "source": [
        "B['phone']='9946118433'\n",
        "print(B)"
      ]
    },
    {
      "cell_type": "code",
      "execution_count": null,
      "metadata": {
        "colab": {
          "base_uri": "https://localhost:8080/"
        },
        "id": "7QEKWSPYG4sH",
        "outputId": "4f4d46bd-68c2-47a9-d280-a29901a3cd36"
      },
      "outputs": [
        {
          "output_type": "stream",
          "name": "stdout",
          "text": [
            "name Jafseer\n",
            "dep DCA\n",
            "college CUSAT\n",
            "phone 9946118433\n"
          ]
        }
      ],
      "source": [
        "for key in B:\n",
        "    print(key,B[key])"
      ]
    },
    {
      "cell_type": "code",
      "execution_count": null,
      "metadata": {
        "colab": {
          "base_uri": "https://localhost:8080/"
        },
        "id": "V_On9wkoG4sI",
        "outputId": "ba23a7dd-a73b-4289-a90f-b70103036181"
      },
      "outputs": [
        {
          "output_type": "stream",
          "name": "stdout",
          "text": [
            "name Jafseer\n",
            "dep DCA\n",
            "college CUSAT\n",
            "phone 9946118433\n"
          ]
        }
      ],
      "source": [
        "for key,value in B.items():\n",
        "    print(key,value)"
      ]
    },
    {
      "cell_type": "markdown",
      "metadata": {
        "id": "SzWRz96BG4sI"
      },
      "source": [
        "Copy"
      ]
    },
    {
      "cell_type": "code",
      "execution_count": null,
      "metadata": {
        "colab": {
          "base_uri": "https://localhost:8080/"
        },
        "id": "yy9xmmzfG4sJ",
        "outputId": "e92b511f-8a0b-4d86-ab7c-f79d9b7a6cbd"
      },
      "outputs": [
        {
          "output_type": "stream",
          "name": "stdout",
          "text": [
            "name Jafseer\n",
            "dep DCA\n",
            "college CUSAT\n",
            "phone 9946118433\n"
          ]
        }
      ],
      "source": [
        "myDict=B.copy()\n",
        "for key,value in myDict.items():\n",
        "    print(key,value)"
      ]
    },
    {
      "cell_type": "code",
      "execution_count": null,
      "metadata": {
        "colab": {
          "base_uri": "https://localhost:8080/"
        },
        "id": "cyjkAZsoG4sJ",
        "outputId": "c0d7fe88-4b64-4491-9e28-bbd7a1952906"
      },
      "outputs": [
        {
          "output_type": "stream",
          "name": "stdout",
          "text": [
            "dict_keys(['name', 'dep', 'college', 'phone'])\n"
          ]
        }
      ],
      "source": [
        "print(B.keys())"
      ]
    },
    {
      "cell_type": "code",
      "execution_count": null,
      "metadata": {
        "colab": {
          "base_uri": "https://localhost:8080/"
        },
        "id": "_Yabt2V2G4sJ",
        "outputId": "384d7ae1-a7af-4e0a-9a40-923ddc1dc957"
      },
      "outputs": [
        {
          "output_type": "stream",
          "name": "stdout",
          "text": [
            "dict_values(['Jafseer', 'DCA', 'CUSAT', '9946118433'])\n"
          ]
        }
      ],
      "source": [
        "print(B.values())"
      ]
    },
    {
      "cell_type": "markdown",
      "metadata": {
        "id": "65_WpEVqG4sJ"
      },
      "source": [
        "Create a list of integers from 1 to 10, using list comprehension create lists of squares and cubes. Then create a dictonary where keys as numbers,squares and cubes and values are corresponding lists, finally itrate through dictionary to print it"
      ]
    },
    {
      "cell_type": "code",
      "execution_count": null,
      "metadata": {
        "colab": {
          "base_uri": "https://localhost:8080/"
        },
        "id": "Mqrk1fOwG4sJ",
        "outputId": "4675ac38-7cc4-4e56-c7c8-49d731e28848"
      },
      "outputs": [
        {
          "output_type": "stream",
          "name": "stdout",
          "text": [
            "Numbers : [1, 2, 3, 4, 5, 6, 7, 8, 9, 10]\n",
            "Squares : [1, 4, 9, 16, 25, 36, 49, 64, 81, 100]\n",
            "Cubes : [1, 8, 27, 64, 125, 216, 343, 512, 729, 1000]\n"
          ]
        }
      ],
      "source": [
        "numbers=list(range(1,11))\n",
        "sqr=[x**2 for x in numbers]\n",
        "cub=[x**3 for x in numbers]\n",
        "math_dic={'Numbers':numbers,'Squares':sqr,'Cubes':cub}\n",
        "for key,value in math_dic.items():\n",
        "    print(key,':',value)"
      ]
    },
    {
      "cell_type": "markdown",
      "metadata": {
        "id": "Rms5qwkZG4sK"
      },
      "source": [
        "#### Dictionary Methods"
      ]
    },
    {
      "cell_type": "markdown",
      "metadata": {
        "id": "QCbj532-G4sK"
      },
      "source": [
        "- clear():\t    Removes all the elements from the dictionary\n",
        "- copy():         Returns a copy of the dictionary\n",
        "- fromkeys():\t    Returns a dictionary with the specified keys and value\n",
        "- get():\t        Returns the value of the specified key\n",
        "- items():\t    Returns a list containing a tuple for each key value pair\n",
        "- keys():\t        Returns a list containing the dictionary's keys\n",
        "- pop():\t        Removes the element with the specified key\n",
        "- popitem():\t    Removes the last inserted key-value pair\n",
        "- setdefault():\tReturns the value of the specified key. If the key does not exist: insert the key, with the specified value\n",
        "- update():\t    Updates the dictionary with the specified key-value pairs\n",
        "- values():\t    Returns a list of all the values in the dictionary"
      ]
    },
    {
      "cell_type": "markdown",
      "metadata": {
        "id": "xJn_5ZqBG4sK"
      },
      "source": [
        "# Functions"
      ]
    },
    {
      "cell_type": "code",
      "execution_count": null,
      "metadata": {
        "id": "SUH-Uw8-G4sK"
      },
      "outputs": [],
      "source": [
        "...\n",
        "def <funtion_name>(parameter1,parameter2,.....):\n",
        "\n",
        "    statement2\n",
        "\n",
        "    return<value>\n",
        "..."
      ]
    },
    {
      "cell_type": "code",
      "execution_count": null,
      "metadata": {
        "id": "5LFKWEGjG4sK"
      },
      "outputs": [],
      "source": [
        "def getTwice (number):\n",
        "    twiceNum=2*number\n",
        "    return twiceNum\n"
      ]
    },
    {
      "cell_type": "code",
      "execution_count": null,
      "metadata": {
        "colab": {
          "base_uri": "https://localhost:8080/"
        },
        "id": "yoUfJcKRG4sL",
        "outputId": "59f02ccb-977c-4ebf-e1d7-7168bf5b3688"
      },
      "outputs": [
        {
          "output_type": "stream",
          "name": "stdout",
          "text": [
            "20\n"
          ]
        }
      ],
      "source": [
        "print(getTwice(10))"
      ]
    },
    {
      "cell_type": "code",
      "execution_count": null,
      "metadata": {
        "id": "4fYAOJpIG4sL"
      },
      "outputs": [],
      "source": [
        "#To check prime or not\n",
        "\n",
        "def isPrime(n):\n",
        "    if n<=1:\n",
        "        return False\n",
        "    for factor in range(2,n//2+1):\n",
        "        if n%factor == 0:\n",
        "            return False\n",
        "    return True"
      ]
    },
    {
      "cell_type": "code",
      "execution_count": null,
      "metadata": {
        "colab": {
          "base_uri": "https://localhost:8080/"
        },
        "id": "cgyIIjOqG4sT",
        "outputId": "4871d46d-399c-45b8-e57c-6ffdc08459d6"
      },
      "outputs": [
        {
          "output_type": "stream",
          "name": "stdout",
          "text": [
            "False\n"
          ]
        }
      ],
      "source": [
        "print(isPrime(1))"
      ]
    },
    {
      "cell_type": "code",
      "execution_count": null,
      "metadata": {
        "id": "qTo3jXDNG4sU"
      },
      "outputs": [],
      "source": [
        "# Prime numbeers between Two numbers\n",
        "def primes(lowerLimit,upperLimit):\n",
        "    for n in range(lowerLimit,upperLimit):\n",
        "        if isPrime(n) == True:\n",
        "            print(n,end= ' ')"
      ]
    },
    {
      "cell_type": "code",
      "execution_count": null,
      "metadata": {
        "colab": {
          "base_uri": "https://localhost:8080/"
        },
        "id": "-1Px0F2iG4sU",
        "outputId": "6357db51-a392-4204-877c-35404109a6b4"
      },
      "outputs": [
        {
          "output_type": "stream",
          "name": "stdout",
          "text": [
            "2 3 5 7 11 13 17 19 23 29 31 37 41 43 47 53 59 61 67 71 73 79 83 89 97 "
          ]
        }
      ],
      "source": [
        "primes(0,100)"
      ]
    },
    {
      "cell_type": "markdown",
      "metadata": {
        "id": "p9kIEzU_G4sV"
      },
      "source": [
        "Return Multiple Values"
      ]
    },
    {
      "cell_type": "code",
      "execution_count": null,
      "metadata": {
        "id": "-_3CiLFGG4sW"
      },
      "outputs": [],
      "source": [
        "#Swap two variables\n",
        "def swap(a,b):\n",
        "    t=a\n",
        "    a=b\n",
        "    b=t\n",
        "    return a,b"
      ]
    },
    {
      "cell_type": "code",
      "execution_count": null,
      "metadata": {
        "colab": {
          "base_uri": "https://localhost:8080/"
        },
        "id": "jrr7SpfgG4sX",
        "outputId": "0f5cae60-542e-4a7a-e069-78ec0e7db582"
      },
      "outputs": [
        {
          "output_type": "stream",
          "name": "stdout",
          "text": [
            "Before swap x= 5  y =7\n",
            "After swap x= 7  y= 5\n"
          ]
        }
      ],
      "source": [
        "x=5\n",
        "y=7\n",
        "print(\"Before swap x= \"+str(x)+\"  y =\"+str(y))\n",
        "x,y=swap(x,y)\n",
        "print(\"After swap x= \"+str(x)+\"  y= \"+str(y))"
      ]
    },
    {
      "cell_type": "markdown",
      "metadata": {
        "id": "iveQFj5BG4sY"
      },
      "source": [
        "#### Functions with Default Arguments"
      ]
    },
    {
      "cell_type": "code",
      "execution_count": null,
      "metadata": {
        "id": "qhdlbn5sG4sY"
      },
      "outputs": [],
      "source": [
        "def greet(name, loud=False):\n",
        "    if loud == False:\n",
        "        msg =\"hello  \"+ name\n",
        "    else:\n",
        "        msg =\"hello  \"+ name.upper()\n",
        "    return msg"
      ]
    },
    {
      "cell_type": "code",
      "execution_count": null,
      "metadata": {
        "colab": {
          "base_uri": "https://localhost:8080/"
        },
        "id": "0pWeb4qvG4sZ",
        "outputId": "c07223e5-ba7a-4452-85eb-175003c85961"
      },
      "outputs": [
        {
          "output_type": "stream",
          "name": "stdout",
          "text": [
            "hello  shaji\n"
          ]
        }
      ],
      "source": [
        "print(greet(\"shaji\"))"
      ]
    },
    {
      "cell_type": "code",
      "execution_count": null,
      "metadata": {
        "colab": {
          "base_uri": "https://localhost:8080/"
        },
        "id": "l8z7TrOQG4sb",
        "outputId": "dad373f8-ed0f-47af-a8f3-5819b664af11"
      },
      "outputs": [
        {
          "output_type": "stream",
          "name": "stdout",
          "text": [
            "hello  SHAJI\n"
          ]
        }
      ],
      "source": [
        "print(greet(\"shaji\",loud=True))"
      ]
    },
    {
      "cell_type": "code",
      "execution_count": null,
      "metadata": {
        "id": "4xpAKo0MG4sc"
      },
      "outputs": [],
      "source": [
        "#Calculate the payable amount after n years for princcipal amound and given rate of interest\n",
        "# default year iss 1 year, interest is 5%\n",
        "def calculatePayable(principle, year=1,interestRate=5):\n",
        "    return principle*(1+year*interestRate/100)"
      ]
    },
    {
      "cell_type": "code",
      "execution_count": null,
      "metadata": {
        "colab": {
          "base_uri": "https://localhost:8080/"
        },
        "id": "gbzuG4zVG4sc",
        "outputId": "f06c212d-9bbd-4c69-bc73-61f0fda98c49"
      },
      "outputs": [
        {
          "output_type": "execute_result",
          "data": {
            "text/plain": [
              "1200.0"
            ]
          },
          "metadata": {},
          "execution_count": 229
        }
      ],
      "source": [
        "calculatePayable(1000,year=2,interestRate=10)"
      ]
    },
    {
      "cell_type": "code",
      "execution_count": null,
      "metadata": {
        "colab": {
          "base_uri": "https://localhost:8080/"
        },
        "id": "OxFCH9dWG4sd",
        "outputId": "15c96f21-3def-42ff-b169-5e8348ffc5a3"
      },
      "outputs": [
        {
          "output_type": "execute_result",
          "data": {
            "text/plain": [
              "1050.0"
            ]
          },
          "metadata": {},
          "execution_count": 230
        }
      ],
      "source": [
        "calculatePayable(1000)"
      ]
    },
    {
      "cell_type": "markdown",
      "metadata": {
        "id": "6yAQBUAkG4sd"
      },
      "source": [
        "#### Passing a List as an Argument"
      ]
    },
    {
      "cell_type": "code",
      "execution_count": null,
      "metadata": {
        "colab": {
          "base_uri": "https://localhost:8080/"
        },
        "id": "dE-uFz4MG4se",
        "outputId": "22b78751-b490-472f-c6a3-37c0e0c6c16b"
      },
      "outputs": [
        {
          "output_type": "stream",
          "name": "stdout",
          "text": [
            "apple\n",
            "banana\n",
            "cherry\n"
          ]
        }
      ],
      "source": [
        "def my_function(food):\n",
        "  for x in food:\n",
        "    print(x)\n",
        "\n",
        "fruits = [\"apple\", \"banana\", \"cherry\"]\n",
        "\n",
        "my_function(fruits)"
      ]
    },
    {
      "cell_type": "markdown",
      "metadata": {
        "id": "K1nlkhASG4se"
      },
      "source": [
        "#### Passing a Tuple as an Argument  (Arbitrary Arguments, *args)\n",
        "- If you do not know how many arguments that will be passed into your function\n",
        "- This way the function will receive a tuple of arguments"
      ]
    },
    {
      "cell_type": "code",
      "execution_count": null,
      "metadata": {
        "colab": {
          "base_uri": "https://localhost:8080/"
        },
        "id": "FCiIMcWmG4sf",
        "outputId": "9d923166-3d4f-4c3d-98e6-5b73bc80b946"
      },
      "outputs": [
        {
          "output_type": "stream",
          "name": "stdout",
          "text": [
            "The youngest child is Linus\n"
          ]
        }
      ],
      "source": [
        "def my_function(*kids):\n",
        "  print(\"The youngest child is \" + kids[2])\n",
        "\n",
        "my_function(\"Emil\", \"Tobias\", \"Linus\")"
      ]
    },
    {
      "cell_type": "markdown",
      "metadata": {
        "id": "1_XV8vI9G4sf"
      },
      "source": [
        "#### Passing a Dictionary as an Argument / (Arbitrary Keyword Arguments, **kwargs)\n",
        "- You can also send arguments with the key = value syntax.\n",
        "- This way the order of the arguments does not matter.\n",
        "- This way the function will receive a dictionary of arguments"
      ]
    },
    {
      "cell_type": "code",
      "execution_count": null,
      "metadata": {
        "colab": {
          "base_uri": "https://localhost:8080/"
        },
        "id": "cibBbiwqG4sg",
        "outputId": "271b9a2b-4337-47e3-f98e-e04237861cb4"
      },
      "outputs": [
        {
          "output_type": "stream",
          "name": "stdout",
          "text": [
            "His last name is Thomas\n"
          ]
        }
      ],
      "source": [
        "def my_function(**kid):\n",
        "  print(\"His last name is \" + kid[\"lname\"])\n",
        "\n",
        "my_function(fname = \"Tovino\", lname = \"Thomas\")"
      ]
    },
    {
      "cell_type": "markdown",
      "metadata": {
        "id": "Oiat0advG4sh"
      },
      "source": [
        "# Class- Object Oriented Programming"
      ]
    },
    {
      "cell_type": "markdown",
      "metadata": {
        "id": "1pbTGCulG4si"
      },
      "source": [
        "##### The __init__() Function\n",
        "- Use the __init__() function to assign values to object properties, or other operations that are necessary to do when the object is being created:\n",
        "- Note: The __init__() function is called automatically every time the class is being used to create a new object."
      ]
    },
    {
      "cell_type": "code",
      "execution_count": null,
      "metadata": {
        "id": "nctsltmnG4sj"
      },
      "outputs": [],
      "source": [
        "class Person:\n",
        "  def __init__(self, name, age):\n",
        "    self.name = name\n",
        "    self.age = age\n",
        "\n",
        "p1 = Person(\"John\", 36)\n",
        "\n",
        "print(p1.name)\n",
        "print(p1.age)"
      ]
    },
    {
      "cell_type": "markdown",
      "metadata": {
        "id": "xN-4mvaYG4sk"
      },
      "source": [
        "##### The self Parameter\n",
        "- The __self__ parameter is a reference to the current instance of the class, and is used to access variables that belongs to the class.\n",
        "- __Note:__ It does not have to be named __self__ , you can call it whatever you like, but it has to be the first parameter of any function in the class:"
      ]
    },
    {
      "cell_type": "code",
      "execution_count": null,
      "metadata": {
        "colab": {
          "base_uri": "https://localhost:8080/"
        },
        "id": "NRgEt4I6G4sl",
        "outputId": "c1e792cc-4cb5-421d-beee-f3a9817369ad"
      },
      "outputs": [
        {
          "output_type": "stream",
          "name": "stdout",
          "text": [
            "Hello my name is John\n"
          ]
        }
      ],
      "source": [
        "#Use the words mysillyobject and abc instead of self:\n",
        "\n",
        "class Person:\n",
        "  def __init__(mysillyobject, name, age):\n",
        "    mysillyobject.name = name\n",
        "    mysillyobject.age = age\n",
        "\n",
        "  def myfunc(abc):\n",
        "    print(\"Hello my name is \" + abc.name)\n",
        "\n",
        "p1 = Person(\"John\", 36)\n",
        "p1.myfunc()"
      ]
    },
    {
      "cell_type": "code",
      "execution_count": null,
      "metadata": {
        "id": "Q2lj3UokG4sl"
      },
      "outputs": [],
      "source": [
        "class Adder:\n",
        "    def setValues(self, a,b):\n",
        "        self.x=a\n",
        "        self.y=b\n",
        "    def calculate(self):\n",
        "        self.sum = self.x+self.y\n",
        "    def getSum(self) :\n",
        "        return self.sum\n",
        "    def printSum(self):\n",
        "        print(\"{0}+{1}={2}\".format(self.x,self.y,self.sum))"
      ]
    },
    {
      "cell_type": "code",
      "execution_count": null,
      "metadata": {
        "colab": {
          "base_uri": "https://localhost:8080/"
        },
        "id": "0XAwQlzEG4sn",
        "outputId": "80d3f9bd-8daf-4689-c7b0-dab6cadeb556"
      },
      "outputs": [
        {
          "output_type": "stream",
          "name": "stdout",
          "text": [
            "8\n"
          ]
        }
      ],
      "source": [
        "m=Adder()\n",
        "m.setValues(3,5)\n",
        "m.calculate()\n",
        "print(m.getSum())"
      ]
    },
    {
      "cell_type": "code",
      "execution_count": null,
      "metadata": {
        "colab": {
          "base_uri": "https://localhost:8080/"
        },
        "id": "lvUS4spEG4so",
        "outputId": "264c3417-f0ce-42e3-e72f-4d176457f6c3"
      },
      "outputs": [
        {
          "output_type": "stream",
          "name": "stdout",
          "text": [
            "3+5=8\n"
          ]
        }
      ],
      "source": [
        "m.printSum()"
      ]
    },
    {
      "cell_type": "code",
      "execution_count": null,
      "metadata": {
        "colab": {
          "base_uri": "https://localhost:8080/"
        },
        "id": "cuLUYPmrG4so",
        "outputId": "e27d43ef-9a91-477b-ba1d-bb4272a378c8"
      },
      "outputs": [
        {
          "output_type": "stream",
          "name": "stdout",
          "text": [
            "8\n"
          ]
        }
      ],
      "source": [
        "def main():    #we can give any name\n",
        "    m=Adder()\n",
        "    m.setValues(3,5)\n",
        "    m.calculate()\n",
        "    print(m.getSum())\n",
        "\n",
        "if __name__==\"__main__\":    #<----- Entry point\n",
        "    main()"
      ]
    },
    {
      "cell_type": "markdown",
      "metadata": {
        "id": "CpP5xlykG4sq"
      },
      "source": [
        "Delete Objects/Object Properties"
      ]
    },
    {
      "cell_type": "code",
      "execution_count": null,
      "metadata": {
        "id": "VyZe91G6G4sq"
      },
      "outputs": [],
      "source": [
        "del m.x"
      ]
    },
    {
      "cell_type": "code",
      "execution_count": null,
      "metadata": {
        "id": "-1Gh5z-oG4sr"
      },
      "outputs": [],
      "source": [
        "del m"
      ]
    },
    {
      "cell_type": "markdown",
      "source": [
        "## **THANK YOU**"
      ],
      "metadata": {
        "id": "eY_8KsuyrISD"
      }
    },
    {
      "cell_type": "markdown",
      "source": [
        "***A lot more to learn, Keep Learning***"
      ],
      "metadata": {
        "id": "KZS8cb3nrRFe"
      }
    },
    {
      "cell_type": "markdown",
      "source": [
        "1. Sum of numbers between two given nubers\n",
        "2. Python code to count the number of occurrences using functions."
      ],
      "metadata": {
        "id": "2dOkKxbsrYEu"
      }
    }
  ],
  "metadata": {
    "kernelspec": {
      "display_name": "Python 3",
      "language": "python",
      "name": "python3"
    },
    "language_info": {
      "codemirror_mode": {
        "name": "ipython",
        "version": 3
      },
      "file_extension": ".py",
      "mimetype": "text/x-python",
      "name": "python",
      "nbconvert_exporter": "python",
      "pygments_lexer": "ipython3",
      "version": "3.7.6"
    },
    "colab": {
      "provenance": []
    }
  },
  "nbformat": 4,
  "nbformat_minor": 0
}