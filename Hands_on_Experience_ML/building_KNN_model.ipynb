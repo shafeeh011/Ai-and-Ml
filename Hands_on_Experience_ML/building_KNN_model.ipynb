{
 "cells": [
  {
   "cell_type": "markdown",
   "metadata": {},
   "source": [
    "**Euclidean Distance Formula - Step by Step**\n",
    "\n",
    "Mathematical Formula:\n",
    "\n",
    "For two points p and q in n-dimensional space\n",
    "\n",
    "d(p,q) = √[(p₁-q₁)² + (p₂-q₂)² + ... + (pₙ-qₙ)²]\n",
    "\n",
    "Components:\n",
    "\n",
    "1. Square differences between coordinates\n",
    "\n",
    "2. Sum all squared differences\n",
    "\n",
    "3. Take square root of sum"
   ]
  },
  {
   "cell_type": "markdown",
   "metadata": {},
   "source": [
    "**Manhattan Distance Implementation Plan**\n",
    "\n",
    "Define mathematical formula: d(p,q) = |p₁-q₁| + |p₂-q₂| + ... + |pₙ-qₙ|\n",
    "\n",
    "1. Create function with numpy vectorization\n",
    "\n",
    "2. Add example usage\n",
    "\n",
    "3. Include docstring with formula"
   ]
  },
  {
   "cell_type": "markdown",
   "metadata": {},
   "source": []
  },
  {
   "cell_type": "code",
   "execution_count": 1,
   "metadata": {},
   "outputs": [],
   "source": [
    "#importing libraries\n",
    "import numpy as np\n",
    "import pandas as pd\n",
    "import statistics"
   ]
  },
  {
   "cell_type": "markdown",
   "metadata": {},
   "source": [
    "## KNN classifier"
   ]
  },
  {
   "cell_type": "code",
   "execution_count": 4,
   "metadata": {},
   "outputs": [],
   "source": [
    "class KNN:\n",
    "    \n",
    "    # initiating parameters\n",
    "    def __init__(self,distance_metric):\n",
    "        \n",
    "        self.distance_metric = distance_metric\n",
    "        \n",
    "        \n",
    "    # defining distance    \n",
    "    def get_distance(self,training_data_point, testing_data_point):\n",
    "        \n",
    "        '''\n",
    "        if(self.distance_metric == 'euclidean'):\n",
    "            return np.sqrt(np.sum(training_data_point - testing_data_point)**2)\n",
    "        \n",
    "        elif(self.distance_metric == 'manhattan'):\n",
    "            return np.sum(np.abs(training_data_point - testing_data_point))\n",
    "        \n",
    "        '''\n",
    "        if (self.distance_metric == 'euclidean'):\n",
    "            \n",
    "            distance = 0\n",
    "            for i in range(len(training_data_point)):\n",
    "                distance += (training_data_point[i] - testing_data_point[i])**2\n",
    "            \n",
    "            euclidean_distance = np.sqrt(distance)\n",
    "            return euclidean_distance\n",
    "        \n",
    "        elif (self.distance_metric == 'manhattan'):\n",
    "            \n",
    "            distance = 0\n",
    "            \n",
    "            for i in range(len(training_data_point)):\n",
    "                distance += np.abs(training_data_point[i] - testing_data_point[i])\n",
    "            \n",
    "            manhattan_distance = distance\n",
    "            return manhattan_distance\n",
    "        \n",
    "        \n",
    "    #getting nearest neighbors    \n",
    "    def nearest_neighbors(self, X_train, test_data, k):\n",
    "        \n",
    "        distance_list = []\n",
    "        for training_data in X_train:\n",
    "            distance = self.get_distance(training_data, test_data)\n",
    "            distance_list.append(training_data, distance)\n",
    "        \n",
    "        distance_list.sort(key=lambda x: x[1])  \n",
    "        \n",
    "        neighbors_list = []\n",
    "        for j in range(k):\n",
    "            neighbors_list.append(distance_list[j][0])\n",
    "        return neighbors_list\n",
    "    \n",
    "    # predicting the class new points   \n",
    "    def predict(self, X_train, test_data, k):\n",
    "        \n",
    "        neighbors = self.nearest_neighbors(X_train, test_data, k)\n",
    "        for data in neighbors:\n",
    "            \n",
    "            classes = []\n",
    "            classes.append(data[-1])\n",
    "\n",
    "        predicted_class = statistics.mode(classes)\n",
    "        return predicted_class\n",
    "    "
   ]
  },
  {
   "cell_type": "code",
   "execution_count": null,
   "metadata": {},
   "outputs": [],
   "source": []
  }
 ],
 "metadata": {
  "kernelspec": {
   "display_name": ".venv",
   "language": "python",
   "name": "python3"
  },
  "language_info": {
   "codemirror_mode": {
    "name": "ipython",
    "version": 3
   },
   "file_extension": ".py",
   "mimetype": "text/x-python",
   "name": "python",
   "nbconvert_exporter": "python",
   "pygments_lexer": "ipython3",
   "version": "3.12.3"
  }
 },
 "nbformat": 4,
 "nbformat_minor": 4
}
