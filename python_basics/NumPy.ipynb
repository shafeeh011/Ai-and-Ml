{
  "cells": [
    {
      "cell_type": "markdown",
      "metadata": {
        "id": "-KqxaWNZ4yC_"
      },
      "source": [
        "# Python for ML"
      ]
    },
    {
      "cell_type": "markdown",
      "metadata": {
        "id": "0PWPtDNL4yDI"
      },
      "source": [
        "#### Three powerful packages\n",
        "1. numpy\n",
        "2. pandas\n",
        "3. mathplotlib\n",
        "4. SkLearn"
      ]
    },
    {
      "cell_type": "markdown",
      "metadata": {
        "id": "RRF19uBU4yDK"
      },
      "source": [
        "### numpy (Numerical Python)"
      ]
    },
    {
      "cell_type": "markdown",
      "metadata": {
        "id": "F2GCHmf44yDL"
      },
      "source": [
        "- NumPy is a python library used for working with __arrays__.\n",
        "- It also has functions for working in domain of __linear algebra, fourier transform, and matrices__.\n",
        "- The array object in NumPy is called __ndarray__."
      ]
    },
    {
      "cell_type": "code",
      "execution_count": null,
      "metadata": {
        "id": "CRuXdqIG4yDO"
      },
      "outputs": [],
      "source": [
        "import numpy"
      ]
    },
    {
      "cell_type": "code",
      "execution_count": null,
      "metadata": {
        "id": "B6gnn9zf4yDR"
      },
      "outputs": [],
      "source": [
        "import numpy as np"
      ]
    },
    {
      "cell_type": "code",
      "execution_count": null,
      "metadata": {
        "id": "x5Bk9_BX4yDS",
        "outputId": "372dff01-a02c-4f7e-cc13-f82453bf3492"
      },
      "outputs": [
        {
          "name": "stdout",
          "output_type": "stream",
          "text": [
            "1.18.1\n"
          ]
        }
      ],
      "source": [
        "print(np.__version__)   #for check numpy version"
      ]
    },
    {
      "cell_type": "code",
      "execution_count": null,
      "metadata": {
        "id": "c1mxtfYp4yDV"
      },
      "outputs": [],
      "source": [
        "x = np.array([2,1,0])"
      ]
    },
    {
      "cell_type": "code",
      "execution_count": null,
      "metadata": {
        "id": "K-B1awII4yDX",
        "outputId": "f03c546a-8f52-4e96-bd09-f27024bb1e6a"
      },
      "outputs": [
        {
          "name": "stdout",
          "output_type": "stream",
          "text": [
            "[2 1 0]\n",
            "<class 'numpy.ndarray'>\n",
            "(3,)\n",
            "3\n"
          ]
        }
      ],
      "source": [
        "print(x)\n",
        "print(type(x))\n",
        "print(x.shape)\n",
        "print(len(x))"
      ]
    },
    {
      "cell_type": "code",
      "execution_count": null,
      "metadata": {
        "id": "fggR1wM34yDY",
        "outputId": "fc26505b-750f-4e71-8ec2-c199d279d621"
      },
      "outputs": [
        {
          "name": "stdout",
          "output_type": "stream",
          "text": [
            "[[1 2 3]\n",
            " [5 6 7]]\n",
            "<class 'numpy.ndarray'>\n",
            "(2, 3)\n",
            "2\n"
          ]
        }
      ],
      "source": [
        "y=np.array([[1,2,3],[5,6,7]])\n",
        "print(y)\n",
        "print(type(y))\n",
        "print(y.shape)\n",
        "print(len(y))"
      ]
    },
    {
      "cell_type": "code",
      "execution_count": null,
      "metadata": {
        "id": "gzoOFUAi4yDZ",
        "outputId": "5928b9d6-28d4-4f2f-b313-b3961731bd87"
      },
      "outputs": [
        {
          "name": "stdout",
          "output_type": "stream",
          "text": [
            "[[1.+0.j 2.+0.j]\n",
            " [0.+0.j 3.+0.j]]\n",
            "<class 'numpy.ndarray'>\n",
            "(2, 2)\n",
            "2\n"
          ]
        }
      ],
      "source": [
        "z= np.array([[1.+0.j, 2.+0.j],[0.+0.j, 3.+0.j]])\n",
        "print(z)\n",
        "print(type(z))\n",
        "print(z.shape)\n",
        "print(len(z))"
      ]
    },
    {
      "cell_type": "code",
      "execution_count": null,
      "metadata": {
        "id": "CQG-lcFp4yDa",
        "outputId": "4fc0f68c-d857-495b-c816-19a9362e3e18"
      },
      "outputs": [
        {
          "name": "stdout",
          "output_type": "stream",
          "text": [
            "[list([1, 2]) list([3, 4, 5])]\n",
            "<class 'numpy.ndarray'>\n",
            "(2,)\n",
            "2\n"
          ]
        },
        {
          "name": "stderr",
          "output_type": "stream",
          "text": [
            "C:\\Users\\JaFsi\\anaconda3\\lib\\site-packages\\ipykernel_launcher.py:1: VisibleDeprecationWarning: Creating an ndarray from ragged nested sequences (which is a list-or-tuple of lists-or-tuples-or ndarrays with different lengths or shapes) is deprecated. If you meant to do this, you must specify 'dtype=object' when creating the ndarray.\n",
            "  \"\"\"Entry point for launching an IPython kernel.\n"
          ]
        }
      ],
      "source": [
        "y = np.array([[1,2],[3,4,5]])\n",
        "print(y)\n",
        "print(type(y))\n",
        "print(y.shape)\n",
        "print(len(y))"
      ]
    },
    {
      "cell_type": "markdown",
      "metadata": {
        "id": "cBDin3mV4yDb"
      },
      "source": [
        "Checking the Data Type of an Array"
      ]
    },
    {
      "cell_type": "code",
      "execution_count": null,
      "metadata": {
        "id": "Ey1aXhZM4yDc",
        "outputId": "8350cc88-7c0f-4d2a-9f2d-7ca3e811a0f2"
      },
      "outputs": [
        {
          "name": "stdout",
          "output_type": "stream",
          "text": [
            "int32\n"
          ]
        }
      ],
      "source": [
        "print(x.dtype)"
      ]
    },
    {
      "cell_type": "code",
      "execution_count": null,
      "metadata": {
        "id": "unC0Zbf84yDd",
        "outputId": "8ac43ab3-3210-4e77-fc84-8cf7c373315c"
      },
      "outputs": [
        {
          "name": "stdout",
          "output_type": "stream",
          "text": [
            "object\n"
          ]
        }
      ],
      "source": [
        "print(y.dtype)"
      ]
    },
    {
      "cell_type": "code",
      "execution_count": null,
      "metadata": {
        "id": "WtSxnlAg4yDq",
        "outputId": "12fce5ff-a137-4aaa-dc8f-6a7ead11aaa1"
      },
      "outputs": [
        {
          "name": "stdout",
          "output_type": "stream",
          "text": [
            "complex128\n"
          ]
        }
      ],
      "source": [
        "print(z.dtype)"
      ]
    },
    {
      "cell_type": "markdown",
      "metadata": {
        "id": "gtoYbS684yDr"
      },
      "source": [
        "List of all data types in NumPy and the characters used to represent them.\n",
        "- i - integer\n",
        "- b - boolean\n",
        "- u - unsigned integer\n",
        "- f - float\n",
        "- c - complex float\n",
        "- m - timedelta\n",
        "- M - datetime\n",
        "- O - object\n",
        "- S - string\n",
        "- U - unicode string\n",
        "- V - fixed chunk of memory for other type ( void )"
      ]
    },
    {
      "cell_type": "markdown",
      "metadata": {
        "id": "yLTny5XA4yDs"
      },
      "source": [
        "Converting Data Type on Existing Arrays"
      ]
    },
    {
      "cell_type": "code",
      "execution_count": null,
      "metadata": {
        "id": "c91YWn3B4yDs",
        "outputId": "436340b1-9d01-4eb0-b016-ed83d6a8ec32"
      },
      "outputs": [
        {
          "name": "stdout",
          "output_type": "stream",
          "text": [
            "[1 2 3]\n",
            "int32\n"
          ]
        }
      ],
      "source": [
        "arr = np.array([1.1, 2.1, 3.1])\n",
        "\n",
        "newarr = arr.astype('i')\n",
        "\n",
        "print(newarr)\n",
        "print(newarr.dtype)"
      ]
    },
    {
      "cell_type": "markdown",
      "metadata": {
        "id": "4eGyFH7I4yDz"
      },
      "source": [
        "Creating Arrays With a Defined Data Type"
      ]
    },
    {
      "cell_type": "code",
      "execution_count": null,
      "metadata": {
        "id": "XbIbncYL4yD0",
        "outputId": "82dfa62a-06e8-4df4-bfe4-5735f98bf5e8"
      },
      "outputs": [
        {
          "name": "stdout",
          "output_type": "stream",
          "text": [
            "[b'1' b'2' b'3' b'4']\n",
            "|S1\n"
          ]
        }
      ],
      "source": [
        "arr = np.array([1, 2, 3, 4], dtype='S')\n",
        "\n",
        "print(arr)\n",
        "print(arr.dtype)"
      ]
    },
    {
      "cell_type": "markdown",
      "metadata": {
        "id": "bgljVkFn4yD0"
      },
      "source": [
        "- For i, u, f, S and U we can define size as well."
      ]
    },
    {
      "cell_type": "code",
      "execution_count": null,
      "metadata": {
        "id": "zU4ZsDV34yD1",
        "outputId": "a796ecf7-058e-476c-bb51-696b8215ca8c"
      },
      "outputs": [
        {
          "name": "stdout",
          "output_type": "stream",
          "text": [
            "[1 2 3 4]\n",
            "int32\n"
          ]
        }
      ],
      "source": [
        "arr = np.array([1, 2, 3, 4], dtype='i4')\n",
        "\n",
        "print(arr)\n",
        "print(arr.dtype)\n"
      ]
    },
    {
      "cell_type": "markdown",
      "metadata": {
        "id": "_DNL4yj04yD1"
      },
      "source": [
        "__Copy and View__"
      ]
    },
    {
      "cell_type": "code",
      "execution_count": null,
      "metadata": {
        "id": "p8bVkonq4yD2",
        "outputId": "8f97e954-0809-4da2-d67e-ed1fcc05c9e9"
      },
      "outputs": [
        {
          "name": "stdout",
          "output_type": "stream",
          "text": [
            "[1 2 3 4 5]\n",
            "None\n",
            "[1 2 3 4 5]\n",
            "[1 2 3 4 5]\n"
          ]
        }
      ],
      "source": [
        "arr = np.array([1, 2, 3, 4, 5])\n",
        "\n",
        "x = arr.copy()\n",
        "y = arr.view()\n",
        "\n",
        "\n",
        "print(x)\n",
        "print(x.base)\n",
        "print(y)\n",
        "print(y.base)"
      ]
    },
    {
      "cell_type": "markdown",
      "metadata": {
        "id": "YQYUnL7T4yD3"
      },
      "source": [
        "Check Number of Dimensions"
      ]
    },
    {
      "cell_type": "code",
      "execution_count": null,
      "metadata": {
        "id": "Ef8azS5I4yD3",
        "outputId": "c5e6c8f2-8180-4879-b72d-c09e30e2f8a0"
      },
      "outputs": [
        {
          "name": "stdout",
          "output_type": "stream",
          "text": [
            "a --->  0\n",
            "b --->  1\n",
            "c --->  2\n",
            "d --->  3\n"
          ]
        }
      ],
      "source": [
        "a = np.array(42)\n",
        "b = np.array([1, 2, 3, 4, 5])\n",
        "c = np.array([[1, 2, 3], [4, 5, 6]])\n",
        "d = np.array([[[1, 2, 3], [4, 5, 6]], [[1, 2, 3], [4, 5, 6]]])\n",
        "\n",
        "print(\"a ---> \",a.ndim)\n",
        "print(\"b ---> \",b.ndim)\n",
        "print(\"c ---> \",c.ndim)\n",
        "print(\"d ---> \",d.ndim)"
      ]
    },
    {
      "cell_type": "markdown",
      "metadata": {
        "id": "WilvbBNp4yD5"
      },
      "source": [
        "#### Higher Dimensional Arrays\n",
        "- An array can have any number of dimensions.\n",
        "- When the array is created, you can define the number of dimensions by using the __ndmin__ argument."
      ]
    },
    {
      "cell_type": "code",
      "execution_count": null,
      "metadata": {
        "id": "dJsWHzgC4yD7",
        "outputId": "322cea03-d397-4c34-e02f-b220d08dd9ae"
      },
      "outputs": [
        {
          "name": "stdout",
          "output_type": "stream",
          "text": [
            "[[[[[1 2 3 4]]]]]\n",
            "number of dimensions : 5\n"
          ]
        }
      ],
      "source": [
        "arr = np.array([1, 2, 3, 4], ndmin=5)\n",
        "\n",
        "print(arr)\n",
        "print('number of dimensions :', arr.ndim)"
      ]
    },
    {
      "cell_type": "markdown",
      "metadata": {
        "id": "1SU8IYdz4yD8"
      },
      "source": [
        "- __Note__:To create an ndarray, we can pass a __list, tuple or any array-like object__ into the __array()__ method"
      ]
    },
    {
      "cell_type": "code",
      "execution_count": null,
      "metadata": {
        "id": "RMixdQK94yD-",
        "outputId": "f03d281e-74f3-41fb-ad83-0e4ad8728e70"
      },
      "outputs": [
        {
          "name": "stdout",
          "output_type": "stream",
          "text": [
            "[[0. 0. 0.]\n",
            " [0. 0. 0.]]\n"
          ]
        }
      ],
      "source": [
        "A = np.zeros((2,3))\n",
        "print(A)"
      ]
    },
    {
      "cell_type": "code",
      "execution_count": null,
      "metadata": {
        "id": "vs8YCT1a4yD_",
        "outputId": "b53e1a72-ca13-46b8-e061-c1eb3226f2ef"
      },
      "outputs": [
        {
          "name": "stdout",
          "output_type": "stream",
          "text": [
            "[[1. 1. 1.]\n",
            " [1. 1. 1.]]\n"
          ]
        }
      ],
      "source": [
        "B = np.ones((2,3))\n",
        "print(B)"
      ]
    },
    {
      "cell_type": "code",
      "execution_count": null,
      "metadata": {
        "id": "scMJOx_54yEA",
        "outputId": "14e1953f-2494-4586-d9b2-3878e3f8f635"
      },
      "outputs": [
        {
          "name": "stdout",
          "output_type": "stream",
          "text": [
            "[[1 1 1]\n",
            " [1 1 1]]\n"
          ]
        }
      ],
      "source": [
        "B = np.ones((2,3), dtype=int)\n",
        "print(B)"
      ]
    },
    {
      "cell_type": "code",
      "execution_count": null,
      "metadata": {
        "id": "HU9YFzjk4yEB",
        "outputId": "7a598205-5492-4912-af9a-6390a0ca9908"
      },
      "outputs": [
        {
          "name": "stdout",
          "output_type": "stream",
          "text": [
            "[[1. 0. 0.]\n",
            " [0. 1. 0.]\n",
            " [0. 0. 1.]]\n"
          ]
        }
      ],
      "source": [
        "C = np.eye(3)\n",
        "print(C)"
      ]
    },
    {
      "cell_type": "code",
      "execution_count": null,
      "metadata": {
        "id": "Xa3r32gH4yEB",
        "outputId": "0829b7fc-6011-49c5-fc0a-435a7976b184"
      },
      "outputs": [
        {
          "name": "stdout",
          "output_type": "stream",
          "text": [
            "[0 1 2 3 4 5 6 7 8 9]\n",
            "[ 5  6  7  8  9 10 11 12 13 14 15 16 17 18 19]\n",
            "[ 5  8 11 14 17]\n"
          ]
        }
      ],
      "source": [
        "D1 = np.arange(10)\n",
        "print(D1)\n",
        "D2 = np.arange(5,20)\n",
        "print(D2)\n",
        "D3 = np.arange(5,20,3)\n",
        "print(D3)"
      ]
    },
    {
      "cell_type": "code",
      "execution_count": null,
      "metadata": {
        "id": "AGhsGZUb4yED",
        "outputId": "9435add2-3887-4b7b-f80f-899b176d8911"
      },
      "outputs": [
        {
          "name": "stdout",
          "output_type": "stream",
          "text": [
            "[ 1.  25.5 50. ]\n"
          ]
        }
      ],
      "source": [
        "E = np.linspace(1,50,3)\n",
        "print(E)"
      ]
    },
    {
      "cell_type": "code",
      "execution_count": null,
      "metadata": {
        "id": "RGHEeWS14yED",
        "outputId": "1d0916bb-3f6b-41c7-da84-8f3e93a981da"
      },
      "outputs": [
        {
          "name": "stdout",
          "output_type": "stream",
          "text": [
            "[ 1.   13.25 25.5  37.75 50.  ]\n"
          ]
        }
      ],
      "source": [
        "E = np.linspace(1,50,5)\n",
        "print(E)"
      ]
    },
    {
      "cell_type": "code",
      "execution_count": null,
      "metadata": {
        "id": "5GRzKivC4yEE",
        "outputId": "8c6378f0-dedc-4157-d1b7-e24f60fa51ff"
      },
      "outputs": [
        {
          "name": "stdout",
          "output_type": "stream",
          "text": [
            "[[0.16480877 0.88190235 0.96194541 0.09358806]\n",
            " [0.94664323 0.82635031 0.05391323 0.97497223]\n",
            " [0.31270661 0.27026618 0.6013896  0.91915922]]\n"
          ]
        }
      ],
      "source": [
        "F = np.random.random((3,4))\n",
        "print(F)"
      ]
    },
    {
      "cell_type": "code",
      "execution_count": null,
      "metadata": {
        "id": "fSFQGxU84yEE",
        "outputId": "2139532b-dc56-4aa0-9fda-4aeed76d64d3"
      },
      "outputs": [
        {
          "name": "stdout",
          "output_type": "stream",
          "text": [
            "[[0.28421862 0.8726235  0.4800598  0.41356226]\n",
            " [0.668213   0.85880259 0.36868548 0.19211527]\n",
            " [0.61345138 0.01706695 0.00868459 0.30956688]]\n",
            "(3, 4)\n"
          ]
        }
      ],
      "source": [
        "x = np.random.random((3,4))\n",
        "print(x)\n",
        "print(x.shape)"
      ]
    },
    {
      "cell_type": "markdown",
      "metadata": {
        "id": "XP9QKZeY4yEt"
      },
      "source": [
        "Reshape rray"
      ]
    },
    {
      "cell_type": "code",
      "execution_count": null,
      "metadata": {
        "id": "GFa9fbqG4yEt",
        "outputId": "53290a1f-142f-4ab7-de0a-58cbb5cc7ee6"
      },
      "outputs": [
        {
          "name": "stdout",
          "output_type": "stream",
          "text": [
            "[[0.28421862 0.8726235 ]\n",
            " [0.4800598  0.41356226]\n",
            " [0.668213   0.85880259]\n",
            " [0.36868548 0.19211527]\n",
            " [0.61345138 0.01706695]\n",
            " [0.00868459 0.30956688]]\n"
          ]
        }
      ],
      "source": [
        "print(x.reshape(6,2))"
      ]
    },
    {
      "cell_type": "code",
      "execution_count": null,
      "metadata": {
        "id": "m_aHo_ic4yEu",
        "outputId": "fdceb537-f211-4fa9-a449-25fdbbe1c232"
      },
      "outputs": [
        {
          "name": "stdout",
          "output_type": "stream",
          "text": [
            "[[[0.28421862 0.8726235 ]\n",
            "  [0.4800598  0.41356226]]\n",
            "\n",
            " [[0.668213   0.85880259]\n",
            "  [0.36868548 0.19211527]]\n",
            "\n",
            " [[0.61345138 0.01706695]\n",
            "  [0.00868459 0.30956688]]]\n"
          ]
        }
      ],
      "source": [
        "print(x.reshape(3,2,2))"
      ]
    },
    {
      "cell_type": "markdown",
      "metadata": {
        "id": "fLPA6DD64yEu"
      },
      "source": [
        "Flattening the arrays"
      ]
    },
    {
      "cell_type": "code",
      "execution_count": null,
      "metadata": {
        "id": "rGb8JxX64yEu",
        "outputId": "a866d25a-78e3-4b8b-a5c3-8e8ae33a81a3"
      },
      "outputs": [
        {
          "name": "stdout",
          "output_type": "stream",
          "text": [
            "[1 2 3 4 5 6]\n"
          ]
        }
      ],
      "source": [
        "arr = np.array([[1, 2, 3], [4, 5, 6]])\n",
        "\n",
        "newarr = arr.reshape(-1)\n",
        "\n",
        "print(newarr)"
      ]
    },
    {
      "cell_type": "code",
      "execution_count": null,
      "metadata": {
        "id": "uh1_Oh3E4yEu",
        "outputId": "d8ec7c77-b1fa-4035-8bfb-2a09681b7e96"
      },
      "outputs": [
        {
          "name": "stdout",
          "output_type": "stream",
          "text": [
            "[ 0  1  2  3  4  5  6  7  8  9 10 11]\n"
          ]
        }
      ],
      "source": [
        "x = np.arange(12)\n",
        "print(x)"
      ]
    },
    {
      "cell_type": "markdown",
      "metadata": {
        "id": "3m3Aa9l-4yEv"
      },
      "source": [
        "NumPy Array Indexing"
      ]
    },
    {
      "cell_type": "code",
      "execution_count": null,
      "metadata": {
        "id": "Rlfm4oa-4yEv",
        "outputId": "c2394a78-3e10-4c9b-ce51-df1228f7c00e"
      },
      "outputs": [
        {
          "name": "stdout",
          "output_type": "stream",
          "text": [
            "4\n"
          ]
        }
      ],
      "source": [
        "print(x[4])"
      ]
    },
    {
      "cell_type": "code",
      "execution_count": null,
      "metadata": {
        "id": "9PRrCc7v4yEv",
        "outputId": "88b21800-1d5e-48cb-837e-899c1a2b023e"
      },
      "outputs": [
        {
          "name": "stdout",
          "output_type": "stream",
          "text": [
            "Last------> 11\n"
          ]
        }
      ],
      "source": [
        "print(\"Last------>\", x[-1])"
      ]
    },
    {
      "cell_type": "code",
      "execution_count": null,
      "metadata": {
        "id": "Z6MueHvP4yEv",
        "outputId": "860422a2-0d7c-496c-e345-c3447604d5b6"
      },
      "outputs": [
        {
          "name": "stdout",
          "output_type": "stream",
          "text": [
            "[[ 0  1  2  3]\n",
            " [ 4  5  6  7]\n",
            " [ 8  9 10 11]]\n"
          ]
        }
      ],
      "source": [
        "x= x.reshape(3,4)\n",
        "print(x)"
      ]
    },
    {
      "cell_type": "code",
      "execution_count": null,
      "metadata": {
        "id": "uDgtNo5V4yEw",
        "outputId": "8b75337d-8b74-4e1c-fe36-672ec13d5cd8"
      },
      "outputs": [
        {
          "name": "stdout",
          "output_type": "stream",
          "text": [
            "6\n",
            "6\n"
          ]
        }
      ],
      "source": [
        "print(x[1,2])\n",
        "\n",
        "print(x[1][2])"
      ]
    },
    {
      "cell_type": "markdown",
      "metadata": {
        "id": "xjX81z5X4yEw"
      },
      "source": [
        "__Note__: There are a lot of functions for changing the shapes of arrays in numpy __flatten, ravel__ and also for rearranging the elements __rot90, flip, fliplr, flipud etc__."
      ]
    },
    {
      "cell_type": "markdown",
      "metadata": {
        "id": "UKU5hj_I4yEw"
      },
      "source": [
        "NumPy Array Slicing\n",
        "- We pass slice instead of index like this: __[start : end]__."
      ]
    },
    {
      "cell_type": "code",
      "execution_count": null,
      "metadata": {
        "colab": {
          "base_uri": "https://localhost:8080/"
        },
        "id": "uzNKQ0Qs4yEw",
        "outputId": "993bb04b-7487-4601-ae1f-168b12d96e68"
      },
      "outputs": [
        {
          "output_type": "stream",
          "name": "stdout",
          "text": [
            "[ 1  2  3  4  5  6  7  8  9 10 11 12 13 14 15 16 17 18 19 20 21 22 23 24\n",
            " 25]\n"
          ]
        }
      ],
      "source": [
        "Y=np.arange(1,26)\n",
        "print(Y)"
      ]
    },
    {
      "cell_type": "code",
      "execution_count": null,
      "metadata": {
        "id": "q5AwgZJ84yEx",
        "outputId": "de2b5d97-d87b-4e72-b478-5282467dd013"
      },
      "outputs": [
        {
          "name": "stdout",
          "output_type": "stream",
          "text": [
            "[ 1  2  3  4  5  6  7  8  9 10]\n"
          ]
        }
      ],
      "source": [
        "print(Y[:10])"
      ]
    },
    {
      "cell_type": "code",
      "execution_count": null,
      "metadata": {
        "id": "O_S4IUU04yEx",
        "outputId": "b097bb90-766a-4f69-dbcd-d3903ba2fffb"
      },
      "outputs": [
        {
          "name": "stdout",
          "output_type": "stream",
          "text": [
            "[11 12 13 14 15 16 17 18 19 20 21 22 23 24 25]\n"
          ]
        }
      ],
      "source": [
        "print(Y[10:])"
      ]
    },
    {
      "cell_type": "code",
      "execution_count": null,
      "metadata": {
        "id": "_4BHqaz-4yEy",
        "outputId": "17f2e157-585d-4d4f-e0a2-1280deeb233b"
      },
      "outputs": [
        {
          "name": "stdout",
          "output_type": "stream",
          "text": [
            "[11 12 13 14 15]\n"
          ]
        }
      ],
      "source": [
        "print(Y[10:15])"
      ]
    },
    {
      "cell_type": "code",
      "execution_count": null,
      "metadata": {
        "id": "5Id85z-U4yEy",
        "outputId": "860c65fa-e6f6-4765-d02c-2aeef5130088"
      },
      "outputs": [
        {
          "name": "stdout",
          "output_type": "stream",
          "text": [
            "[21 22 23 24 25]\n"
          ]
        }
      ],
      "source": [
        "print(Y[-5:])"
      ]
    },
    {
      "cell_type": "code",
      "execution_count": null,
      "metadata": {
        "id": "Z_GBFro24yEz",
        "outputId": "09a6ce55-812b-4c4a-8b2a-7669261d57ac"
      },
      "outputs": [
        {
          "name": "stdout",
          "output_type": "stream",
          "text": [
            "[ 4  5  6  7  8  9 10 11 12 13 14 15 16 17 18 19 20 21 22]\n"
          ]
        }
      ],
      "source": [
        "print(Y[3:-3])"
      ]
    },
    {
      "cell_type": "markdown",
      "metadata": {
        "id": "T0HNL3uF4yEz"
      },
      "source": [
        "- We can also define the step, like this: __[start : end : step]__"
      ]
    },
    {
      "cell_type": "code",
      "execution_count": null,
      "metadata": {
        "colab": {
          "base_uri": "https://localhost:8080/"
        },
        "id": "XeEagaDB4yE0",
        "outputId": "aa497688-acad-4290-d094-6c6b12b8d1bc"
      },
      "outputs": [
        {
          "output_type": "stream",
          "name": "stdout",
          "text": [
            "[ 1  5  9 13 17 21 25]\n"
          ]
        }
      ],
      "source": [
        "print(Y[::4])"
      ]
    },
    {
      "cell_type": "code",
      "execution_count": null,
      "metadata": {
        "id": "6WLBLIWs4yE0",
        "outputId": "9acdf33e-df06-41b5-c962-efe243e3f1f7"
      },
      "outputs": [
        {
          "name": "stdout",
          "output_type": "stream",
          "text": [
            "[ 3  6  9 12 15 18 21]\n"
          ]
        }
      ],
      "source": [
        "print(Y[2:23:3])"
      ]
    },
    {
      "cell_type": "code",
      "execution_count": null,
      "metadata": {
        "colab": {
          "base_uri": "https://localhost:8080/"
        },
        "id": "XzoC_PuP4yE0",
        "outputId": "8a9aca74-7466-4b18-ac75-99eea4b4093d"
      },
      "outputs": [
        {
          "output_type": "stream",
          "name": "stdout",
          "text": [
            "[[ 1  2  3  4  5]\n",
            " [ 6  7  8  9 10]\n",
            " [11 12 13 14 15]\n",
            " [16 17 18 19 20]\n",
            " [21 22 23 24 25]]\n"
          ]
        }
      ],
      "source": [
        "Y = Y.reshape((5,5))\n",
        "print(Y)"
      ]
    },
    {
      "cell_type": "markdown",
      "metadata": {
        "id": "7D5qLuvL4yE0"
      },
      "source": [
        "- Slicing 2-D Arrays ---> __[a:b:c,p:q:r]__"
      ]
    },
    {
      "cell_type": "code",
      "execution_count": null,
      "metadata": {
        "id": "nbkSJZi44yE1",
        "outputId": "93af3f27-d894-42c3-b160-141f640441d5"
      },
      "outputs": [
        {
          "name": "stdout",
          "output_type": "stream",
          "text": [
            "[[ 8  9 10]\n",
            " [13 14 15]\n",
            " [18 19 20]]\n"
          ]
        }
      ],
      "source": [
        "print(Y[1:4,2:5])"
      ]
    },
    {
      "cell_type": "code",
      "execution_count": null,
      "metadata": {
        "id": "NrKfdZg_4yE1",
        "outputId": "16bd790d-0757-46a0-9c4e-56730274b79b"
      },
      "outputs": [
        {
          "name": "stdout",
          "output_type": "stream",
          "text": [
            "[[ 8 10]\n",
            " [18 20]]\n"
          ]
        }
      ],
      "source": [
        "print(Y[1:4:2,2:5:2])"
      ]
    },
    {
      "cell_type": "code",
      "execution_count": null,
      "metadata": {
        "id": "7THyL99a4yE1",
        "outputId": "a2553cbe-ee9e-4ded-d56d-394a56954490"
      },
      "outputs": [
        {
          "name": "stdout",
          "output_type": "stream",
          "text": [
            "[[12 13 14]\n",
            " [17 18 19]]\n"
          ]
        }
      ],
      "source": [
        "print(Y[2:4,1:4])"
      ]
    },
    {
      "cell_type": "code",
      "execution_count": null,
      "metadata": {
        "id": "XFDyqyJJ4yE1",
        "outputId": "89665584-fdb4-4b69-c470-934fb4c01a4f"
      },
      "outputs": [
        {
          "name": "stdout",
          "output_type": "stream",
          "text": [
            "[[ 1  2  3  4]\n",
            " [ 6  7  8  9]\n",
            " [11 12 13 14]\n",
            " [16 17 18 19]\n",
            " [21 22 23 24]]\n"
          ]
        }
      ],
      "source": [
        "print(Y[:5,:4])"
      ]
    },
    {
      "cell_type": "code",
      "execution_count": null,
      "metadata": {
        "id": "6AEyWiDf4yE2",
        "outputId": "73e86772-3822-41ba-b9f6-c66b261c0b13"
      },
      "outputs": [
        {
          "name": "stdout",
          "output_type": "stream",
          "text": [
            "[[ 1  2  3  4]\n",
            " [ 6  7  8  9]\n",
            " [11 12 13 14]\n",
            " [16 17 18 19]\n",
            " [21 22 23 24]]\n"
          ]
        }
      ],
      "source": [
        "print(Y[:,:-1])"
      ]
    },
    {
      "cell_type": "code",
      "execution_count": null,
      "metadata": {
        "id": "Z6OIdhDK4yE2",
        "outputId": "2a4861e8-ab8e-425a-8e3b-38863dc47d9d"
      },
      "outputs": [
        {
          "name": "stdout",
          "output_type": "stream",
          "text": [
            "[[ 5]\n",
            " [10]\n",
            " [15]\n",
            " [20]\n",
            " [25]]\n"
          ]
        }
      ],
      "source": [
        "print(Y[:,-1:])"
      ]
    },
    {
      "cell_type": "code",
      "execution_count": null,
      "metadata": {
        "id": "quYjgqqG4yE4",
        "outputId": "c50fc2cd-8daa-4725-ebf4-da9bc94129be"
      },
      "outputs": [
        {
          "name": "stdout",
          "output_type": "stream",
          "text": [
            "[ 5 10 15 20 25]\n"
          ]
        }
      ],
      "source": [
        "print(Y[:,-1])"
      ]
    },
    {
      "cell_type": "code",
      "execution_count": null,
      "metadata": {
        "id": "MunDofQ94yE4",
        "outputId": "14d22591-132d-4ed2-bbc0-d9917bc2630a"
      },
      "outputs": [
        {
          "name": "stdout",
          "output_type": "stream",
          "text": [
            "[[ 1  3  5]\n",
            " [ 6  8 10]\n",
            " [11 13 15]\n",
            " [16 18 20]\n",
            " [21 23 25]]\n"
          ]
        }
      ],
      "source": [
        "print(Y[:,::2])"
      ]
    },
    {
      "cell_type": "code",
      "execution_count": null,
      "metadata": {
        "id": "ErYQxJA74yE5",
        "outputId": "75c10892-6189-47e1-ae8a-b7a0f5615afa"
      },
      "outputs": [
        {
          "name": "stdout",
          "output_type": "stream",
          "text": [
            "[[ 7  9]\n",
            " [17 19]]\n"
          ]
        }
      ],
      "source": [
        "print(Y[1::2,1::2])"
      ]
    },
    {
      "cell_type": "code",
      "execution_count": null,
      "metadata": {
        "id": "kxkaOuzC4yE5",
        "outputId": "99c7ab3f-d686-4503-b9be-de785e97044c"
      },
      "outputs": [
        {
          "name": "stdout",
          "output_type": "stream",
          "text": [
            "[1 2 3 4 5]\n",
            "[ 6  7  8  9 10]\n"
          ]
        }
      ],
      "source": [
        "A = np.arange(1,6)\n",
        "B = np.arange(6,11)\n",
        "print(A)\n",
        "print(B)"
      ]
    },
    {
      "cell_type": "markdown",
      "source": [
        "**Element-wise Operations**"
      ],
      "metadata": {
        "id": "4y_L0fGfCqe-"
      }
    },
    {
      "cell_type": "code",
      "execution_count": null,
      "metadata": {
        "id": "lWdJHccK4yE6",
        "outputId": "f2fcf661-ea65-4147-bd39-c0f6135b19e6"
      },
      "outputs": [
        {
          "name": "stdout",
          "output_type": "stream",
          "text": [
            "[ 7  9 11 13 15]\n",
            "[-5 -5 -5 -5 -5]\n",
            "[5 5 5 5 5]\n",
            "[ 2  4  6  8 10]\n"
          ]
        }
      ],
      "source": [
        "print(A+B)\n",
        "print(A-B)\n",
        "print(B-A)\n",
        "\n",
        "print(A*2)"
      ]
    },
    {
      "cell_type": "code",
      "execution_count": null,
      "metadata": {
        "id": "6xHHKCZo4yE6",
        "outputId": "c9619ba6-9e55-4cfd-c893-b4251d5741b9"
      },
      "outputs": [
        {
          "name": "stdout",
          "output_type": "stream",
          "text": [
            "[ 1  4  9 16 25]\n"
          ]
        }
      ],
      "source": [
        "print(A**2)"
      ]
    },
    {
      "cell_type": "code",
      "execution_count": null,
      "metadata": {
        "id": "NDJK31Vp4yE6",
        "outputId": "8c94573f-c85a-43fb-fd62-c7aecaca7b38"
      },
      "outputs": [
        {
          "name": "stdout",
          "output_type": "stream",
          "text": [
            "[ True  True False False False]\n"
          ]
        }
      ],
      "source": [
        "print(A<3)"
      ]
    },
    {
      "cell_type": "markdown",
      "source": [
        "**Element-wise Operations:** Operations performed on each corresponding element of arrays.\n",
        "\n",
        "**Broadcasting:** A method that allows NumPy to handle arrays of different shapes automatically during arithmetic operations."
      ],
      "metadata": {
        "id": "G-m5IsCACbKI"
      }
    },
    {
      "cell_type": "markdown",
      "source": [
        "**Vectorization** in NumPy refers to applying operations to entire arrays at once instead of using loops for element-wise operations.\n",
        "\n",
        "This technique improves performance and readability by leveraging optimized low-level libraries."
      ],
      "metadata": {
        "id": "IX0tmB2HDV6u"
      }
    },
    {
      "cell_type": "code",
      "source": [
        "A = np.array([1, 2, 3])\n",
        "B = np.array([[10], [20], [30]])\n",
        "print(A)\n",
        "print(B)\n",
        "\n",
        "# Broadcasting happens here\n",
        "result = A + B  # A is a 1D array (shape (3,)) and B is a 2D array (shape (3, 1))\n",
        "print(result)"
      ],
      "metadata": {
        "colab": {
          "base_uri": "https://localhost:8080/"
        },
        "id": "6FSLD2BvCM_7",
        "outputId": "273be4cb-74ab-4c1b-9757-2a1328165954"
      },
      "execution_count": null,
      "outputs": [
        {
          "output_type": "stream",
          "name": "stdout",
          "text": [
            "[1 2 3]\n",
            "[[10]\n",
            " [20]\n",
            " [30]]\n",
            "[[11 12 13]\n",
            " [21 22 23]\n",
            " [31 32 33]]\n"
          ]
        }
      ]
    },
    {
      "cell_type": "code",
      "execution_count": null,
      "metadata": {
        "id": "WCOCBchm4yE7",
        "outputId": "818b168c-86a1-40ee-b12e-49b705c44e9a"
      },
      "outputs": [
        {
          "name": "stdout",
          "output_type": "stream",
          "text": [
            "[[0 1]\n",
            " [2 3]]\n",
            "[[1. 0.]\n",
            " [0. 1.]]\n"
          ]
        }
      ],
      "source": [
        "A = np.arange(4).reshape(2,2)\n",
        "B = np.eye(2)\n",
        "print(A)\n",
        "print(B)"
      ]
    },
    {
      "cell_type": "code",
      "execution_count": null,
      "metadata": {
        "id": "bM3DFfAZ4yE9",
        "outputId": "35700e07-368a-45bb-b128-770ad0d1592d"
      },
      "outputs": [
        {
          "name": "stdout",
          "output_type": "stream",
          "text": [
            "[[1. 1.]\n",
            " [2. 4.]]\n"
          ]
        }
      ],
      "source": [
        "print(A+B)"
      ]
    },
    {
      "cell_type": "code",
      "execution_count": null,
      "metadata": {
        "id": "4bq5Tbpf4yE9",
        "outputId": "71675bb7-3ad6-449d-fdad-fdd1f20c471d"
      },
      "outputs": [
        {
          "name": "stdout",
          "output_type": "stream",
          "text": [
            "[[0. 0.]\n",
            " [0. 3.]]\n"
          ]
        }
      ],
      "source": [
        "print(A*B)"
      ]
    },
    {
      "cell_type": "code",
      "execution_count": null,
      "metadata": {
        "id": "Q0hHhUz54yE9",
        "outputId": "1905b8df-395c-414a-d202-3439c6bd853b"
      },
      "outputs": [
        {
          "name": "stdout",
          "output_type": "stream",
          "text": [
            "[[0. 1.]\n",
            " [2. 3.]]\n"
          ]
        }
      ],
      "source": [
        "print(np.dot(A,B))"
      ]
    },
    {
      "cell_type": "code",
      "execution_count": null,
      "metadata": {
        "id": "xvDFKdQv4yE-",
        "outputId": "bb916613-e832-47f9-eec5-c3aae1891569"
      },
      "outputs": [
        {
          "name": "stdout",
          "output_type": "stream",
          "text": [
            "[[1 2 3]\n",
            " [4 5 6]\n",
            " [7 8 9]]\n"
          ]
        }
      ],
      "source": [
        "x = np.arange(1,10).reshape(3,3)\n",
        "print(x)"
      ]
    },
    {
      "cell_type": "code",
      "execution_count": null,
      "metadata": {
        "id": "ZRyY652A4yE-",
        "outputId": "57035688-2783-4d58-fb2b-10a4145f7e1d"
      },
      "outputs": [
        {
          "name": "stdout",
          "output_type": "stream",
          "text": [
            "45\n"
          ]
        }
      ],
      "source": [
        "print(x.sum())"
      ]
    },
    {
      "cell_type": "code",
      "execution_count": null,
      "metadata": {
        "id": "Qin7fqp44yE-",
        "outputId": "b005df89-1683-4b4e-fb18-56ec55a8bbc9"
      },
      "outputs": [
        {
          "name": "stdout",
          "output_type": "stream",
          "text": [
            "[12 15 18]\n"
          ]
        }
      ],
      "source": [
        "print(x.sum(axis=0))"
      ]
    },
    {
      "cell_type": "code",
      "execution_count": null,
      "metadata": {
        "id": "rH9-tCQx4yE-",
        "outputId": "2ea41aaa-6634-41d9-c79c-46b9a251caa0"
      },
      "outputs": [
        {
          "name": "stdout",
          "output_type": "stream",
          "text": [
            "[ 6 15 24]\n"
          ]
        }
      ],
      "source": [
        "print(x.sum(axis=1))"
      ]
    },
    {
      "cell_type": "code",
      "execution_count": null,
      "metadata": {
        "id": "KghZQkEE4yE_",
        "outputId": "ae0c4738-a191-4854-8586-1602b9312483"
      },
      "outputs": [
        {
          "name": "stdout",
          "output_type": "stream",
          "text": [
            "9\n",
            "[7 8 9]\n",
            "[3 6 9]\n"
          ]
        }
      ],
      "source": [
        "print(x.max())\n",
        "print(x.max(axis=0))\n",
        "print(x.max(axis=1))"
      ]
    },
    {
      "cell_type": "code",
      "execution_count": null,
      "metadata": {
        "id": "9DvcZ5FO4yFA",
        "outputId": "af01ba76-b2b0-421e-ee67-82c2897270cf"
      },
      "outputs": [
        {
          "name": "stdout",
          "output_type": "stream",
          "text": [
            "[[1 4 7]\n",
            " [2 5 8]\n",
            " [3 6 9]]\n"
          ]
        }
      ],
      "source": [
        "print(x.transpose())"
      ]
    },
    {
      "cell_type": "code",
      "execution_count": null,
      "metadata": {
        "id": "iiVxarI-4yFA",
        "outputId": "ed51966d-a484-4659-f82d-88fd9db3f17f"
      },
      "outputs": [
        {
          "name": "stdout",
          "output_type": "stream",
          "text": [
            "[[0 1]\n",
            " [2 3]]\n"
          ]
        }
      ],
      "source": [
        "x = np.arange(4).reshape(2,2)\n",
        "print(x)"
      ]
    },
    {
      "cell_type": "code",
      "execution_count": null,
      "metadata": {
        "id": "yagQ4Vrn4yFA",
        "outputId": "9cfec9d4-a7a7-4053-f0d0-b36e8ef3dea0"
      },
      "outputs": [
        {
          "name": "stdout",
          "output_type": "stream",
          "text": [
            "[[-1.5  0.5]\n",
            " [ 1.   0. ]]\n"
          ]
        }
      ],
      "source": [
        "y=np.linalg.inv(x) #Inverse of a matrix\n",
        "print(y)"
      ]
    },
    {
      "cell_type": "code",
      "execution_count": null,
      "metadata": {
        "id": "rM6vCA414yFB",
        "outputId": "46d64c36-bdc0-4d32-b039-2d18f82897cc"
      },
      "outputs": [
        {
          "name": "stdout",
          "output_type": "stream",
          "text": [
            "[[1. 0.]\n",
            " [0. 1.]]\n"
          ]
        }
      ],
      "source": [
        "print(np.dot(x,y))"
      ]
    },
    {
      "cell_type": "markdown",
      "metadata": {
        "id": "b5taehT04yFB"
      },
      "source": [
        "NumPy Array Iterating"
      ]
    },
    {
      "cell_type": "code",
      "execution_count": null,
      "metadata": {
        "id": "oZ_sDEC34yFB",
        "outputId": "e60e8633-3b5d-4a3b-cf65-c4d31d6ba799"
      },
      "outputs": [
        {
          "name": "stdout",
          "output_type": "stream",
          "text": [
            "[1 2 3]\n",
            "[4 5 6]\n",
            "[7 8 9]\n"
          ]
        }
      ],
      "source": [
        "arr = np.array([[1, 2, 3], [4, 5, 6],[7,8,9]])\n",
        "\n",
        "for x in arr:\n",
        "  print(x)"
      ]
    },
    {
      "cell_type": "code",
      "execution_count": null,
      "metadata": {
        "id": "qX1sP7mh4yFB",
        "outputId": "93a86aea-afba-4a77-be61-5c06f7c3f32d"
      },
      "outputs": [
        {
          "name": "stdout",
          "output_type": "stream",
          "text": [
            "1\n",
            "2\n",
            "3\n",
            "4\n",
            "5\n",
            "6\n",
            "7\n",
            "8\n",
            "9\n"
          ]
        }
      ],
      "source": [
        "for x in np.nditer(arr) #The  nditer() is a helping function that can be used from very basic to very advanced iterations.\n",
        "  print(x)"
      ]
    },
    {
      "cell_type": "markdown",
      "metadata": {
        "id": "tgXe1Ngb4yFC"
      },
      "source": [
        "Iterating With Different Step Size"
      ]
    },
    {
      "cell_type": "code",
      "execution_count": null,
      "metadata": {
        "id": "IYsQ3bHN4yFC",
        "outputId": "371b60c8-27e2-4417-a9b9-02f142f56d4e"
      },
      "outputs": [
        {
          "name": "stdout",
          "output_type": "stream",
          "text": [
            "1\n",
            "3\n",
            "4\n",
            "6\n",
            "7\n",
            "9\n"
          ]
        }
      ],
      "source": [
        "for x in np.nditer(arr[:, ::2]):\n",
        "  print(x)"
      ]
    },
    {
      "cell_type": "code",
      "execution_count": null,
      "metadata": {
        "id": "A6ONXdYb4yFC",
        "outputId": "d7f0962e-bfbe-419a-e7b4-c950a7c60452"
      },
      "outputs": [
        {
          "name": "stdout",
          "output_type": "stream",
          "text": [
            "1\n",
            "2\n",
            "3\n",
            "7\n",
            "8\n",
            "9\n"
          ]
        }
      ],
      "source": [
        "for x in np.nditer(arr[::2, :]):\n",
        "  print(x)"
      ]
    },
    {
      "cell_type": "code",
      "execution_count": null,
      "metadata": {
        "id": "cgE_wPqB4yFD",
        "outputId": "c6f89a98-750c-4479-8dc1-befb1adaa3ef"
      },
      "outputs": [
        {
          "name": "stdout",
          "output_type": "stream",
          "text": [
            "(0, 0) 1\n",
            "(0, 1) 2\n",
            "(0, 2) 3\n",
            "(1, 0) 4\n",
            "(1, 1) 5\n",
            "(1, 2) 6\n",
            "(2, 0) 7\n",
            "(2, 1) 8\n",
            "(2, 2) 9\n"
          ]
        }
      ],
      "source": [
        "for idx, x in np.ndenumerate(arr):\n",
        "  print(idx, x)"
      ]
    },
    {
      "cell_type": "markdown",
      "metadata": {
        "id": "JfTCnKRq4yFE"
      },
      "source": [
        "#### Joining NumPy Arrays\n",
        "- In NumPy we join arrays by axes\n",
        "-  If axis is not explicitly passed, it is taken as 0."
      ]
    },
    {
      "cell_type": "code",
      "execution_count": null,
      "metadata": {
        "id": "WfricFWt4yFE",
        "outputId": "60df91c5-b4e4-4d46-dd97-221e4ead70d8"
      },
      "outputs": [
        {
          "name": "stdout",
          "output_type": "stream",
          "text": [
            "[[1 2 5 6]\n",
            " [3 4 7 8]]\n"
          ]
        }
      ],
      "source": [
        "x = np.array([[1, 2], [3, 4]])\n",
        "y = np.array([[5, 6], [7, 8]])\n",
        "z = np.concatenate((x, y), axis=1)\n",
        "print(z)"
      ]
    },
    {
      "cell_type": "code",
      "execution_count": null,
      "metadata": {
        "id": "DMHYvMf84yFE",
        "outputId": "a4926dec-bd3e-4014-89d0-6d9a7a65835e"
      },
      "outputs": [
        {
          "name": "stdout",
          "output_type": "stream",
          "text": [
            "[[1 2]\n",
            " [3 4]\n",
            " [5 6]\n",
            " [7 8]]\n"
          ]
        }
      ],
      "source": [
        "x = np.array([[1, 2], [3, 4]])\n",
        "y = np.array([[5, 6], [7, 8]])\n",
        "z = np.concatenate((x, y), axis=0)\n",
        "print(z)"
      ]
    },
    {
      "cell_type": "code",
      "execution_count": null,
      "metadata": {
        "id": "KfqOV1sQ4yFE",
        "outputId": "c3383734-dab2-4ac4-bd23-eadf96b577a5"
      },
      "outputs": [
        {
          "name": "stdout",
          "output_type": "stream",
          "text": [
            "[[1 2]\n",
            " [3 4]\n",
            " [5 6]\n",
            " [7 8]]\n"
          ]
        }
      ],
      "source": [
        "x = np.array([[1, 2], [3, 4]])\n",
        "y = np.array([[5, 6], [7, 8]])\n",
        "z = np.concatenate((x, y))\n",
        "print(z)"
      ]
    },
    {
      "cell_type": "markdown",
      "metadata": {
        "id": "4KxOdR604yFF"
      },
      "source": [
        "##### Joining Arrays Using Stack Functions\n",
        "- Stacking is same as concatenation, the only difference is that stacking is done along a new axis."
      ]
    },
    {
      "cell_type": "code",
      "execution_count": null,
      "metadata": {
        "id": "nojfFCaD4yFF",
        "outputId": "635acd48-b9a6-4eb6-a258-f165713d7e61"
      },
      "outputs": [
        {
          "name": "stdout",
          "output_type": "stream",
          "text": [
            "[[[1 2]\n",
            "  [5 6]]\n",
            "\n",
            " [[3 4]\n",
            "  [7 8]]]\n"
          ]
        }
      ],
      "source": [
        "x = np.array([[1, 2], [3, 4]])\n",
        "y = np.array([[5, 6], [7, 8]])\n",
        "z = np.stack((x, y),axis=1)\n",
        "print(z)"
      ]
    },
    {
      "cell_type": "code",
      "execution_count": null,
      "metadata": {
        "id": "pcGpVta04yFF",
        "outputId": "6abd2ced-6127-47b7-cf4f-dd08a4f01283"
      },
      "outputs": [
        {
          "name": "stdout",
          "output_type": "stream",
          "text": [
            "[[[1 2]\n",
            "  [3 4]]\n",
            "\n",
            " [[5 6]\n",
            "  [7 8]]]\n"
          ]
        }
      ],
      "source": [
        "x = np.array([[1, 2], [3, 4]])\n",
        "y = np.array([[5, 6], [7, 8]])\n",
        "z = np.stack((x, y),axis=0)\n",
        "print(z)"
      ]
    },
    {
      "cell_type": "code",
      "execution_count": null,
      "metadata": {
        "id": "IglVsBrl4yFG",
        "outputId": "c1b85da8-1e73-4cdf-c60f-c71f98d6f69a"
      },
      "outputs": [
        {
          "name": "stdout",
          "output_type": "stream",
          "text": [
            "[[[1 2]\n",
            "  [3 4]]\n",
            "\n",
            " [[5 6]\n",
            "  [7 8]]]\n"
          ]
        }
      ],
      "source": [
        "x = np.array([[1, 2], [3, 4]])\n",
        "y = np.array([[5, 6], [7, 8]])\n",
        "z = np.stack((x, y))\n",
        "print(z)"
      ]
    },
    {
      "cell_type": "markdown",
      "metadata": {
        "id": "m4pY3u4l4yFG"
      },
      "source": [
        "Stacking Along Rows"
      ]
    },
    {
      "cell_type": "code",
      "execution_count": null,
      "metadata": {
        "id": "0aDzk6sg4yFH",
        "outputId": "b16e3c43-c0ea-459c-8468-5627ac91c515"
      },
      "outputs": [
        {
          "name": "stdout",
          "output_type": "stream",
          "text": [
            "[[1 2 5 6]\n",
            " [3 4 7 8]]\n"
          ]
        }
      ],
      "source": [
        "z = np.hstack((x, y))\n",
        "print(z)"
      ]
    },
    {
      "cell_type": "markdown",
      "metadata": {
        "id": "c4OGRGEz4yFH"
      },
      "source": [
        "Stacking Along Column"
      ]
    },
    {
      "cell_type": "code",
      "execution_count": null,
      "metadata": {
        "id": "3KJs6fpV4yFH",
        "outputId": "8dcdf94c-3fc3-4413-be4d-2c39d6a926ed"
      },
      "outputs": [
        {
          "name": "stdout",
          "output_type": "stream",
          "text": [
            "[[1 2]\n",
            " [3 4]\n",
            " [5 6]\n",
            " [7 8]]\n"
          ]
        }
      ],
      "source": [
        "z = np.vstack((x, y))\n",
        "print(z)"
      ]
    },
    {
      "cell_type": "markdown",
      "metadata": {
        "id": "QADPaAyV4yFH"
      },
      "source": [
        "Stacking Along Height (depth)"
      ]
    },
    {
      "cell_type": "code",
      "execution_count": null,
      "metadata": {
        "id": "62Z1_DOj4yFI",
        "outputId": "45a98460-2ee8-4d12-bc01-c96e58987162"
      },
      "outputs": [
        {
          "name": "stdout",
          "output_type": "stream",
          "text": [
            "[[[1 5]\n",
            "  [2 6]]\n",
            "\n",
            " [[3 7]\n",
            "  [4 8]]]\n"
          ]
        }
      ],
      "source": [
        "x = np.array([[1, 2], [3, 4]])\n",
        "y = np.array([[5, 6], [7, 8]])\n",
        "z = np.dstack((x, y))\n",
        "print(z)"
      ]
    },
    {
      "cell_type": "markdown",
      "metadata": {
        "id": "U73sjUUh4yFI"
      },
      "source": [
        "##### Splitting NumPy Arrays\n",
        "- Joining merges multiple arrays into one and Splitting breaks one array into multiple"
      ]
    },
    {
      "cell_type": "code",
      "execution_count": null,
      "metadata": {
        "colab": {
          "base_uri": "https://localhost:8080/"
        },
        "id": "BJSNoqD-4yFI",
        "outputId": "818a584a-a88b-4909-b2e2-47b8f82e17ec"
      },
      "outputs": [
        {
          "output_type": "stream",
          "name": "stdout",
          "text": [
            "Part 1: [1 2 3]\n",
            "Part 2: [4 5 6]\n",
            "Part 3: [7 8 9]\n",
            "Part 4: [10 11 12]\n",
            "Part 5: [13 14]\n",
            "Part 6: [15 16]\n",
            "Part 7: [17 18]\n",
            "Part 8: [19 20]\n"
          ]
        }
      ],
      "source": [
        "# Create a 1D NumPy array\n",
        "a = np.arange(1, 21)  # Creates an array: [1, 2, 3, ..., 20]\n",
        "\n",
        "# Split the array into 8 parts\n",
        "split_array = np.array_split(a, 8)\n",
        "\n",
        "# Display the result\n",
        "for i, arr in enumerate(split_array):\n",
        "    print(f\"Part {i+1}: {arr}\")"
      ]
    },
    {
      "cell_type": "markdown",
      "metadata": {
        "id": "Fn45MiuF4yFJ"
      },
      "source": [
        "- hsplit()"
      ]
    },
    {
      "cell_type": "code",
      "execution_count": null,
      "metadata": {
        "id": "Ewh6qhmD4yFJ",
        "outputId": "019fa3e6-880b-4a0a-af67-e71b9cabd7c4"
      },
      "outputs": [
        {
          "name": "stdout",
          "output_type": "stream",
          "text": [
            "[[ 1  2  3  1]\n",
            " [ 4  5  6  2]\n",
            " [ 7  8  9  3]\n",
            " [10 11 12  4]]\n",
            "Splited Array\n",
            "[array([[ 1,  2],\n",
            "       [ 4,  5],\n",
            "       [ 7,  8],\n",
            "       [10, 11]]), array([[ 3,  1],\n",
            "       [ 6,  2],\n",
            "       [ 9,  3],\n",
            "       [12,  4]])]\n"
          ]
        }
      ],
      "source": [
        "a = np.array([[1,2,3,1],[4,5,6,2],[7,8,9,3],[10,11,12,4]])\n",
        "print(a)\n",
        "print(\"Splited Array\")\n",
        "newarr = np.hsplit(a, 2)\n",
        "print(newarr)"
      ]
    },
    {
      "cell_type": "markdown",
      "metadata": {
        "id": "sNaw_rM44yFJ"
      },
      "source": [
        "- vsplit()"
      ]
    },
    {
      "cell_type": "code",
      "execution_count": null,
      "metadata": {
        "id": "dqbFH3np4yFK",
        "outputId": "869b9532-7447-4084-d8dc-4f5ca7b67a04"
      },
      "outputs": [
        {
          "name": "stdout",
          "output_type": "stream",
          "text": [
            "[array([[1, 2, 3, 1],\n",
            "       [4, 5, 6, 2]]), array([[ 7,  8,  9,  3],\n",
            "       [10, 11, 12,  4]])]\n"
          ]
        }
      ],
      "source": [
        "newarr = np.vsplit(a, 2)\n",
        "print(newarr)"
      ]
    },
    {
      "cell_type": "markdown",
      "metadata": {
        "id": "zLwBQ4sN4yFK"
      },
      "source": [
        "__Note__: dsplit only works on arrays of 3 or more dimensions"
      ]
    },
    {
      "cell_type": "markdown",
      "metadata": {
        "id": "LxOC9jLc4yFK"
      },
      "source": [
        "#### NumPy Searching Arrays\n",
        "- You can search an array for a certain value, and return the indexes that get a match."
      ]
    },
    {
      "cell_type": "code",
      "execution_count": null,
      "metadata": {
        "id": "X2LPGnQo4yFK",
        "outputId": "6e52a957-506e-4050-fa58-f93e9ebd18e2",
        "colab": {
          "base_uri": "https://localhost:8080/"
        }
      },
      "outputs": [
        {
          "output_type": "stream",
          "name": "stdout",
          "text": [
            "(array([3, 5, 6]),)\n"
          ]
        }
      ],
      "source": [
        "a = np.array([1, 2, 3, 4, 5, 4, 4])\n",
        "x = np.where(a == 4)\n",
        "print(x)"
      ]
    },
    {
      "cell_type": "code",
      "execution_count": null,
      "metadata": {
        "id": "VoeM2BXv4yFL",
        "outputId": "c96bdbf9-970c-42c0-af9a-69f2618b78a7"
      },
      "outputs": [
        {
          "name": "stdout",
          "output_type": "stream",
          "text": [
            "(array([1, 3, 5, 6], dtype=int64),)\n"
          ]
        }
      ],
      "source": [
        "x = np.where(a%2 == 0)      #position of even numbers\n",
        "print(x)"
      ]
    },
    {
      "cell_type": "markdown",
      "metadata": {
        "id": "a0RFu9mb4yFL"
      },
      "source": [
        "#### NumPy Sorting Arrays"
      ]
    },
    {
      "cell_type": "markdown",
      "metadata": {
        "id": "N-473L-M4yFM"
      },
      "source": [
        "- You can sort arrays of any data type:"
      ]
    },
    {
      "cell_type": "code",
      "execution_count": null,
      "metadata": {
        "id": "YY2Zjz1u4yFM",
        "outputId": "654076ee-3606-4c58-e2ee-066345c9ebc3"
      },
      "outputs": [
        {
          "name": "stdout",
          "output_type": "stream",
          "text": [
            "[0 1 2 3]\n"
          ]
        }
      ],
      "source": [
        "A = np.array([3, 2, 0, 1])\n",
        "print(np.sort(A))"
      ]
    },
    {
      "cell_type": "code",
      "execution_count": null,
      "metadata": {
        "id": "cnifUgGF4yFM",
        "outputId": "5bebe893-028b-49a9-8bc0-72e6b64a7aa8"
      },
      "outputs": [
        {
          "name": "stdout",
          "output_type": "stream",
          "text": [
            "[3 2 0 1]\n"
          ]
        }
      ],
      "source": [
        "print(A)"
      ]
    },
    {
      "cell_type": "markdown",
      "metadata": {
        "id": "dKVxFmMi4yFN"
      },
      "source": [
        "- __Note__: This method returns a copy of the array, leaving the original array unchanged."
      ]
    },
    {
      "cell_type": "code",
      "execution_count": null,
      "metadata": {
        "id": "NnsrpShB4yFN",
        "outputId": "1adcdc6d-cf29-4cb6-a111-55ee96ba966c"
      },
      "outputs": [
        {
          "name": "stdout",
          "output_type": "stream",
          "text": [
            "[[2 3 4]\n",
            " [0 1 5]]\n"
          ]
        }
      ],
      "source": [
        "m = np.array([[3, 2, 4], [5, 0, 1]])\n",
        "print(np.sort(m))"
      ]
    },
    {
      "cell_type": "markdown",
      "metadata": {
        "id": "Qgn4f-z-4yFO"
      },
      "source": [
        "#### Filtering Arrays\n",
        "- In NumPy, you filter an array using a boolean index list."
      ]
    },
    {
      "cell_type": "code",
      "execution_count": null,
      "metadata": {
        "id": "YVHkQXgK4yFO",
        "outputId": "75a43481-3088-49cc-a06d-9dacbb4a4360",
        "colab": {
          "base_uri": "https://localhost:8080/"
        }
      },
      "outputs": [
        {
          "output_type": "stream",
          "name": "stdout",
          "text": [
            "[False, True, False, True, False, True, False]\n",
            "[2 4 6]\n"
          ]
        }
      ],
      "source": [
        "arr = np.array([1, 2, 3, 4, 5, 6, 7])\n",
        "\n",
        "# Create an empty list\n",
        "filter_arr = []\n",
        "\n",
        "# go through each element in arr\n",
        "for element in arr:\n",
        "  # if the element is completely divisble by 2, set the value to True, otherwise False\n",
        "  if element % 2 == 0:\n",
        "    filter_arr.append(True)\n",
        "  else:\n",
        "    filter_arr.append(False)\n",
        "\n",
        "newarr = arr[filter_arr]\n",
        "\n",
        "print(filter_arr)\n",
        "print(newarr)"
      ]
    },
    {
      "cell_type": "markdown",
      "metadata": {
        "id": "EJDaH5oE4yFO"
      },
      "source": [
        "Creating Filter Directly From Array"
      ]
    },
    {
      "cell_type": "code",
      "execution_count": null,
      "metadata": {
        "id": "RLpL37BO4yFO",
        "outputId": "6ff93f49-a8fd-401d-8126-038c6719b8f3",
        "colab": {
          "base_uri": "https://localhost:8080/"
        }
      },
      "outputs": [
        {
          "output_type": "stream",
          "name": "stdout",
          "text": [
            "[False  True False  True False  True False]\n",
            "[2 4 6]\n"
          ]
        }
      ],
      "source": [
        "filter_arr = arr % 2 == 0\n",
        "newarr = arr[filter_arr]\n",
        "\n",
        "print(filter_arr)\n",
        "print(newarr)"
      ]
    },
    {
      "cell_type": "markdown",
      "source": [
        "🚀 Keep Exploring NumPy! 🔍"
      ],
      "metadata": {
        "id": "bCaWifk7JBr2"
      }
    },
    {
      "cell_type": "markdown",
      "source": [
        "**Thank You**"
      ],
      "metadata": {
        "id": "wwTytQTzJWO-"
      }
    },
    {
      "cell_type": "code",
      "source": [],
      "metadata": {
        "id": "zbZTYMvtJa_X"
      },
      "execution_count": null,
      "outputs": []
    }
  ],
  "metadata": {
    "kernelspec": {
      "display_name": "Python 3",
      "language": "python",
      "name": "python3"
    },
    "language_info": {
      "codemirror_mode": {
        "name": "ipython",
        "version": 3
      },
      "file_extension": ".py",
      "mimetype": "text/x-python",
      "name": "python",
      "nbconvert_exporter": "python",
      "pygments_lexer": "ipython3",
      "version": "3.7.6"
    },
    "colab": {
      "provenance": []
    }
  },
  "nbformat": 4,
  "nbformat_minor": 0
}