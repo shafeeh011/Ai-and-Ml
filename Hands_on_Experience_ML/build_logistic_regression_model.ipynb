{
 "cells": [
  {
   "cell_type": "markdown",
   "metadata": {},
   "source": [
    "**Logistic Regression**\n",
    "\n",
    "**Logistic Regression**\n",
    "\n",
    "Logistic Regression is a fundamental classification algorithm used for predicting binary outcomes. Despite its name, it's used for classification, not regression.\n",
    "\n",
    "Key Characteristics:\n",
    "- Predicts probability of an instance belonging to a class (0 to 1)\n",
    "- Uses sigmoid function (logistic function) to transform linear predictions\n",
    "- Best suited for binary classification problems\n",
    "- Assumes linear relationship between features and log-odds\n",
    "\n",
    "The sigmoid function is:\n",
    "sigmoid(z) = 1 / (1 + e^(-z))\n",
    "\n",
    "z = wx + b\n",
    "\n",
    "\n",
    "Y_hat --> predicted value\n",
    "\n",
    "X --> Input Variable\n",
    "\n",
    "w --> weight\n",
    "\n",
    "b --> bias\n",
    "\n",
    "\n",
    "\n"
   ]
  },
  {
   "cell_type": "markdown",
   "metadata": {},
   "source": [
    "**Gradient Descent:**\n",
    "The modified code for the markdown cell should be:\n",
    "\n",
    "**Gradient Descent:**\n",
    "\n",
    "Gradient Descent is an optimization algorithm used for minimizing the loss function in various machine learning algorithms. It is used for updating the parameters of the learning model.\n",
    "\n",
    "w  =  w - α*dw\n",
    "\n",
    "b  =  b - α*db\n",
    "\n",
    "Where:\n",
    "- dw = ∂L/∂w (partial derivative of loss function with respect to weight w)\n",
    "- db = ∂L/∂b (partial derivative of loss function with respect to bias b)\n",
    "- α = learning rate (step size for parameter updates)\n",
    "- L = loss function that measures prediction error\n",
    "- For logistic regression:\n",
    "    - dw = (1/m) * X^T * (A-Y)\n",
    "    - db = (1/m) * sum(A-Y)\n",
    "    where:\n",
    "    - m is number of training examples\n",
    "    - A is predicted output (sigmoid(z))\n",
    "    - Y is actual output"
   ]
  },
  {
   "cell_type": "markdown",
   "metadata": {},
   "source": [
    "**Learning Rate:**\n",
    "\n",
    "Learning rate is a tuning parameter in an optimization algorithm that determines the step size at each iteration while moving toward a minimum of a loss function."
   ]
  },
  {
   "cell_type": "code",
   "execution_count": 1,
   "metadata": {},
   "outputs": [],
   "source": [
    "# import numpy \n",
    "import numpy as np\n"
   ]
  },
  {
   "cell_type": "markdown",
   "metadata": {},
   "source": [
    "**Logistic Regression**"
   ]
  },
  {
   "cell_type": "code",
   "execution_count": 13,
   "metadata": {},
   "outputs": [],
   "source": [
    "class LogisticRegression():\n",
    "    \n",
    "    # declaing the learning rate and no of iterations\n",
    "    def __init__(self, learning_rate, no_of_iterations):\n",
    "        self.learning_rate = learning_rate\n",
    "        self.no_of_iterations = no_of_iterations\n",
    "        self.weights = None\n",
    "        self.bias = None\n",
    "    \n",
    "    # fit the model \n",
    "    def fit(self, X, Y):\n",
    "    # no of training examples and no of features\n",
    "        self.no_of_samples, self.no_of_features = X.shape\n",
    "    \n",
    "    # intialize the parameters weights and bias\n",
    "        self.weights = np.zeros(no_of_features)\n",
    "        self.bias = 0\n",
    "        self.X = X\n",
    "        self.Y = Y\n",
    "        \n",
    "    \n",
    "    # gradient descent\n",
    "        for i in range(self.no_of_iterations):\n",
    "            self.update_weights()\n",
    "    \n",
    "    \n",
    "    # sigmoid function for prediction\n",
    "    \n",
    "    \n",
    "    def update_weights(self):\n",
    "        \n",
<<<<<<< HEAD
    "        Y_hat = 1/ (1 + np.exp(-(np.dot(X, self.weights) + self.bias)))\n",
=======
    "        Y_hat = 1/ (1 + np.exp(-(np.dot(self.X, self.weights) + self.bias)))\n",
>>>>>>> 9e6fab0 (first commit)
    "        \n",
    "        # calculate the derivatives for logistic regression \n",
    "        dw = (1/self.no_of_samples) * np.dot(self.X.T, (Y_hat - self.Y))  # reason for taking transpose is to make the dot product possible because the dimensions of the matrices should be same\n",
    "        db = (1/self.no_of_samples) * np.sum(Y_hat - self.Y)\n",
    "        \n",
    "        self.weights -= self.learning_rate * dw\n",
    "        self.bias -= self.learning_rate * db\n",
    "        \n",
    "        \n",
    "    def predict(self, X):\n",
    "        '''\n",
    "        linear_model = np.dot(self.X, self.weights) + self.bias\n",
    "        Y_pred = self.sigmoid(linear_model)\n",
    "        return Y_pred\n",
    "        '''\n",
    "        Y_pred = 1/ (1 + np.exp(-(np.dot(X, self.weights) + self.bias)))\n",
    "        Y_pred = [1 if i > 0.5 else 0 for i in Y_pred]  # if the value is greater than 0.5 then it is 1 else 0\n",
    "        return Y_pred\n",
    "    # update the weights   \n",
    "    \n",
    "        "
   ]
  },
  {
   "cell_type": "code",
   "execution_count": null,
   "metadata": {},
   "outputs": [],
   "source": []
  }
 ],
 "metadata": {
  "kernelspec": {
   "display_name": ".venv",
   "language": "python",
   "name": "python3"
  },
  "language_info": {
   "codemirror_mode": {
    "name": "ipython",
    "version": 3
   },
   "file_extension": ".py",
   "mimetype": "text/x-python",
   "name": "python",
   "nbconvert_exporter": "python",
   "pygments_lexer": "ipython3",
   "version": "3.12.3"
  }
 },
 "nbformat": 4,
 "nbformat_minor": 2
}
