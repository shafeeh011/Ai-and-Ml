{
 "cells": [
  {
   "cell_type": "markdown",
   "metadata": {},
   "source": [
    "# Convelution Nural Network \n",
    "\n",
    "**Image Featuring and Classification**"
   ]
  },
  {
   "cell_type": "code",
   "execution_count": 138,
   "metadata": {},
   "outputs": [],
   "source": [
    "# import ilbraries\n",
    "import tensorflow as tf\n",
    "from tensorflow.keras import datasets, layers, models\n",
    "import matplotlib.pyplot as plt\n",
    "import numpy as np\n",
    "from tensorflow.keras.layers import Conv2D, MaxPooling2D,Dense, Flatten\n"
   ]
  },
  {
   "cell_type": "code",
   "execution_count": 139,
   "metadata": {},
   "outputs": [],
   "source": [
    "#(X_train, y_train), (X_test, y_test) = datasets.cifar10.load_data()\n",
    "#X_train.shape, X_test.shape"
   ]
  },
  {
   "cell_type": "code",
   "execution_count": 158,
   "metadata": {},
   "outputs": [],
   "source": [
    "import openml\n",
    "from sklearn.model_selection import train_test_split\n",
    "\n",
    "# Load the dataset using its OpenML ID\n",
    "dataset = openml.datasets.get_dataset(40927)  # Dataset ID 40927 on OpenML\n",
    "\n",
    "# Retrieve the data (features and target column)\n",
    "X, y, _, _ = dataset.get_data(target=dataset.default_target_attribute)\n",
    "\n"
   ]
  },
  {
   "cell_type": "code",
   "execution_count": 161,
   "metadata": {},
   "outputs": [
    {
     "name": "stdout",
     "output_type": "stream",
     "text": [
      "    a0   a1   a2   a3   a4   a5  ...  a3066  a3067  a3068  a3069  a3070  a3071\n",
      "0   26   17   13   13   13   14  ...     29     46     28     27     26     27\n",
      "1   94  101   95   94   94   97  ...    152    163    174    182    184    155\n",
      "2  183  158  166  167  169  171  ...    250    250    250    250    250    250\n",
      "3  255  254  255  255  255  255  ...    255    255    255    255    255    255\n",
      "4  182  156  156  144  118  132  ...     79     72     68     73     67     75\n",
      "\n",
      "[5 rows x 3072 columns]\n",
      "(60000, 3072)\n",
      "0    8\n",
      "1    5\n",
      "2    0\n",
      "3    6\n",
      "4    9\n",
      "Name: class, dtype: category\n",
      "Categories (10, object): ['0' < '1' < '2' < '3' ... '6' < '7' < '8' < '9']\n",
      "(60000,)\n"
     ]
    }
   ],
   "source": [
    "print(X.head())\n",
    "print(X.shape)\n",
    "\n",
    "print(y.head())\n",
    "print(y.shape)"
   ]
  },
  {
   "cell_type": "code",
   "execution_count": 162,
   "metadata": {},
   "outputs": [],
   "source": [
    "# here the data is converted to numpy array bcs it is in the form all three color channels are stored in  the featues in the data set\n",
    "\n",
    "\n",
    "X = X.to_numpy().reshape(-1, 32, 32, 3)\n",
    "y= y.to_numpy().reshape(-1,1)\n",
    "\n",
    "\n"
   ]
  },
  {
   "cell_type": "code",
   "execution_count": 163,
   "metadata": {},
   "outputs": [
    {
     "name": "stdout",
     "output_type": "stream",
     "text": [
      "Training Features: (50000, 32, 32, 3)\n",
      "Training Labels: (50000, 1)\n",
      "Test Features: (10000, 32, 32, 3)\n",
      "Test Labels: (10000, 1)\n"
     ]
    }
   ],
   "source": [
    "\n",
    "# Split the data into training and test sets (80% train, 20% test)\n",
    "X_train, X_test, y_train, y_test = train_test_split(X, y, test_size=0.166666, random_state=42)\n",
    "\n",
    "# Print the shapes of the training and test sets\n",
    "print(f\"Training Features: {X_train.shape}\")\n",
    "print(f\"Training Labels: {y_train.shape}\")\n",
    "print(f\"Test Features: {X_test.shape}\")\n",
    "print(f\"Test Labels: {y_test.shape}\")"
   ]
  },
  {
   "cell_type": "code",
   "execution_count": 164,
   "metadata": {},
   "outputs": [
    {
     "name": "stdout",
     "output_type": "stream",
     "text": [
      "[[6]\n",
      " [8]\n",
      " [8]\n",
      " [0]\n",
      " [8]]\n",
      "[[9]\n",
      " [1]\n",
      " [7]\n",
      " [0]\n",
      " [8]]\n"
     ]
    }
   ],
   "source": [
    "# and the y is in the form of labels all the integers stored as strings\n",
    "\n",
    "y_train = np.vectorize(int)(y_train)\n",
    "y_test = np.vectorize(int)(y_test)\n",
    "print(y_test[:5])\n",
    "print(y_train[:5])"
   ]
  },
  {
   "cell_type": "code",
   "execution_count": 145,
   "metadata": {},
   "outputs": [
    {
     "data": {
      "text/plain": [
       "(10000, 32, 32, 3)"
      ]
     },
     "execution_count": 145,
     "metadata": {},
     "output_type": "execute_result"
    }
   ],
   "source": [
    "X_test.shape"
   ]
  },
  {
   "cell_type": "code",
   "execution_count": 146,
   "metadata": {},
   "outputs": [
    {
     "data": {
      "text/plain": [
       "array([9, 1, 7, 0, 8])"
      ]
     },
     "execution_count": 146,
     "metadata": {},
     "output_type": "execute_result"
    }
   ],
   "source": [
    "y_train = y_train.reshape(-1,)\n",
    "y_test = y_test.reshape(-1,)\n",
    "y_train[:5]"
   ]
  },
  {
   "cell_type": "code",
   "execution_count": 147,
   "metadata": {},
   "outputs": [
    {
     "name": "stdout",
     "output_type": "stream",
     "text": [
      "['airplane', 'car', 'bird', 'cat', 'deer', 'dog', 'frog', 'horse', 'ship', 'truck']\n"
     ]
    }
   ],
   "source": [
    "classes = [\"airplane\", \"car\", \"bird\", \"cat\", \"deer\", \"dog\", \"frog\", \"horse\", \"ship\", \"truck\"]\n",
    "\n",
    "print(classes)"
   ]
  },
  {
   "cell_type": "code",
   "execution_count": 148,
   "metadata": {},
   "outputs": [],
   "source": [
    "def plot_sample(X, y, index):\n",
    "    plt.figure(figsize=(15,2))\n",
    "    plt.imshow(X[index])\n",
    "    plt.xlabel(classes[y[index]])"
   ]
  },
  {
   "cell_type": "code",
   "execution_count": 149,
   "metadata": {},
   "outputs": [
    {
     "data": {
      "image/png": "[encoded data removed]",
      "text/plain": [
       "<Figure size 1500x200 with 1 Axes>"
      ]
     },
     "metadata": {},
     "output_type": "display_data"
    }
   ],
   "source": [
    "plot_sample(X_train, y_train, 0)"
   ]
  },
  {
   "cell_type": "code",
   "execution_count": 150,
   "metadata": {},
   "outputs": [
    {
     "data": {
      "image/png": "[encoded data removed]",
      "text/plain": [
       "<Figure size 1500x200 with 1 Axes>"
      ]
     },
     "metadata": {},
     "output_type": "display_data"
    }
   ],
   "source": [
    "plot_sample(X_train, y_train, 1)"
   ]
  },
  {
   "cell_type": "code",
   "execution_count": 151,
   "metadata": {},
   "outputs": [
    {
     "data": {
      "text/plain": [
       "array([[[247, 239, 234],\n",
       "        [227, 221, 217],\n",
       "        [218, 221, 230],\n",
       "        ...,\n",
       "        [253, 254, 254],\n",
       "        [254, 254, 253],\n",
       "        [253, 254, 254]],\n",
       "\n",
       "       [[243, 232, 236],\n",
       "        [245, 247, 248],\n",
       "        [252, 254, 254],\n",
       "        ...,\n",
       "        [254, 254, 254],\n",
       "        [254, 254, 254],\n",
       "        [254, 254, 254]],\n",
       "\n",
       "       [[243, 234, 225],\n",
       "        [221, 207, 212],\n",
       "        [238, 253, 253],\n",
       "        ...,\n",
       "        [243, 250, 251],\n",
       "        [254, 255, 255],\n",
       "        [255, 255, 255]],\n",
       "\n",
       "       ...,\n",
       "\n",
       "       [[254, 251, 242],\n",
       "        [184, 121,  18],\n",
       "        [ 70, 191, 187],\n",
       "        ...,\n",
       "        [ 55,  42,  40],\n",
       "        [ 41,  40,  63],\n",
       "        [189, 218, 221]],\n",
       "\n",
       "       [[255, 253, 253],\n",
       "        [252, 248, 248],\n",
       "        [250, 251, 254],\n",
       "        ...,\n",
       "        [190, 196, 188],\n",
       "        [174, 200, 212],\n",
       "        [211, 220, 244]],\n",
       "\n",
       "       [[255, 253, 254],\n",
       "        [251, 250, 251],\n",
       "        [252, 254, 254],\n",
       "        ...,\n",
       "        [252, 253, 253],\n",
       "        [251, 252, 252],\n",
       "        [251, 253, 253]]], dtype=uint8)"
      ]
     },
     "execution_count": 151,
     "metadata": {},
     "output_type": "execute_result"
    }
   ],
   "source": [
    "X_train[0]"
   ]
  },
  {
   "cell_type": "code",
   "execution_count": 152,
   "metadata": {},
   "outputs": [
    {
     "data": {
      "text/plain": [
       "array([[[0.96862745, 0.9372549 , 0.91764706],\n",
       "        [0.89019608, 0.86666667, 0.85098039],\n",
       "        [0.85490196, 0.86666667, 0.90196078],\n",
       "        ...,\n",
       "        [0.99215686, 0.99607843, 0.99607843],\n",
       "        [0.99607843, 0.99607843, 0.99215686],\n",
       "        [0.99215686, 0.99607843, 0.99607843]],\n",
       "\n",
       "       [[0.95294118, 0.90980392, 0.9254902 ],\n",
       "        [0.96078431, 0.96862745, 0.97254902],\n",
       "        [0.98823529, 0.99607843, 0.99607843],\n",
       "        ...,\n",
       "        [0.99607843, 0.99607843, 0.99607843],\n",
       "        [0.99607843, 0.99607843, 0.99607843],\n",
       "        [0.99607843, 0.99607843, 0.99607843]],\n",
       "\n",
       "       [[0.95294118, 0.91764706, 0.88235294],\n",
       "        [0.86666667, 0.81176471, 0.83137255],\n",
       "        [0.93333333, 0.99215686, 0.99215686],\n",
       "        ...,\n",
       "        [0.95294118, 0.98039216, 0.98431373],\n",
       "        [0.99607843, 1.        , 1.        ],\n",
       "        [1.        , 1.        , 1.        ]],\n",
       "\n",
       "       ...,\n",
       "\n",
       "       [[0.99607843, 0.98431373, 0.94901961],\n",
       "        [0.72156863, 0.4745098 , 0.07058824],\n",
       "        [0.2745098 , 0.74901961, 0.73333333],\n",
       "        ...,\n",
       "        [0.21568627, 0.16470588, 0.15686275],\n",
       "        [0.16078431, 0.15686275, 0.24705882],\n",
       "        [0.74117647, 0.85490196, 0.86666667]],\n",
       "\n",
       "       [[1.        , 0.99215686, 0.99215686],\n",
       "        [0.98823529, 0.97254902, 0.97254902],\n",
       "        [0.98039216, 0.98431373, 0.99607843],\n",
       "        ...,\n",
       "        [0.74509804, 0.76862745, 0.7372549 ],\n",
       "        [0.68235294, 0.78431373, 0.83137255],\n",
       "        [0.82745098, 0.8627451 , 0.95686275]],\n",
       "\n",
       "       [[1.        , 0.99215686, 0.99607843],\n",
       "        [0.98431373, 0.98039216, 0.98431373],\n",
       "        [0.98823529, 0.99607843, 0.99607843],\n",
       "        ...,\n",
       "        [0.98823529, 0.99215686, 0.99215686],\n",
       "        [0.98431373, 0.98823529, 0.98823529],\n",
       "        [0.98431373, 0.99215686, 0.99215686]]])"
      ]
     },
     "execution_count": 152,
     "metadata": {},
     "output_type": "execute_result"
    }
   ],
   "source": [
    "# notmalizing the data\n",
    "X_train = X_train / 255.0\n",
    "X_test = X_test / 255.0\n",
    "\n",
    "X_train[0]"
   ]
  },
  {
   "cell_type": "code",
   "execution_count": 153,
   "metadata": {},
   "outputs": [
    {
     "data": {
      "text/plain": [
       "array([9, 1, 7, 0, 8])"
      ]
     },
     "execution_count": 153,
     "metadata": {},
     "output_type": "execute_result"
    }
   ],
   "source": [
    "y_train[:5]"
   ]
  },
  {
   "cell_type": "code",
   "execution_count": 165,
   "metadata": {},
   "outputs": [
    {
     "name": "stderr",
     "output_type": "stream",
     "text": [
      "/home/muhammed-shafeeh/AI_ML/Ai-and-Ml/.venv/lib/python3.12/site-packages/keras/src/layers/reshaping/flatten.py:37: UserWarning: Do not pass an `input_shape`/`input_dim` argument to a layer. When using Sequential models, prefer using an `Input(shape)` object as the first layer in the model instead.\n",
      "  super().__init__(**kwargs)\n"
     ]
    },
    {
     "name": "stdout",
     "output_type": "stream",
     "text": [
      "Epoch 1/5\n",
      "\u001b[1m1563/1563\u001b[0m \u001b[32m━━━━━━━━━━━━━━━━━━━━\u001b[0m\u001b[37m\u001b[0m \u001b[1m45s\u001b[0m 29ms/step - accuracy: 0.0996 - loss: nan\n",
      "Epoch 2/5\n",
      "\u001b[1m1563/1563\u001b[0m \u001b[32m━━━━━━━━━━━━━━━━━━━━\u001b[0m\u001b[37m\u001b[0m \u001b[1m47s\u001b[0m 30ms/step - accuracy: 0.0997 - loss: nan\n",
      "Epoch 3/5\n",
      "\u001b[1m1563/1563\u001b[0m \u001b[32m━━━━━━━━━━━━━━━━━━━━\u001b[0m\u001b[37m\u001b[0m \u001b[1m48s\u001b[0m 31ms/step - accuracy: 0.1016 - loss: nan\n",
      "Epoch 4/5\n",
      "\u001b[1m1563/1563\u001b[0m \u001b[32m━━━━━━━━━━━━━━━━━━━━\u001b[0m\u001b[37m\u001b[0m \u001b[1m46s\u001b[0m 29ms/step - accuracy: 0.1019 - loss: nan\n",
      "Epoch 5/5\n",
      "\u001b[1m1563/1563\u001b[0m \u001b[32m━━━━━━━━━━━━━━━━━━━━\u001b[0m\u001b[37m\u001b[0m \u001b[1m47s\u001b[0m 30ms/step - accuracy: 0.0999 - loss: nan\n"
     ]
    },
    {
     "data": {
      "text/plain": [
       "<keras.src.callbacks.history.History at 0x71db48dda000>"
      ]
     },
     "execution_count": 165,
     "metadata": {},
     "output_type": "execute_result"
    }
   ],
   "source": [
    "ann = models.Sequential([\n",
    "    layers.Flatten(input_shape=(32, 32, 3)),\n",
    "    layers.Dense(3000, activation='relu'),\n",
    "    layers.Dense(1000, activation='relu'),\n",
    "    layers.Dense(100, activation='sigmoid'),\n",
    "])\n",
    "ann.compile(optimizer='SGD',\n",
    "              loss='sparse_categorical_crossentropy',\n",
    "              metrics=['accuracy'])\n",
    "\n",
    "ann.fit(X_train, y_train, epochs=5)\n"
   ]
  },
  {
   "cell_type": "code",
   "execution_count": 166,
   "metadata": {},
   "outputs": [
    {
     "name": "stdout",
     "output_type": "stream",
     "text": [
      "\u001b[1m313/313\u001b[0m \u001b[32m━━━━━━━━━━━━━━━━━━━━\u001b[0m\u001b[37m\u001b[0m \u001b[1m3s\u001b[0m 9ms/step - accuracy: 0.1026 - loss: nan\n"
     ]
    },
    {
     "data": {
      "text/plain": [
       "[nan, 0.10080000013113022]"
      ]
     },
     "execution_count": 166,
     "metadata": {},
     "output_type": "execute_result"
    }
   ],
   "source": [
    "ann.evaluate(X_test, y_test)"
   ]
  },
  {
   "cell_type": "code",
   "execution_count": 167,
   "metadata": {},
   "outputs": [
    {
     "name": "stdout",
     "output_type": "stream",
     "text": [
      "\u001b[1m313/313\u001b[0m \u001b[32m━━━━━━━━━━━━━━━━━━━━\u001b[0m\u001b[37m\u001b[0m \u001b[1m3s\u001b[0m 8ms/step\n",
      "\u001b[1m313/313\u001b[0m \u001b[32m━━━━━━━━━━━━━━━━━━━━\u001b[0m\u001b[37m\u001b[0m \u001b[1m3s\u001b[0m 8ms/step\n",
      "classification report: \n",
      "               precision    recall  f1-score   support\n",
      "\n",
      "           0       0.10      1.00      0.18      1008\n",
      "           1       0.00      0.00      0.00       995\n",
      "           2       0.00      0.00      0.00      1041\n",
      "           3       0.00      0.00      0.00      1003\n",
      "           4       0.00      0.00      0.00       967\n",
      "           5       0.00      0.00      0.00       988\n",
      "           6       0.00      0.00      0.00       990\n",
      "           7       0.00      0.00      0.00      1058\n",
      "           8       0.00      0.00      0.00       975\n",
      "           9       0.00      0.00      0.00       975\n",
      "\n",
      "    accuracy                           0.10     10000\n",
      "   macro avg       0.01      0.10      0.02     10000\n",
      "weighted avg       0.01      0.10      0.02     10000\n",
      "\n",
      "[0 0 0 0 0]\n",
      "[[6]\n",
      " [8]\n",
      " [8]\n",
      " [0]\n",
      " [8]]\n"
     ]
    },
    {
     "name": "stderr",
     "output_type": "stream",
     "text": [
      "/home/muhammed-shafeeh/AI_ML/Ai-and-Ml/.venv/lib/python3.12/site-packages/sklearn/metrics/_classification.py:1565: UndefinedMetricWarning: Precision is ill-defined and being set to 0.0 in labels with no predicted samples. Use `zero_division` parameter to control this behavior.\n",
      "  _warn_prf(average, modifier, f\"{metric.capitalize()} is\", len(result))\n",
      "/home/muhammed-shafeeh/AI_ML/Ai-and-Ml/.venv/lib/python3.12/site-packages/sklearn/metrics/_classification.py:1565: UndefinedMetricWarning: Precision is ill-defined and being set to 0.0 in labels with no predicted samples. Use `zero_division` parameter to control this behavior.\n",
      "  _warn_prf(average, modifier, f\"{metric.capitalize()} is\", len(result))\n",
      "/home/muhammed-shafeeh/AI_ML/Ai-and-Ml/.venv/lib/python3.12/site-packages/sklearn/metrics/_classification.py:1565: UndefinedMetricWarning: Precision is ill-defined and being set to 0.0 in labels with no predicted samples. Use `zero_division` parameter to control this behavior.\n",
      "  _warn_prf(average, modifier, f\"{metric.capitalize()} is\", len(result))\n"
     ]
    }
   ],
   "source": [
    "from sklearn.metrics import confusion_matrix, classification_report\n",
    "y_pred = ann.predict(X_test)\n",
    "y_pred = ann.predict(X_test)\n",
    "y_pred = np.argmax(y_pred, axis=1)\n",
    "print(\"classification report: \\n\", classification_report(y_test, y_pred))\n",
    "print(y_pred[:5])\n",
    "print(y_test[:5])\n",
    "#print(\"classification report: \\n\", classification_report(y_test, y_pred))"
   ]
  },
  {
   "cell_type": "markdown",
   "metadata": {},
   "source": [
    "**Pooling Layers**"
   ]
  },
  {
   "cell_type": "code",
   "execution_count": 168,
   "metadata": {},
   "outputs": [
    {
     "name": "stderr",
     "output_type": "stream",
     "text": [
      "/home/muhammed-shafeeh/AI_ML/Ai-and-Ml/.venv/lib/python3.12/site-packages/keras/src/layers/convolutional/base_conv.py:107: UserWarning: Do not pass an `input_shape`/`input_dim` argument to a layer. When using Sequential models, prefer using an `Input(shape)` object as the first layer in the model instead.\n",
      "  super().__init__(activity_regularizer=activity_regularizer, **kwargs)\n"
     ]
    }
   ],
   "source": [
    "cnn = models.Sequential([\n",
    "    \n",
    "    \n",
    "    #cnn\n",
    "    layers.Conv2D(filters=32, kernel_size = (3,3), activation='relu', input_shape=(32, 32, 3)),\n",
    "    layers.MaxPooling2D((2, 2)),\n",
    "    \n",
    "    layers.Conv2D(filters=64, kernel_size = (3,3), activation='relu'),\n",
    "    layers.MaxPooling2D((2, 2)),\n",
    "    #dense\n",
    "   \n",
    "    layers.Flatten(),\n",
    "    \n",
    "    layers.Dense(64, activation='relu'),\n",
    "    layers.Dense(10, activation='softmax'),\n",
    "])"
   ]
  },
  {
   "cell_type": "code",
   "execution_count": 170,
   "metadata": {},
   "outputs": [
    {
     "name": "stdout",
     "output_type": "stream",
     "text": [
      "Epoch 1/10\n",
      "\u001b[1m1563/1563\u001b[0m \u001b[32m━━━━━━━━━━━━━━━━━━━━\u001b[0m\u001b[37m\u001b[0m \u001b[1m14s\u001b[0m 8ms/step - accuracy: 0.1046 - loss: 4.0311\n",
      "Epoch 2/10\n",
      "\u001b[1m1563/1563\u001b[0m \u001b[32m━━━━━━━━━━━━━━━━━━━━\u001b[0m\u001b[37m\u001b[0m \u001b[1m13s\u001b[0m 8ms/step - accuracy: 0.0975 - loss: 2.3026\n",
      "Epoch 3/10\n",
      "\u001b[1m1563/1563\u001b[0m \u001b[32m━━━━━━━━━━━━━━━━━━━━\u001b[0m\u001b[37m\u001b[0m \u001b[1m13s\u001b[0m 8ms/step - accuracy: 0.0994 - loss: 2.3032\n",
      "Epoch 4/10\n",
      "\u001b[1m1563/1563\u001b[0m \u001b[32m━━━━━━━━━━━━━━━━━━━━\u001b[0m\u001b[37m\u001b[0m \u001b[1m13s\u001b[0m 8ms/step - accuracy: 0.0991 - loss: 2.3029\n",
      "Epoch 5/10\n",
      "\u001b[1m1563/1563\u001b[0m \u001b[32m━━━━━━━━━━━━━━━━━━━━\u001b[0m\u001b[37m\u001b[0m \u001b[1m13s\u001b[0m 8ms/step - accuracy: 0.1017 - loss: 2.3027\n",
      "Epoch 6/10\n",
      "\u001b[1m1563/1563\u001b[0m \u001b[32m━━━━━━━━━━━━━━━━━━━━\u001b[0m\u001b[37m\u001b[0m \u001b[1m13s\u001b[0m 8ms/step - accuracy: 0.0972 - loss: 2.3028\n",
      "Epoch 7/10\n",
      "\u001b[1m1563/1563\u001b[0m \u001b[32m━━━━━━━━━━━━━━━━━━━━\u001b[0m\u001b[37m\u001b[0m \u001b[1m13s\u001b[0m 8ms/step - accuracy: 0.0960 - loss: 2.3028\n",
      "Epoch 8/10\n",
      "\u001b[1m1563/1563\u001b[0m \u001b[32m━━━━━━━━━━━━━━━━━━━━\u001b[0m\u001b[37m\u001b[0m \u001b[1m13s\u001b[0m 8ms/step - accuracy: 0.0966 - loss: 2.3028\n",
      "Epoch 9/10\n",
      "\u001b[1m1563/1563\u001b[0m \u001b[32m━━━━━━━━━━━━━━━━━━━━\u001b[0m\u001b[37m\u001b[0m \u001b[1m13s\u001b[0m 8ms/step - accuracy: 0.0958 - loss: 2.3028\n",
      "Epoch 10/10\n",
      "\u001b[1m1563/1563\u001b[0m \u001b[32m━━━━━━━━━━━━━━━━━━━━\u001b[0m\u001b[37m\u001b[0m \u001b[1m13s\u001b[0m 8ms/step - accuracy: 0.1010 - loss: 2.3027\n"
     ]
    },
    {
     "data": {
      "text/plain": [
       "<keras.src.callbacks.history.History at 0x71db48de4890>"
      ]
     },
     "execution_count": 170,
     "metadata": {},
     "output_type": "execute_result"
    }
   ],
   "source": [
    "cnn.compile(optimizer='adam',\n",
    "              loss='sparse_categorical_crossentropy',\n",
    "              metrics=['accuracy'])\n",
    "\n",
    "cnn.fit(X_train, y_train, epochs=10)\n"
   ]
  },
  {
   "cell_type": "code",
   "execution_count": 171,
   "metadata": {},
   "outputs": [
    {
     "name": "stdout",
     "output_type": "stream",
     "text": [
      "\u001b[1m313/313\u001b[0m \u001b[32m━━━━━━━━━━━━━━━━━━━━\u001b[0m\u001b[37m\u001b[0m \u001b[1m1s\u001b[0m 3ms/step - accuracy: 0.1017 - loss: 2.3028\n"
     ]
    },
    {
     "data": {
      "text/plain": [
       "[2.3028881549835205, 0.10029999911785126]"
      ]
     },
     "execution_count": 171,
     "metadata": {},
     "output_type": "execute_result"
    }
   ],
   "source": [
    "cnn.evaluate(X_test, y_test)"
   ]
  },
  {
   "cell_type": "code",
   "execution_count": 178,
   "metadata": {},
   "outputs": [
    {
     "data": {
      "image/png": "[encoded data removed]",
      "text/plain": [
       "<Figure size 1500x200 with 1 Axes>"
      ]
     },
     "metadata": {},
     "output_type": "display_data"
    }
   ],
   "source": [
    "y_test = y_test.reshape(-1,)\n",
    "plot_sample(X_test, y_test, 1)"
   ]
  },
  {
   "cell_type": "code",
   "execution_count": 173,
   "metadata": {},
   "outputs": [
    {
     "name": "stdout",
     "output_type": "stream",
     "text": [
      "\u001b[1m313/313\u001b[0m \u001b[32m━━━━━━━━━━━━━━━━━━━━\u001b[0m\u001b[37m\u001b[0m \u001b[1m1s\u001b[0m 3ms/step\n"
     ]
    },
    {
     "data": {
      "text/plain": [
       "array([[0.09976213, 0.10036969, 0.09908125, 0.1029586 , 0.10080069,\n",
       "        0.10008366, 0.09936823, 0.09751515, 0.10135711, 0.09870349],\n",
       "       [0.09976213, 0.10036969, 0.09908125, 0.1029586 , 0.10080069,\n",
       "        0.10008366, 0.09936823, 0.09751515, 0.10135711, 0.09870349],\n",
       "       [0.09976213, 0.10036969, 0.09908125, 0.1029586 , 0.10080069,\n",
       "        0.10008366, 0.09936823, 0.09751515, 0.10135711, 0.09870349],\n",
       "       [0.09976213, 0.10036969, 0.09908125, 0.1029586 , 0.10080069,\n",
       "        0.10008366, 0.09936823, 0.09751515, 0.10135711, 0.09870349],\n",
       "       [0.09976213, 0.10036969, 0.09908125, 0.1029586 , 0.10080069,\n",
       "        0.10008366, 0.09936823, 0.09751515, 0.10135711, 0.09870349]],\n",
       "      dtype=float32)"
      ]
     },
     "execution_count": 173,
     "metadata": {},
     "output_type": "execute_result"
    }
   ],
   "source": [
    "y_pred = cnn.predict(X_test)\n",
    "y_pred[:5]"
   ]
  },
  {
   "cell_type": "code",
   "execution_count": 174,
   "metadata": {},
   "outputs": [],
   "source": [
    "y_pred = np.argmax(y_pred, axis=1)"
   ]
  },
  {
   "cell_type": "code",
   "execution_count": 175,
   "metadata": {},
   "outputs": [
    {
     "data": {
      "text/plain": [
       "array([3, 3, 3, 3, 3])"
      ]
     },
     "execution_count": 175,
     "metadata": {},
     "output_type": "execute_result"
    }
   ],
   "source": [
    "y_pred[:5]"
   ]
  },
  {
   "cell_type": "code",
   "execution_count": 176,
   "metadata": {},
   "outputs": [
    {
     "data": {
      "text/plain": [
       "array([[6],\n",
       "       [8],\n",
       "       [8],\n",
       "       [0],\n",
       "       [8]])"
      ]
     },
     "execution_count": 176,
     "metadata": {},
     "output_type": "execute_result"
    }
   ],
   "source": [
    "y_test[:5]"
   ]
  },
  {
   "cell_type": "code",
   "execution_count": 179,
   "metadata": {},
   "outputs": [
    {
     "data": {
      "image/png": "[encoded data removed]",
      "text/plain": [
       "<Figure size 1500x200 with 1 Axes>"
      ]
     },
     "metadata": {},
     "output_type": "display_data"
    }
   ],
   "source": [
    "plot_sample(X_test, y_test, 1)"
   ]
  },
  {
   "cell_type": "code",
   "execution_count": 180,
   "metadata": {},
   "outputs": [
    {
     "data": {
      "text/plain": [
       "'cat'"
      ]
     },
     "execution_count": 180,
     "metadata": {},
     "output_type": "execute_result"
    }
   ],
   "source": [
    "y_pred[1]\n",
    "classes[y_pred[1]]\n"
   ]
  },
  {
   "cell_type": "code",
   "execution_count": 181,
   "metadata": {},
   "outputs": [
    {
     "data": {
      "image/png": "[encoded data removed]",
      "text/plain": [
       "<Figure size 1500x200 with 1 Axes>"
      ]
     },
     "metadata": {},
     "output_type": "display_data"
    }
   ],
   "source": [
    "plot_sample(X_test, y_pred, 1)"
   ]
  },
  {
   "cell_type": "code",
   "execution_count": null,
   "metadata": {},
   "outputs": [],
   "source": []
  }
 ],
 "metadata": {
  "kernelspec": {
   "display_name": ".venv",
   "language": "python",
   "name": "python3"
  },
  "language_info": {
   "codemirror_mode": {
    "name": "ipython",
    "version": 3
   },
   "file_extension": ".py",
   "mimetype": "text/x-python",
   "name": "python",
   "nbconvert_exporter": "python",
   "pygments_lexer": "ipython3",
   "version": "3.12.3"
  }
 },
 "nbformat": 4,
 "nbformat_minor": 2
}
